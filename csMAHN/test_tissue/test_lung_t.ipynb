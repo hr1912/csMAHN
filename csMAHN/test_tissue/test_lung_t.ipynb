{
 "cells": [
  {
   "cell_type": "code",
   "execution_count": null,
   "metadata": {},
   "outputs": [
    {
     "ename": "",
     "evalue": "",
     "output_type": "error",
     "traceback": [
      "\u001b[1;31mRunning cells with 'schgnn' requires the ipykernel package.\n",
      "\u001b[1;31mRun the following command to install 'ipykernel' into the Python environment. \n",
      "\u001b[1;31mCommand: '/public/workspace/ruru_97/.virtualenvs/schgnn/bin/python -m pip install ipykernel -U --force-reinstall'"
     ]
    }
   ],
   "source": [
    "import sys\n",
    "import os\n",
    "import time\n",
    "import scanpy as sc\n",
    "import warnings\n",
    "warnings.filterwarnings(\"ignore\")\n",
    "\n",
    "sys.path.append('/public/workspace/ruru_97/projects/schgnn/csMAHN')\n",
    "import utils.preprocess as pp\n",
    "from utils.utility import *\n",
    "from utils.train import Trainer\n",
    "from utils.plot import plot_umap"
   ]
  },
  {
   "cell_type": "code",
   "execution_count": null,
   "metadata": {},
   "outputs": [
    {
     "ename": "",
     "evalue": "",
     "output_type": "error",
     "traceback": [
      "\u001b[1;31m运行具有“csMAHN”的单元格需要ipykernel包。\n",
      "\u001b[1;31m运行以下命令，将 \"ipykernel\" 安装到 Python 环境中。\n",
      "\u001b[1;31m命令: \"conda install -n csMAHN ipykernel --update-deps --force-reinstall\""
     ]
    }
   ],
   "source": [
    "reverse=False\n",
    "aligned=True\n",
    "tissue = \"lung\"\n",
    "gse_ids = [\"GSE127465\",\"GSE127465\"]\n",
    "species = ('human', 'mouse')\n",
    "dsnames = ('human_t', 'mouse_t')\n",
    "path_data='/public/workspace/ruru_97/projects/data'\n",
    "resdir='/public/workspace/ruru_97/projects/schgnn/result'\n",
    "homo_method='biomart'\n",
    "key_class='cell_type'\n",
    "n_hvgs=2000\n",
    "n_degs=50\n",
    "\n",
    "seed = 123\n",
    "stages=[200, 200, 200]\n",
    "nfeats=64  # enbedding size #128\n",
    "hidden=64 # 128\n",
    "input_drop=0.2\n",
    "att_drop=0.2\n",
    "residual=True\n",
    "\n",
    "threshold=0.9 # 0.8\n",
    "lr=0.01  # lr = 0.01\n",
    "weight_decay=0.001\n",
    "patience=100\n",
    "enhance_gama=10\n",
    "simi_gama=0.1 "
   ]
  },
  {
   "cell_type": "code",
   "execution_count": null,
   "metadata": {},
   "outputs": [
    {
     "ename": "",
     "evalue": "",
     "output_type": "error",
     "traceback": [
      "\u001b[1;31m运行具有“csMAHN”的单元格需要ipykernel包。\n",
      "\u001b[1;31m运行以下命令，将 \"ipykernel\" 安装到 Python 环境中。\n",
      "\u001b[1;31m命令: \"conda install -n csMAHN ipykernel --update-deps --force-reinstall\""
     ]
    }
   ],
   "source": [
    "# reverse reference to query, query to reference.\n",
    "if reverse:\n",
    "    gse_ids = gse_ids[::-1]\n",
    "    species = species[::-1]\n",
    "    dsnames = dsnames[::-1]\n",
    "seed_all(seed)\n",
    "path_homo = f'{path_data}/homo/{homo_method}/input/{species[0]}_to_{species[1]}.txt'\n",
    "path_specie_1 = f'{path_data}/ByTissue/{tissue}/{gse_ids[0]}/input/{dsnames[0]}.h5ad'\n",
    "path_specie_2 = f'{path_data}/ByTissue/{tissue}/{gse_ids[1]}/input/{dsnames[1]}.h5ad'\n",
    "\n",
    "# make file to save\n",
    "time_tag = make_nowtime_tag()\n",
    "curdir = f'{resdir}/{tissue}/{tissue}-{gse_ids[0]}_{dsnames[0]}-{gse_ids[1]}_{dsnames[1]}-{time_tag}'\n",
    "model_dir = os.path.join(curdir, 'model_')\n",
    "figdir = os.path.join(curdir, 'fig_')\n",
    "os.mkdir(curdir)\n",
    "os.mkdir(figdir)\n",
    "os.mkdir(model_dir)\n",
    "checkpt_file = model_dir + \"/mutistages\"\n",
    "print(checkpt_file)\n",
    "\n",
    "for i in range(len(stages)):\n",
    "    res_dir = os.path.join(curdir, f'res_{i}')\n",
    "    os.mkdir(res_dir)\n",
    "homo = pd.read_csv(path_homo)\n",
    "adata_species_1 = sc.read_h5ad(path_specie_1)\n",
    "adata_species_2 = sc.read_h5ad(path_specie_2)\n",
    "\n",
    "if aligned:\n",
    "    adata_species_1, adata_species_2 = pp.aligned_type([adata_species_1, adata_species_2], 'cell_type')\n",
    "\n",
    "print(\n",
    "    f'Task: refernece:{gse_ids[0]}_{dsnames[0]} {adata_species_1.shape[0]} cells x {adata_species_1.shape[1]} gene -> query:{gse_ids[1]}_{dsnames[1]} {adata_species_2.shape[0]} cells x {adata_species_2.shape[1]} gene in {tissue}')"
   ]
  },
  {
   "cell_type": "code",
   "execution_count": null,
   "metadata": {},
   "outputs": [
    {
     "ename": "",
     "evalue": "",
     "output_type": "error",
     "traceback": [
      "\u001b[1;31m运行具有“csMAHN”的单元格需要ipykernel包。\n",
      "\u001b[1;31m运行以下命令，将 \"ipykernel\" 安装到 Python 环境中。\n",
      "\u001b[1;31m命令: \"conda install -n csMAHN ipykernel --update-deps --force-reinstall\""
     ]
    }
   ],
   "source": [
    "start = time.time()\n",
    "# knn时间较长\n",
    "adatas, features_genes, nodes_genes, scnets, one2one, n2n = pp.process_for_graph([adata_species_1, adata_species_2],\n",
    "                                                                                    homo,\n",
    "                                                                                    'cell_type',\n",
    "                                                                                    'leiden',\n",
    "                                                                                    n_hvgs=n_hvgs,\n",
    "                                                                                    n_degs=n_degs)\n",
    "g, inter_net, one2one_gene_nodes_net, cell_label, n_classes, list_idx = pp.make_graph(adatas,\n",
    "                                                                                        aligned,\n",
    "                                                                                        key_class,\n",
    "                                                                                        features_genes,\n",
    "                                                                                        nodes_genes,\n",
    "                                                                                        scnets,\n",
    "                                                                                        one2one,\n",
    "                                                                                        n2n,\n",
    "                                                                                        has_mnn=True,\n",
    "                                                                                        seed=seed)\n",
    "end = time.time()\n",
    "# 包括预处理时间\n",
    "print('Times preprocess for graph:{:.2f}'.format(end - start))"
   ]
  },
  {
   "cell_type": "code",
   "execution_count": null,
   "metadata": {},
   "outputs": [
    {
     "ename": "",
     "evalue": "",
     "output_type": "error",
     "traceback": [
      "\u001b[1;31m运行具有“csMAHN”的单元格需要ipykernel包。\n",
      "\u001b[1;31m运行以下命令，将 \"ipykernel\" 安装到 Python 环境中。\n",
      "\u001b[1;31m命令: \"conda install -n csMAHN ipykernel --update-deps --force-reinstall\""
     ]
    }
   ],
   "source": [
    "trainer = Trainer(adatas,\n",
    "                    g,\n",
    "                    inter_net,\n",
    "                    list_idx,\n",
    "                    cell_label,\n",
    "                    n_classes,\n",
    "                    threshold=threshold)\n",
    "trainer.train(curdir=curdir, \n",
    "            checkpt_file=checkpt_file,\n",
    "\n",
    "            nfeats=nfeats,\n",
    "            hidden=hidden,\n",
    "            enhance_gama=enhance_gama,\n",
    "            simi_gama=simi_gama)"
   ]
  }
 ],
 "metadata": {
  "kernelspec": {
   "display_name": "csMAHN",
   "language": "python",
   "name": "python3"
  },
  "language_info": {
   "codemirror_mode": {
    "name": "ipython",
    "version": 3
   },
   "file_extension": ".py",
   "mimetype": "text/x-python",
   "name": "python",
   "nbconvert_exporter": "python",
   "pygments_lexer": "ipython3",
   "version": "3.8.17"
  }
 },
 "nbformat": 4,
 "nbformat_minor": 2
}
