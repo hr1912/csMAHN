{
 "cells": [
  {
   "cell_type": "code",
   "execution_count": 1,
   "id": "5c46ee10-2932-48a5-959e-4ce6f74cecd4",
   "metadata": {},
   "outputs": [
    {
     "name": "stdout",
     "output_type": "stream",
     "text": [
      "\n",
      "cd ~/link/res_publish/run/plot\n",
      "conda activate\n",
      "jupyter nbconvert plot*.ipynb --to python\n",
      "conda activate publish\n",
      "\n",
      "# healty\n",
      "nohup python plot_healty_HCL_MCA.py True pdf  > /dev/null &\n",
      "nohup python plot_healty_Retina.py True pdf  > /dev/null &\n",
      "\n",
      "# disease\n",
      "nohup python plot_RA.py True pdf Seurat > /dev/null &\n",
      "nohup python plot_RA.py True pdf csMAHN > /dev/null &\n",
      "nohup python plot_RA.py True pdf came > /dev/null &\n",
      "nohup python plot_RA.py True pdf SAMap > /dev/null &\n",
      "\n",
      "rm plot*.py\n",
      "conda activate\n",
      "echo 'finish'\n",
      "\n",
      "jobs\n",
      "\n"
     ]
    }
   ],
   "source": [
    "def func(disease,model,fig_format='png'):\n",
    "    return \"\"\"nohup python plot_{}.py True {} {} > /dev/null &\"\"\".format(disease,fig_format,model)\n",
    "\n",
    "fig_format = 'pdf'\n",
    "\n",
    "command = \"\"\"\n",
    "cd ~/link/res_publish/run/plot\n",
    "conda activate\n",
    "jupyter nbconvert plot*.ipynb --to python\n",
    "conda activate publish\n",
    "\n",
    "# healty\n",
    "{}\n",
    "\n",
    "# disease\n",
    "{}\n",
    "\n",
    "rm plot*.py\n",
    "conda activate\n",
    "echo 'finish'\n",
    "\n",
    "jobs\n",
    "\"\"\".format(\n",
    "    '\\n'.join([\n",
    "        func(item,'',fig_format) \n",
    "        for item in 'healty_HCL_MCA,healty_Retina'.split(',')\n",
    "    ]\n",
    "    ),\n",
    "    '\\n'.join([\n",
    "        func(disease,model,fig_format) for disease in \n",
    "        'RA'.split(',')\n",
    "        # 'LC,Mtb,RA'.split(',')\n",
    "    for model in 'Seurat,csMAHN,came,SAMap'.split(',')\n",
    "        ])\n",
    ")\n",
    "\n",
    "print(command)\n",
    "\n",
    "from os import system\n",
    "# system(command)"
   ]
  }
 ],
 "metadata": {
  "kernelspec": {
   "display_name": "csMAHN",
   "language": "python",
   "name": "csmahn"
  },
  "language_info": {
   "codemirror_mode": {
    "name": "ipython",
    "version": 3
   },
   "file_extension": ".py",
   "mimetype": "text/x-python",
   "name": "python",
   "nbconvert_exporter": "python",
   "pygments_lexer": "ipython3",
   "version": "3.9.18"
  }
 },
 "nbformat": 4,
 "nbformat_minor": 5
}
