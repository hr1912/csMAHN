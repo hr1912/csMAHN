{
 "cells": [
  {
   "cell_type": "markdown",
   "id": "6d2de096-4be0-4c60-b9ca-24cea9b6dfff",
   "metadata": {},
   "source": [
    "# [msigdb](https://www.gsea-msigdb.org/gsea/msigdb/human/collections.jsp)"
   ]
  },
  {
   "cell_type": "code",
   "execution_count": 1,
   "id": "8b1be55e-28b4-49e8-9bd4-b5b692b67d15",
   "metadata": {
    "tags": []
   },
   "outputs": [],
   "source": [
    "from pathlib import Path\n",
    "import numpy as np\n",
    "import pandas as pd\n",
    "from collections import namedtuple"
   ]
  },
  {
   "cell_type": "code",
   "execution_count": 2,
   "id": "2893348d-ef20-4e38-809c-23cd2400edf1",
   "metadata": {},
   "outputs": [
    {
     "data": {
      "text/plain": [
       "PosixPath('m5.go.bp.v2023.2.Mm.symbols.gmt')"
      ]
     },
     "execution_count": 2,
     "metadata": {},
     "output_type": "execute_result"
    }
   ],
   "source": [
    "Path('m5.go.bp.v2023.2.Mm.symbols.gmt')"
   ]
  },
  {
   "cell_type": "code",
   "execution_count": 3,
   "id": "0c07d9de-59a3-4d94-91fc-b8aa4f9667f7",
   "metadata": {},
   "outputs": [],
   "source": [
    "def gmt_to_csv(p):\n",
    "    p_out = p.with_name('df_genesets_{}.csv'.format(p.stem))\n",
    "    if p_out.exists():\n",
    "        print('[has exists] {}'.format(p_out.name))\n",
    "        return\n",
    "    df = pd.read_csv(p,header=None,names=['line'])\n",
    "    df = df['line'].str.extract(\"^(?P<gs_name>[^\\t]+)\\t(?P<gs_desc>[^\\t]+)\\t(?P<gs_gene>.+)$\")\n",
    "    temp = []\n",
    "    for i,row in df.iterrows():\n",
    "        df_item = None\n",
    "        df_item = pd.DataFrame({\n",
    "        'gs_gene':row['gs_gene'].split('\\t')\n",
    "        })\n",
    "        df_item['gs_name'] = row['gs_name']\n",
    "        df_item['gs_desc'] = row['gs_desc']\n",
    "        temp.append(df_item)\n",
    "    \n",
    "    res = pd.concat(temp).loc[:,['gs_name','gs_desc','gs_gene']]\n",
    "    \n",
    "    res.to_csv(p_out,index=False)\n",
    "    print('[out] {}'.format(p_out.name))\n",
    "    # display(res.drop_duplicates('gs_name').head(2))\n",
    "    # del temp"
   ]
  },
  {
   "cell_type": "code",
   "execution_count": 4,
   "id": "830b63f8-248a-4634-ab58-785e3ace582b",
   "metadata": {},
   "outputs": [
    {
     "name": "stdout",
     "output_type": "stream",
     "text": [
      "[has exists] df_genesets_m2.cp.v2023.2.Mm.symbols.csv\n",
      "[has exists] df_genesets_c2.cp.v2023.2.Hs.symbols.csv\n",
      "[has exists] df_genesets_c5.go.bp.v2023.2.Hs.symbols.csv\n",
      "[has exists] df_genesets_m5.all.v2023.2.Mm.symbols.csv\n",
      "[has exists] df_genesets_m5.go.bp.v2023.2.Mm.symbols.csv\n",
      "[out] df_genesets_c5.all.v2023.2.Hs.symbols.csv\n"
     ]
    }
   ],
   "source": [
    "path_list  = [\n",
    "    Path('m2.cp.v2023.2.Mm.symbols.gmt'),\n",
    "    Path('c2.cp.v2023.2.Hs.symbols.gmt'),\n",
    "    Path('c5.go.bp.v2023.2.Hs.symbols.gmt'),\n",
    "    Path('m5.all.v2023.2.Mm.symbols.gmt'),\n",
    "    Path('m5.go.bp.v2023.2.Mm.symbols.gmt'),\n",
    "    Path('c5.all.v2023.2.Hs.symbols.gmt')\n",
    "             ]\n",
    "for _ in path_list:\n",
    "    gmt_to_csv(_)\n"
   ]
  },
  {
   "cell_type": "code",
   "execution_count": 5,
   "id": "39b2088b-010f-45f9-83fc-64e97fbba782",
   "metadata": {},
   "outputs": [
    {
     "data": {
      "text/html": [
       "<div>\n",
       "<style scoped>\n",
       "    .dataframe tbody tr th:only-of-type {\n",
       "        vertical-align: middle;\n",
       "    }\n",
       "\n",
       "    .dataframe tbody tr th {\n",
       "        vertical-align: top;\n",
       "    }\n",
       "\n",
       "    .dataframe thead th {\n",
       "        text-align: right;\n",
       "    }\n",
       "</style>\n",
       "<table border=\"1\" class=\"dataframe\">\n",
       "  <thead>\n",
       "    <tr style=\"text-align: right;\">\n",
       "      <th></th>\n",
       "      <th>path_list</th>\n",
       "      <th>path</th>\n",
       "      <th>name</th>\n",
       "      <th>version</th>\n",
       "      <th>label</th>\n",
       "    </tr>\n",
       "  </thead>\n",
       "  <tbody>\n",
       "    <tr>\n",
       "      <th>0</th>\n",
       "      <td>m2.cp.v2023.2.Mm.symbols.gmt</td>\n",
       "      <td>df_genesets_m2.cp.v2023.2.Mm.symbols.csv</td>\n",
       "      <td>m2.cp.v2023.2.Mm.symbols.gmt</td>\n",
       "      <td>v2023.2</td>\n",
       "      <td>m2.cp</td>\n",
       "    </tr>\n",
       "    <tr>\n",
       "      <th>1</th>\n",
       "      <td>c2.cp.v2023.2.Hs.symbols.gmt</td>\n",
       "      <td>df_genesets_c2.cp.v2023.2.Hs.symbols.csv</td>\n",
       "      <td>c2.cp.v2023.2.Hs.symbols.gmt</td>\n",
       "      <td>v2023.2</td>\n",
       "      <td>c2.cp</td>\n",
       "    </tr>\n",
       "    <tr>\n",
       "      <th>2</th>\n",
       "      <td>c5.go.bp.v2023.2.Hs.symbols.gmt</td>\n",
       "      <td>df_genesets_c5.go.bp.v2023.2.Hs.symbols.csv</td>\n",
       "      <td>c5.go.bp.v2023.2.Hs.symbols.gmt</td>\n",
       "      <td>v2023.2</td>\n",
       "      <td>c5.go.bp</td>\n",
       "    </tr>\n",
       "    <tr>\n",
       "      <th>3</th>\n",
       "      <td>m5.all.v2023.2.Mm.symbols.gmt</td>\n",
       "      <td>df_genesets_m5.all.v2023.2.Mm.symbols.csv</td>\n",
       "      <td>m5.all.v2023.2.Mm.symbols.gmt</td>\n",
       "      <td>v2023.2</td>\n",
       "      <td>m5.all</td>\n",
       "    </tr>\n",
       "    <tr>\n",
       "      <th>4</th>\n",
       "      <td>m5.go.bp.v2023.2.Mm.symbols.gmt</td>\n",
       "      <td>df_genesets_m5.go.bp.v2023.2.Mm.symbols.csv</td>\n",
       "      <td>m5.go.bp.v2023.2.Mm.symbols.gmt</td>\n",
       "      <td>v2023.2</td>\n",
       "      <td>m5.go.bp</td>\n",
       "    </tr>\n",
       "    <tr>\n",
       "      <th>5</th>\n",
       "      <td>c5.all.v2023.2.Hs.symbols.gmt</td>\n",
       "      <td>df_genesets_c5.all.v2023.2.Hs.symbols.csv</td>\n",
       "      <td>c5.all.v2023.2.Hs.symbols.gmt</td>\n",
       "      <td>v2023.2</td>\n",
       "      <td>c5.all</td>\n",
       "    </tr>\n",
       "  </tbody>\n",
       "</table>\n",
       "</div>"
      ],
      "text/plain": [
       "                         path_list  \\\n",
       "0     m2.cp.v2023.2.Mm.symbols.gmt   \n",
       "1     c2.cp.v2023.2.Hs.symbols.gmt   \n",
       "2  c5.go.bp.v2023.2.Hs.symbols.gmt   \n",
       "3    m5.all.v2023.2.Mm.symbols.gmt   \n",
       "4  m5.go.bp.v2023.2.Mm.symbols.gmt   \n",
       "5    c5.all.v2023.2.Hs.symbols.gmt   \n",
       "\n",
       "                                          path  \\\n",
       "0     df_genesets_m2.cp.v2023.2.Mm.symbols.csv   \n",
       "1     df_genesets_c2.cp.v2023.2.Hs.symbols.csv   \n",
       "2  df_genesets_c5.go.bp.v2023.2.Hs.symbols.csv   \n",
       "3    df_genesets_m5.all.v2023.2.Mm.symbols.csv   \n",
       "4  df_genesets_m5.go.bp.v2023.2.Mm.symbols.csv   \n",
       "5    df_genesets_c5.all.v2023.2.Hs.symbols.csv   \n",
       "\n",
       "                              name  version     label  \n",
       "0     m2.cp.v2023.2.Mm.symbols.gmt  v2023.2     m2.cp  \n",
       "1     c2.cp.v2023.2.Hs.symbols.gmt  v2023.2     c2.cp  \n",
       "2  c5.go.bp.v2023.2.Hs.symbols.gmt  v2023.2  c5.go.bp  \n",
       "3    m5.all.v2023.2.Mm.symbols.gmt  v2023.2    m5.all  \n",
       "4  m5.go.bp.v2023.2.Mm.symbols.gmt  v2023.2  m5.go.bp  \n",
       "5    c5.all.v2023.2.Hs.symbols.gmt  v2023.2    c5.all  "
      ]
     },
     "metadata": {},
     "output_type": "display_data"
    }
   ],
   "source": [
    "info = pd.DataFrame({\n",
    "    'path_list':path_list,\n",
    "    'path':[_.with_name('df_genesets_{}.csv'.format(_.stem))\n",
    "            for _ in path_list]\n",
    "    \n",
    "})\n",
    "info['name'] = info['path_list'].apply(lambda x:x.name)\n",
    "info['version'] = info['name'].str.extract('\\.(v20\\d{2}\\.?\\d*)\\.')\n",
    "info['label'] = info['name'].str.extract('^(.+)\\.v20\\d{2}\\.?\\d*\\.',expand=False)\n",
    "# assert info['label'].is_unique,'[Error] is not unique'\n",
    "display(info)\n",
    "\n",
    "info.to_csv('geneset_info.csv',index=False)"
   ]
  }
 ],
 "metadata": {
  "kernelspec": {
   "display_name": "csMAHN",
   "language": "python",
   "name": "csmahn"
  },
  "language_info": {
   "codemirror_mode": {
    "name": "ipython",
    "version": 3
   },
   "file_extension": ".py",
   "mimetype": "text/x-python",
   "name": "python",
   "nbconvert_exporter": "python",
   "pygments_lexer": "ipython3",
   "version": "3.9.18"
  }
 },
 "nbformat": 4,
 "nbformat_minor": 5
}
