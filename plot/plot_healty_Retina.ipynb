{
 "cells": [
  {
   "cell_type": "code",
   "execution_count": 1,
   "id": "71c5f699-1b45-427e-a9e5-bc2945264f18",
   "metadata": {},
   "outputs": [],
   "source": [
    "import sys\n",
    "from pathlib import Path\n",
    "p_link = Path(\"/public/workspace/licanchengup/link\")\n",
    "p_publish = p_link.joinpath(\"res_publish\")\n",
    "None if str(p_publish) in sys.path else sys.path.append(str(p_publish))"
   ]
  },
  {
   "cell_type": "code",
   "execution_count": 2,
   "id": "efcb78e1-9837-42b1-9320-7b5a00213a7d",
   "metadata": {
    "scrolled": true
   },
   "outputs": [
    {
     "name": "stderr",
     "output_type": "stream",
     "text": [
      "/public/workspace/licanchengup/apps/miniconda3/envs/publish/lib/python3.9/site-packages/tqdm/auto.py:21: TqdmWarning: IProgress not found. Please update jupyter and ipywidgets. See https://ipywidgets.readthedocs.io/en/stable/user_install.html\n",
      "  from .autonotebook import tqdm as notebook_tqdm\n",
      "2024-03-24 16:48:02.376565: I tensorflow/core/platform/cpu_feature_guard.cc:182] This TensorFlow binary is optimized to use available CPU instructions in performance-critical operations.\n",
      "To enable the following instructions: SSE4.1 SSE4.2 AVX AVX2 AVX512F FMA, in other operations, rebuild TensorFlow with the appropriate compiler flags.\n"
     ]
    }
   ],
   "source": [
    "from func import *\n",
    "# cm = mpl.colormaps.get_cmap('BuGn')\n",
    "cm = plt.get_cmap(\"coolwarm\")\n",
    "item = 'healty_Retina'\n",
    "fig_format = 'png'"
   ]
  },
  {
   "cell_type": "markdown",
   "id": "26cc5874-0b97-4a0d-a149-df3996c7b770",
   "metadata": {},
   "source": [
    "# get res info"
   ]
  },
  {
   "cell_type": "code",
   "execution_count": 3,
   "id": "4f9b4dbf-bb7e-4618-bca7-a0cca4855767",
   "metadata": {
    "scrolled": true
   },
   "outputs": [
    {
     "name": "stdout",
     "output_type": "stream",
     "text": [
      "\n",
      "[extract]\n",
      "^(?P<tissue>.+)_(?P<sp_ref>.+)-corss-(?P<sp_que>.+);(?P<model>came|csMAHN|Seurat|SAMap);(?P<name_ref>[\\w-]+)-map-(?P<name_que>[[\\w-]+);?(?P<resdir_tag>.+)?$\n"
     ]
    },
    {
     "name": "stderr",
     "output_type": "stream",
     "text": [
      "/public/workspace/licanchengup/apps/miniconda3/envs/publish/lib/python3.9/site-packages/pandas/core/strings/accessor.py:2738: FutureWarning: Possible nested set at position 127\n",
      "  regex = re.compile(pat, flags=flags)\n"
     ]
    },
    {
     "data": {
      "text/html": [
       "<div>\n",
       "<style scoped>\n",
       "    .dataframe tbody tr th:only-of-type {\n",
       "        vertical-align: middle;\n",
       "    }\n",
       "\n",
       "    .dataframe tbody tr th {\n",
       "        vertical-align: top;\n",
       "    }\n",
       "\n",
       "    .dataframe thead th {\n",
       "        text-align: right;\n",
       "    }\n",
       "</style>\n",
       "<table border=\"1\" class=\"dataframe\">\n",
       "  <thead>\n",
       "    <tr style=\"text-align: right;\">\n",
       "      <th></th>\n",
       "      <th>dir</th>\n",
       "      <th>name</th>\n",
       "      <th>tissue</th>\n",
       "      <th>sp_ref</th>\n",
       "      <th>sp_que</th>\n",
       "      <th>model</th>\n",
       "      <th>name_ref</th>\n",
       "      <th>name_que</th>\n",
       "      <th>resdir_tag</th>\n",
       "      <th>is_1v1</th>\n",
       "      <th>model_mask</th>\n",
       "      <th>F1-score</th>\n",
       "      <th>Accuracy</th>\n",
       "    </tr>\n",
       "  </thead>\n",
       "  <tbody>\n",
       "    <tr>\n",
       "      <th>retina;zc;came</th>\n",
       "      <td>/public/workspace/licanchengup/link/res_publis...</td>\n",
       "      <td>retina_z-corss-c;came;zebrafish_Adult-map-chic...</td>\n",
       "      <td>retina</td>\n",
       "      <td>z</td>\n",
       "      <td>c</td>\n",
       "      <td>came</td>\n",
       "      <td>zebrafish_Adult</td>\n",
       "      <td>chicken_P10</td>\n",
       "      <td>epochs=500;is_1v1=False</td>\n",
       "      <td></td>\n",
       "      <td>came</td>\n",
       "      <td>89.33</td>\n",
       "      <td>89.22</td>\n",
       "    </tr>\n",
       "    <tr>\n",
       "      <th>retina;zc;came_1v1</th>\n",
       "      <td>/public/workspace/licanchengup/link/res_publis...</td>\n",
       "      <td>retina_z-corss-c;came;zebrafish_Adult-map-chic...</td>\n",
       "      <td>retina</td>\n",
       "      <td>z</td>\n",
       "      <td>c</td>\n",
       "      <td>came</td>\n",
       "      <td>zebrafish_Adult</td>\n",
       "      <td>chicken_P10</td>\n",
       "      <td>epochs=500;is_1v1=True</td>\n",
       "      <td>_1v1</td>\n",
       "      <td>came_1v1</td>\n",
       "      <td>72.01</td>\n",
       "      <td>77.33</td>\n",
       "    </tr>\n",
       "  </tbody>\n",
       "</table>\n",
       "</div>"
      ],
      "text/plain": [
       "                                                                  dir  \\\n",
       "retina;zc;came      /public/workspace/licanchengup/link/res_publis...   \n",
       "retina;zc;came_1v1  /public/workspace/licanchengup/link/res_publis...   \n",
       "\n",
       "                                                                 name  tissue  \\\n",
       "retina;zc;came      retina_z-corss-c;came;zebrafish_Adult-map-chic...  retina   \n",
       "retina;zc;came_1v1  retina_z-corss-c;came;zebrafish_Adult-map-chic...  retina   \n",
       "\n",
       "                   sp_ref sp_que model         name_ref     name_que  \\\n",
       "retina;zc;came          z      c  came  zebrafish_Adult  chicken_P10   \n",
       "retina;zc;came_1v1      z      c  came  zebrafish_Adult  chicken_P10   \n",
       "\n",
       "                                 resdir_tag is_1v1 model_mask  F1-score  \\\n",
       "retina;zc;came      epochs=500;is_1v1=False              came     89.33   \n",
       "retina;zc;came_1v1   epochs=500;is_1v1=True   _1v1   came_1v1     72.01   \n",
       "\n",
       "                    Accuracy  \n",
       "retina;zc;came         89.22  \n",
       "retina;zc;came_1v1     77.33  "
      ]
     },
     "execution_count": 3,
     "metadata": {},
     "output_type": "execute_result"
    }
   ],
   "source": [
    "df = get_test_result_df(p_res)\n",
    "df = df.query(\"tissue == 'retina'\")\n",
    "# df['p_ratio'] = df['dir'].apply(lambda x: x.joinpath('ratio.csv'))\n",
    "\n",
    "df['is_1v1'] = ''\n",
    "df['is_1v1'] = df['is_1v1'].mask(\n",
    "    df['resdir_tag'].str.contains('is_1v1=True'), '_1v1').mask(\n",
    "        df['model'] == 'Seurat', '')\n",
    "df['model_mask'] = df.apply(\n",
    "    lambda _: '{model}{is_1v1}'.format(\n",
    "        **_), axis=1)\n",
    "\n",
    "\n",
    "df['F1-score'] = df.apply(get_res_stat,\n",
    "                          key='F1-score',\n",
    "                          q=\"dataset_type == 'que'\",\n",
    "                          axis=1).mul(100).round(2)\n",
    "df['Accuracy'] = df.apply(\n",
    "    get_res_stat,\n",
    "    key='Accuracy',\n",
    "    q=\"dataset_type == 'que'\",\n",
    "    axis=1).mul(100).round(2)\n",
    "\n",
    "df['time_tag'] = df['name'].str.extract(\n",
    "    ';(\\\\d{6}-\\\\d{4})$', expand=False).fillna('')\n",
    "df = df[df['time_tag'].str.len() == 0]\n",
    "df = df.drop(columns=['time_tag'])\n",
    "\n",
    "_temp = df.apply(\n",
    "    lambda row: '{tissue};{sp_ref}{sp_que};{model_mask}'.format(\n",
    "        **row), axis=1)\n",
    "assert _temp.is_unique, '[isnot unique]'\n",
    "df.index = _temp\n",
    "del _temp\n",
    "df.head(2)"
   ]
  },
  {
   "cell_type": "markdown",
   "id": "7c6d5810-b973-4613-a1a4-bc8de5126385",
   "metadata": {},
   "source": [
    "# heatmap"
   ]
  },
  {
   "cell_type": "code",
   "execution_count": 4,
   "id": "c83574a7-147b-4bcd-9542-ea277c4be089",
   "metadata": {},
   "outputs": [],
   "source": [
    "model_masks = 'Seurat,SAMap_1v1,SAMap,came_1v1,came,csMAHN_1v1,csMAHN'.split(\n",
    "    ',')"
   ]
  },
  {
   "cell_type": "markdown",
   "id": "753b78b6-8d86-4807-a939-3e2745dc96aa",
   "metadata": {},
   "source": [
    "## Accuracy"
   ]
  },
  {
   "cell_type": "code",
   "execution_count": 5,
   "id": "7590b8f6-bbc1-480f-96b2-67e251d666b4",
   "metadata": {},
   "outputs": [
    {
     "data": {
      "text/html": [
       "<style type=\"text/css\">\n",
       "#T_9ce0e_row0_col0 {\n",
       "  color: white;\n",
       "  background-color: #5a78e4;\n",
       "  color: #f1f1f1;\n",
       "}\n",
       "#T_9ce0e_row0_col1 {\n",
       "  color: white;\n",
       "  background-color: #afcafc;\n",
       "  color: #000000;\n",
       "}\n",
       "#T_9ce0e_row0_col2 {\n",
       "  color: white;\n",
       "  background-color: #f7b99e;\n",
       "  color: #000000;\n",
       "}\n",
       "#T_9ce0e_row1_col0 {\n",
       "  color: white;\n",
       "  background-color: #d85646;\n",
       "  color: #f1f1f1;\n",
       "}\n",
       "#T_9ce0e_row1_col1 {\n",
       "  color: white;\n",
       "  background-color: #ca3b37;\n",
       "  color: #f1f1f1;\n",
       "}\n",
       "#T_9ce0e_row1_col2 {\n",
       "  color: white;\n",
       "  background-color: #d7dce3;\n",
       "  color: #000000;\n",
       "}\n",
       "#T_9ce0e_row2_col0 {\n",
       "  color: white;\n",
       "  background-color: #f7b396;\n",
       "  color: #000000;\n",
       "}\n",
       "#T_9ce0e_row2_col1 {\n",
       "  color: white;\n",
       "  background-color: #da5a49;\n",
       "  color: #f1f1f1;\n",
       "}\n",
       "#T_9ce0e_row2_col2 {\n",
       "  color: white;\n",
       "  background-color: #f6bea4;\n",
       "  color: #000000;\n",
       "}\n",
       "#T_9ce0e_row3_col0 {\n",
       "  color: white;\n",
       "  background-color: #ba162b;\n",
       "  color: #f1f1f1;\n",
       "}\n",
       "#T_9ce0e_row3_col1, #T_9ce0e_row3_col2, #T_9ce0e_row5_col0, #T_9ce0e_row5_col1, #T_9ce0e_row5_col2 {\n",
       "  color: white;\n",
       "  background-color: #b40426;\n",
       "  color: #f1f1f1;\n",
       "}\n",
       "#T_9ce0e_row4_col0 {\n",
       "  color: white;\n",
       "  background-color: #f18f71;\n",
       "  color: #f1f1f1;\n",
       "}\n",
       "#T_9ce0e_row4_col1 {\n",
       "  color: white;\n",
       "  background-color: #f7ac8e;\n",
       "  color: #000000;\n",
       "}\n",
       "#T_9ce0e_row4_col2 {\n",
       "  color: white;\n",
       "  background-color: #ec8165;\n",
       "  color: #f1f1f1;\n",
       "}\n",
       "</style>\n",
       "<table id=\"T_9ce0e\">\n",
       "  <thead>\n",
       "    <tr>\n",
       "      <th class=\"index_name level0\" >sp_que</th>\n",
       "      <th id=\"T_9ce0e_level0_col0\" class=\"col_heading level0 col0\" >chicken</th>\n",
       "      <th id=\"T_9ce0e_level0_col1\" class=\"col_heading level0 col1\" >human</th>\n",
       "      <th id=\"T_9ce0e_level0_col2\" class=\"col_heading level0 col2\" >mouse</th>\n",
       "    </tr>\n",
       "    <tr>\n",
       "      <th class=\"index_name level0\" >model_mask</th>\n",
       "      <th class=\"blank col0\" >&nbsp;</th>\n",
       "      <th class=\"blank col1\" >&nbsp;</th>\n",
       "      <th class=\"blank col2\" >&nbsp;</th>\n",
       "    </tr>\n",
       "  </thead>\n",
       "  <tbody>\n",
       "    <tr>\n",
       "      <th id=\"T_9ce0e_level0_row0\" class=\"row_heading level0 row0\" >Seurat</th>\n",
       "      <td id=\"T_9ce0e_row0_col0\" class=\"data row0 col0\" >54.21%</td>\n",
       "      <td id=\"T_9ce0e_row0_col1\" class=\"data row0 col1\" >63.98%</td>\n",
       "      <td id=\"T_9ce0e_row0_col2\" class=\"data row0 col2\" >76.42%</td>\n",
       "    </tr>\n",
       "    <tr>\n",
       "      <th id=\"T_9ce0e_level0_row1\" class=\"row_heading level0 row1\" >SAMap</th>\n",
       "      <td id=\"T_9ce0e_row1_col0\" class=\"data row1 col0\" >85.71%</td>\n",
       "      <td id=\"T_9ce0e_row1_col1\" class=\"data row1 col1\" >87.50%</td>\n",
       "      <td id=\"T_9ce0e_row1_col2\" class=\"data row1 col2\" >69.20%</td>\n",
       "    </tr>\n",
       "    <tr>\n",
       "      <th id=\"T_9ce0e_level0_row2\" class=\"row_heading level0 row2\" >came_1v1</th>\n",
       "      <td id=\"T_9ce0e_row2_col0\" class=\"data row2 col0\" >77.33%</td>\n",
       "      <td id=\"T_9ce0e_row2_col1\" class=\"data row2 col1\" >85.35%</td>\n",
       "      <td id=\"T_9ce0e_row2_col2\" class=\"data row2 col2\" >75.86%</td>\n",
       "    </tr>\n",
       "    <tr>\n",
       "      <th id=\"T_9ce0e_level0_row3\" class=\"row_heading level0 row3\" >came</th>\n",
       "      <td id=\"T_9ce0e_row3_col0\" class=\"data row3 col0\" >89.22%</td>\n",
       "      <td id=\"T_9ce0e_row3_col1\" class=\"data row3 col1\" >92.32%</td>\n",
       "      <td id=\"T_9ce0e_row3_col2\" class=\"data row3 col2\" >90.14%</td>\n",
       "    </tr>\n",
       "    <tr>\n",
       "      <th id=\"T_9ce0e_level0_row4\" class=\"row_heading level0 row4\" >csMAHN_1v1</th>\n",
       "      <td id=\"T_9ce0e_row4_col0\" class=\"data row4 col0\" >81.07%</td>\n",
       "      <td id=\"T_9ce0e_row4_col1\" class=\"data row4 col1\" >78.04%</td>\n",
       "      <td id=\"T_9ce0e_row4_col2\" class=\"data row4 col2\" >82.24%</td>\n",
       "    </tr>\n",
       "    <tr>\n",
       "      <th id=\"T_9ce0e_level0_row5\" class=\"row_heading level0 row5\" >csMAHN</th>\n",
       "      <td id=\"T_9ce0e_row5_col0\" class=\"data row5 col0\" >92.88%</td>\n",
       "      <td id=\"T_9ce0e_row5_col1\" class=\"data row5 col1\" >92.09%</td>\n",
       "      <td id=\"T_9ce0e_row5_col2\" class=\"data row5 col2\" >90.71%</td>\n",
       "    </tr>\n",
       "  </tbody>\n",
       "</table>\n"
      ],
      "text/plain": [
       "<pandas.io.formats.style.Styler at 0x7f0a29bca280>"
      ]
     },
     "metadata": {},
     "output_type": "display_data"
    }
   ],
   "source": [
    "key = 'Accuracy'\n",
    "df_plot = df.pivot(values=key,\n",
    "                   index='model_mask',\n",
    "                   columns='sp_que')\n",
    "df_plot = df_plot.loc[[i for i in model_masks if i in df_plot.index], :]\n",
    "df_plot = df_plot.rename(columns=map_sp)\n",
    "display(\n",
    "    df_plot.style.highlight_null()\n",
    "    .set_properties(color='white')\n",
    "    .background_gradient(cmap=cm, vmin=50, vmax=90)\n",
    "    .format(lambda x: '{:.2f}%'.format(x))\n",
    ")"
   ]
  },
  {
   "cell_type": "code",
   "execution_count": 6,
   "id": "51a40ee5-5747-493b-b43b-d5afb4902834",
   "metadata": {
    "scrolled": true
   },
   "outputs": [
    {
     "name": "stdout",
     "output_type": "stream",
     "text": [
      "[out][plot] healty_Retina;heatmap;Accuracy.png \n",
      "\tin /public/workspace/licanchengup/link/res_publish/plot\n"
     ]
    },
    {
     "data": {
      "image/png": "[encoded data removed]",
      "text/plain": [
       "<Figure size 680x420.24 with 2 Axes>"
      ]
     },
     "metadata": {},
     "output_type": "display_data"
    }
   ],
   "source": [
    "figsize = np.array([1, .618]) * 6.8\n",
    "fig, ax = plt.subplots(figsize=figsize)\n",
    "ax = sns.heatmap(\n",
    "    data=df_plot,\n",
    "    ax=ax,\n",
    "    cmap=cm,\n",
    "    square=True,\n",
    "    annot=True,\n",
    "    fmt=\".2f\",\n",
    "    cbar=True,\n",
    "    cbar_kws={\n",
    "        'location': 'right',\n",
    "        # 'orientation':'horizontal',\n",
    "        'fraction': .1,\n",
    "        'shrink': .4,\n",
    "        'aspect': 25,\n",
    "        'pad': 0.02\n",
    "    }\n",
    "\n",
    ")\n",
    "ax.set_yticklabels(df_plot.index, fontdict={\n",
    "    'rotation': 0,\n",
    "}\n",
    ")\n",
    "ax.tick_params(axis='both', length=0)\n",
    "ax.set(xlabel=\"\", ylabel=\"\")\n",
    "\n",
    "# ax.set_title(key)\n",
    "# ax.grid(visible=True)\n",
    "savefig(fig,\n",
    "        '{};{};{}.{}'.format(item, 'heatmap', key, fig_format)\n",
    "       )"
   ]
  },
  {
   "cell_type": "markdown",
   "id": "82863fea-c508-4444-a6ce-7a95c7d3c3bd",
   "metadata": {},
   "source": [
    "# F1-score"
   ]
  },
  {
   "cell_type": "code",
   "execution_count": 7,
   "id": "fd92de51-6e0e-4a37-bf65-87c6cb8aeaf9",
   "metadata": {},
   "outputs": [
    {
     "name": "stdout",
     "output_type": "stream",
     "text": [
      "[out][plot] healty_Retina;heatmap;F1-score.png \n",
      "\tin /public/workspace/licanchengup/link/res_publish/plot\n"
     ]
    },
    {
     "data": {
      "image/png": "[encoded data removed]",
      "text/plain": [
       "<Figure size 680x420.24 with 2 Axes>"
      ]
     },
     "metadata": {},
     "output_type": "display_data"
    }
   ],
   "source": [
    "key = 'F1-score'\n",
    "df_plot = df.pivot(values=key,\n",
    "                   index='model_mask',\n",
    "                   columns='sp_que')\n",
    "df_plot = df_plot.loc[[i for i in model_masks if i in df_plot.index], :]\n",
    "df_plot = df_plot.rename(columns=map_sp)\n",
    "# display(\n",
    "#     df_plot.style.highlight_null()\n",
    "#     .set_properties(color='white')\n",
    "#     .background_gradient(cmap=cm, vmin=50, vmax=90)\n",
    "#     .format(lambda x: '{:.2f}%'.format(x))\n",
    "# )\n",
    "\n",
    "figsize = np.array([1, .618]) * 6.8\n",
    "fig, ax = plt.subplots(figsize=figsize)\n",
    "ax = sns.heatmap(\n",
    "    data=df_plot,\n",
    "    ax=ax,\n",
    "    cmap=cm,\n",
    "    square=True,\n",
    "    annot=True,\n",
    "    fmt=\".2f\",\n",
    "    cbar=True,\n",
    "    cbar_kws={\n",
    "        'location': 'right',\n",
    "        # 'orientation':'horizontal',\n",
    "        'fraction': .1,\n",
    "        'shrink': .4,\n",
    "        'aspect': 25,\n",
    "        'pad': 0.02\n",
    "    }\n",
    "\n",
    ")\n",
    "ax.set_yticklabels(df_plot.index, fontdict={\n",
    "    'rotation': 0,\n",
    "}\n",
    ")\n",
    "ax.tick_params(axis='both', length=0)\n",
    "ax.set(xlabel=\"\", ylabel=\"\")\n",
    "\n",
    "# ax.set_title(key)\n",
    "# ax.grid(visible=True)\n",
    "savefig(fig,\n",
    "        '{};{};{}.{}'.format(item, 'heatmap', key, fig_format)\n",
    "       )"
   ]
  }
 ],
 "metadata": {
  "kernelspec": {
   "display_name": "publish",
   "language": "python",
   "name": "publish"
  },
  "language_info": {
   "codemirror_mode": {
    "name": "ipython",
    "version": 3
   },
   "file_extension": ".py",
   "mimetype": "text/x-python",
   "name": "python",
   "nbconvert_exporter": "python",
   "pygments_lexer": "ipython3",
   "version": "3.9.18"
  }
 },
 "nbformat": 4,
 "nbformat_minor": 5
}
