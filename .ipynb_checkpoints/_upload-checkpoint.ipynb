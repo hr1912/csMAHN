{
 "cells": [
  {
   "cell_type": "code",
   "execution_count": 1,
   "id": "104c7dea-fec5-40b9-98e3-a2d7cb944a4c",
   "metadata": {},
   "outputs": [],
   "source": [
    "from pathlib import Path\n",
    "from shutil import copy, copytree, rmtree\n",
    "from time import strftime, localtime\n",
    "\n",
    "p_link = Path(\"/public/workspace/licanchengup/link\")\n",
    "p_publish = p_link.joinpath(\"res_publish\")\n",
    "p_root = p_publish.joinpath('upload')\n",
    "assert not Path('_update').exists(), '[Error] please del _update'"
   ]
  },
  {
   "cell_type": "code",
   "execution_count": 2,
   "id": "5f5e0978-6757-40ea-afba-6409a5bcc270",
   "metadata": {},
   "outputs": [
    {
     "name": "stdout",
     "output_type": "stream",
     "text": [
      "[del][dir]\t.ipynb_checkpoints\n",
      "---------------------------------------------\n",
      "[finish]\n",
      "---------------------------------------------\n"
     ]
    }
   ],
   "source": [
    "for f in p_root.iterdir():\n",
    "    if f.name == '_upload.ipynb':\n",
    "        continue\n",
    "    if f.is_file():\n",
    "        print('[del][file]\\t{}'.format(f.name))\n",
    "        f.unlink()\n",
    "\n",
    "for f in p_root.iterdir():\n",
    "    if f.name == 'homo':\n",
    "        continue\n",
    "\n",
    "    if f.is_dir():\n",
    "        print('[del][dir]\\t{}'.format(f.name))\n",
    "        rmtree(f)\n",
    "\n",
    "print(\"\\n[finish]\\n\".center(100, \"-\"))"
   ]
  },
  {
   "cell_type": "code",
   "execution_count": 3,
   "id": "45a4a944-3e63-4f3e-bc15-c2cf59e66109",
   "metadata": {},
   "outputs": [],
   "source": [
    "f_publish = \"\"\"README.md\n",
    "require_publish\n",
    "func.ipynb\n",
    "func.py\n",
    "func_r_map_seurat.ipynb\n",
    "func_r_map_seurat.r\n",
    "parameter_demo.csv\n",
    "demo.ipynb\n",
    "demo_Seurat.ipynb\n",
    "csMAHN\"\"\".split('\\n')\n",
    "\n",
    "f_homo = ['.']\n",
    "\n",
    "# README.ipynb\n",
    "# 3-1_202311160955.csv\n",
    "f_run = \"\"\"\n",
    "healthy_HCL_MCA_0.ipynb\n",
    "healthy_Retina_0.ipynb\n",
    "healthy_run.ipynb\n",
    "run_Seurat.ipynb\n",
    "disease_LC_0.ipynb\n",
    "disease_Mtb_0.ipynb\n",
    "disease_RA_0.ipynb\n",
    "disease_run.ipynb\n",
    "GSE127465_html_table.csv\"\"\".split('\\n')\n",
    "\n",
    "f_plot = \"\"\"\n",
    "EnrichmentAnalysis.ipynb\n",
    "EnrichmentAnalysis.r\n",
    "data/EnrichmentAnalysis/geneset/geneset_info.csv\n",
    "data/EnrichmentAnalysis/geneset/gmt_to_csv.ipynb\n",
    "init_plot.ipynb\n",
    "init_plot.py\n",
    "pdf_0_note.ipynb\n",
    "pdf_healthy.ipynb\n",
    "pdf_LC.ipynb\n",
    "pdf_LN.ipynb\n",
    "pdf_Mtb.ipynb\n",
    "pdf_RA.ipynb\n",
    "\"\"\".split('\\n')\n",
    "\n",
    "f_cache = \"\"\"\n",
    "parameter_healthy_HCL_MCA.csv\n",
    "parameter_healthy_Retina.csv\n",
    "parameter_LC.csv\n",
    "parameter_Mtb.csv\n",
    "parameter_RA.csv\n",
    "\"\"\".split('\\n')\n",
    "\n",
    "f_healthy = \"\"\"\n",
    "Retina/Retina_h/Retina_h_0.ipynb\n",
    "Retina/Retina_m/Retina_m_0.ipynb\n",
    "Retina/Retina_z_c/Retina_c_0.ipynb\n",
    "Retina/Retina_z_c/Retina_z_0.ipynb\n",
    "m_kidneys_GSE107585/m_kidneys_GSE107585_0.ipynb\n",
    "m_kidneys_GSE107585/m_kidneys_GSE107585_1_marker.ipynb\n",
    "\"\"\".split('\\n')\n",
    "\n",
    "f_disease = \"\"\"\n",
    "LC_h_DendriticCells/barcodes.tsv\n",
    "LC_h_DendriticCells/genes.tsv\n",
    "LC_h_DendriticCells/matrix.mtx\n",
    "LC_h_DendriticCells/obs.csv\n",
    "LC_m_DendriticCells/barcodes.tsv\n",
    "LC_m_DendriticCells/genes.tsv\n",
    "LC_m_DendriticCells/matrix.mtx\n",
    "LC_m_DendriticCells/obs.csv\n",
    "Mtb_mh_GSE167232/0_0.ipynb\n",
    "Mtb_mh_GSE167232/1_mtb_0.ipynb\n",
    "Mtb_mh_GSE167232/1_mtb_1.ipynb\n",
    "Mtb_mh_GSE167232/2_bal_0.ipynb\n",
    "Mtb_mh_GSE167232/2_bal_1.ipynb\n",
    "Mtb_macaque_SCP642/0_Mtb_macaque_SCP642.ipynb\n",
    "COVID_macaque_GSE217483/0_COVID_macaque_GSE217483.ipynb\n",
    "SLE_SDY997/SLE_SDY997_0.ipynb\n",
    "SLE_SDY997/SLE_SDY997_1_cluster.ipynb\n",
    "SLE_SDY997/SLE_SDY997_1_cluster_T.ipynb\n",
    "SLE_SDY997/SLE_SDY997_1_cluster_B.ipynb\n",
    "SLE_GSE255441/SLE_GSE255441_1_cluster.ipynb\n",
    "SLE_GSE255441/merge_0.ipynb\n",
    "SLE_GSE255441/merge_cluster.ipynb\n",
    "SLE_GSE255441/merge_cluster_T.ipynb\n",
    "SLE_GSE255441/merge_cluster_B.ipynb\n",
    "\"\"\".split('\\n')"
   ]
  },
  {
   "cell_type": "markdown",
   "id": "33dc9033-33af-487d-9f74-a04a686c74e1",
   "metadata": {},
   "source": [
    "# copy"
   ]
  },
  {
   "cell_type": "code",
   "execution_count": 4,
   "id": "fc5fcc5b-e5b6-47df-8184-708f56653cc6",
   "metadata": {},
   "outputs": [
    {
     "name": "stdout",
     "output_type": "stream",
     "text": [
      "copy 66 item\n",
      "240521-1623\n",
      "---------------------------------------------\n",
      "[finish]\n",
      "---------------------------------------------\n"
     ]
    }
   ],
   "source": [
    "files = []\n",
    "\n",
    "for d, fs in {\n",
    "    '.': f_publish,\n",
    "    'run': f_run,\n",
    "    'plot': f_plot,\n",
    "    # 'homo':f_homo,\n",
    "    'run/cache':f_cache,\n",
    "    'run/cache/healthy':f_healthy,\n",
    "    'run/cache/disease':f_disease\n",
    "}.items():\n",
    "    files = files + [p_publish.joinpath(d, f) for f in fs if len(f) > 0]\n",
    "    \n",
    "files_upload = [p_root.joinpath(f.relative_to(p_publish)) for f in files]\n",
    "print('copy {} item'.format(len(files)))\n",
    "\n",
    "for i in range(len(files)):\n",
    "    if not files[i].exists():\n",
    "        print('[not exists] {}'.format(files[i]))\n",
    "        continue\n",
    "    files_upload[i].parent.mkdir(exist_ok=True, parents=True)\n",
    "    if files[i].is_file():\n",
    "        copy(files[i], files_upload[i])\n",
    "    if files[i].is_dir():\n",
    "        copytree(files[i], files_upload[i])\n",
    "\n",
    "Path('_update').write_text(strftime('%y%m%d-%H%M', localtime()))\n",
    "print(Path('_update').read_text())\n",
    "print(\"\\n[finish]\\n\".center(100, \"-\"))"
   ]
  }
 ],
 "metadata": {
  "kernelspec": {
   "display_name": "Python 3 (ipykernel)",
   "language": "python",
   "name": "python3"
  },
  "language_info": {
   "codemirror_mode": {
    "name": "ipython",
    "version": 3
   },
   "file_extension": ".py",
   "mimetype": "text/x-python",
   "name": "python",
   "nbconvert_exporter": "python",
   "pygments_lexer": "ipython3",
   "version": "3.12.2"
  }
 },
 "nbformat": 4,
 "nbformat_minor": 5
}
