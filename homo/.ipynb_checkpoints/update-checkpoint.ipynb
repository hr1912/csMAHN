{
 "cells": [
  {
   "cell_type": "markdown",
   "id": "c3c21988-e7bd-413a-b8eb-245db749fb8b",
   "metadata": {},
   "source": [
    "# [biomart](https://www.ensembl.org/biomart/martview)"
   ]
  },
  {
   "cell_type": "code",
   "execution_count": null,
   "id": "cee615ff-a702-4b9e-bca0-119008bf008c",
   "metadata": {
    "tags": []
   },
   "outputs": [],
   "source": [
    "import sys\n",
    "from pathlib import Path\n",
    "p_root = Path('.').absolute().parent\n",
    "None if str(p_root) in sys.path else sys.path.append(str(p_root))"
   ]
  },
  {
   "cell_type": "code",
   "execution_count": null,
   "id": "118b8414-ae1d-49dd-9c38-7022a38c79fb",
   "metadata": {},
   "outputs": [],
   "source": [
    "from func import group_agg,pd,np"
   ]
  },
  {
   "cell_type": "code",
   "execution_count": null,
   "id": "cb580138-f06f-4cd5-973f-a8a7da7a907f",
   "metadata": {},
   "outputs": [],
   "source": [
    "df = pd.DataFrame(\n",
    "    {'path': p_root.joinpath('homo').iterdir()}\n",
    ")\n",
    "df['path'] = df['path'].apply(lambda x:x.relative_to(p_root.joinpath('homo')))\n",
    "df = df[df['path'].apply(lambda x: x.match('*_to_*'))]\n",
    "df['name'] = df['path'].apply(lambda x: x.stem)\n",
    "\n",
    "df = df.join(df['name'].str.extract(\n",
    "    '^(?P<sp_ref>[^_]+)_to_(?P<sp_que>[^_]+)$'))\n",
    "df['tag'] = df['name'].str.split('_to_').apply(np.sort).str.join('_to_')\n",
    "df['is_reverse'] = df.eval('tag != name')\n",
    "display(group_agg(df, 'tag,is_reverse'.split(','), {'is_reverse': ['count']}).pivot(\n",
    "    index='tag', columns='is_reverse', values='is_reverse_count'\n",
    ").style.highlight_null(color='red'))\n",
    "display(df.head(2), df.shape)"
   ]
  },
  {
   "cell_type": "code",
   "execution_count": null,
   "id": "9bba2454-89de-4e73-acf7-257912c8644e",
   "metadata": {},
   "outputs": [],
   "source": [
    "p_root"
   ]
  },
  {
   "cell_type": "code",
   "execution_count": null,
   "id": "e064fd1e-c1a5-4f11-9bf1-fff1b83e145f",
   "metadata": {},
   "outputs": [],
   "source": [
    "df.loc[:, 'path,name,sp_ref,sp_que'.split(',')].to_csv(\n",
    "    p_root.joinpath('homo','df_varmap.csv'), index=False)\n",
    "print('\\n[finish]\\n'.center(100,'-'))"
   ]
  }
 ],
 "metadata": {
  "kernelspec": {
   "display_name": "publish",
   "language": "python",
   "name": "publish"
  },
  "language_info": {
   "codemirror_mode": {
    "name": "ipython",
    "version": 3
   },
   "file_extension": ".py",
   "mimetype": "text/x-python",
   "name": "python",
   "nbconvert_exporter": "python",
   "pygments_lexer": "ipython3",
   "version": "3.9.18"
  }
 },
 "nbformat": 4,
 "nbformat_minor": 5
}
