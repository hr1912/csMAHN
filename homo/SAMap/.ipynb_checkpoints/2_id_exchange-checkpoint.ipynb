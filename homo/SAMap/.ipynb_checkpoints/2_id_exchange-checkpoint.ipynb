{
 "cells": [
  {
   "cell_type": "markdown",
   "id": "086006a2-91ee-42ea-92b0-01803c0d0148",
   "metadata": {},
   "source": [
    "# [ensembl](http://asia.ensembl.org/index.html)"
   ]
  },
  {
   "cell_type": "code",
   "execution_count": 1,
   "id": "6d8314aa-d6be-4e76-b0b4-ead4c2c91216",
   "metadata": {},
   "outputs": [],
   "source": [
    "from pathlib import Path\n",
    "from os import system, walk\n",
    "\n",
    "import numpy as np\n",
    "import pandas as pd\n",
    "from IPython.display import display"
   ]
  },
  {
   "cell_type": "markdown",
   "id": "d3189e31-5459-45d6-ab58-dd272b4919d1",
   "metadata": {},
   "source": [
    "> 写个锤子逐行读取和正则，大文件的文本处理还得是bash 的 grep,sew,awk"
   ]
  },
  {
   "cell_type": "code",
   "execution_count": 9,
   "id": "f1ec98f8-b7af-436e-89c2-30287eda161e",
   "metadata": {},
   "outputs": [
    {
     "data": {
      "text/html": [
       "<div>\n",
       "<style scoped>\n",
       "    .dataframe tbody tr th:only-of-type {\n",
       "        vertical-align: middle;\n",
       "    }\n",
       "\n",
       "    .dataframe tbody tr th {\n",
       "        vertical-align: top;\n",
       "    }\n",
       "\n",
       "    .dataframe thead th {\n",
       "        text-align: right;\n",
       "    }\n",
       "</style>\n",
       "<table border=\"1\" class=\"dataframe\">\n",
       "  <thead>\n",
       "    <tr style=\"text-align: right;\">\n",
       "      <th></th>\n",
       "      <th>sp</th>\n",
       "      <th>file</th>\n",
       "      <th>type</th>\n",
       "      <th>id</th>\n",
       "    </tr>\n",
       "  </thead>\n",
       "  <tbody>\n",
       "    <tr>\n",
       "      <th>hu</th>\n",
       "      <td>human</td>\n",
       "      <td>fasta/Homo_sapiens.GRCh38.cdna.all.fa</td>\n",
       "      <td>nucl</td>\n",
       "      <td>hu</td>\n",
       "    </tr>\n",
       "    <tr>\n",
       "      <th>mm</th>\n",
       "      <td>mouse</td>\n",
       "      <td>fasta/Mus_musculus.GRCm39.cds.all.fa</td>\n",
       "      <td>nucl</td>\n",
       "      <td>mm</td>\n",
       "    </tr>\n",
       "    <tr>\n",
       "      <th>zf</th>\n",
       "      <td>zebrafish</td>\n",
       "      <td>fasta/Danio_rerio.GRCz11.cds.all.fa</td>\n",
       "      <td>nucl</td>\n",
       "      <td>zf</td>\n",
       "    </tr>\n",
       "    <tr>\n",
       "      <th>ch</th>\n",
       "      <td>chick</td>\n",
       "      <td>fasta/Gallus_gallus.bGalGal1.mat.broiler.GRCg7...</td>\n",
       "      <td>nucl</td>\n",
       "      <td>ch</td>\n",
       "    </tr>\n",
       "    <tr>\n",
       "      <th>ma</th>\n",
       "      <td>macaque</td>\n",
       "      <td>fasta/Macaca_mulatta.Mmul_10.cdna.all.fa</td>\n",
       "      <td>nucl</td>\n",
       "      <td>ma</td>\n",
       "    </tr>\n",
       "  </tbody>\n",
       "</table>\n",
       "</div>"
      ],
      "text/plain": [
       "           sp                                               file  type  id\n",
       "hu      human              fasta/Homo_sapiens.GRCh38.cdna.all.fa  nucl  hu\n",
       "mm      mouse               fasta/Mus_musculus.GRCm39.cds.all.fa  nucl  mm\n",
       "zf  zebrafish                fasta/Danio_rerio.GRCz11.cds.all.fa  nucl  zf\n",
       "ch      chick  fasta/Gallus_gallus.bGalGal1.mat.broiler.GRCg7...  nucl  ch\n",
       "ma    macaque           fasta/Macaca_mulatta.Mmul_10.cdna.all.fa  nucl  ma"
      ]
     },
     "metadata": {},
     "output_type": "display_data"
    },
    {
     "name": "stdout",
     "output_type": "stream",
     "text": [
      "\n",
      "if [[ -d cdna_maps ]] ;then\n",
      "    echo \"[exists] cdna_maps\"\n",
      "else\n",
      "    mkdir cdna_maps\n",
      "    echo \"[create dir] cdna_maps\"\n",
      "fi\n",
      "\n",
      "cat fasta/Homo_sapiens.GRCh38.cdna.all.fa | grep -E '^>' > cdna_maps/hu.txt\n",
      "cat fasta/Mus_musculus.GRCm39.cds.all.fa | grep -E '^>' > cdna_maps/mm.txt\n",
      "cat fasta/Danio_rerio.GRCz11.cds.all.fa | grep -E '^>' > cdna_maps/zf.txt\n",
      "cat fasta/Gallus_gallus.bGalGal1.mat.broiler.GRCg7b.cds.all.fa | grep -E '^>' > cdna_maps/ch.txt\n",
      "cat fasta/Macaca_mulatta.Mmul_10.cdna.all.fa | grep -E '^>' > cdna_maps/ma.txt\n",
      "echo \"[finish]\" \n"
     ]
    }
   ],
   "source": [
    "df = pd.read_json('info_transcriptome.json')\n",
    "df['file'] = df['file'].apply(lambda x: Path(x))\n",
    "assert df['id'].is_unique, '[Error] not unique'\n",
    "df.index = df['id'].to_numpy()\n",
    "display(df)\n",
    "command = \"\"\"\n",
    "if [[ -d cdna_maps ]] ;then\n",
    "    echo \"[exists] cdna_maps\"\n",
    "else\n",
    "    mkdir cdna_maps\n",
    "    echo \"[create dir] cdna_maps\"\n",
    "fi\n",
    "\"\"\"\n",
    "\n",
    "for _i, _row in df.iterrows():\n",
    "    command = command + \\\n",
    "        \"\\ncat {file} | grep -E '^>' > cdna_maps/{id}.txt\".format(**_row)\n",
    "command = command + \"\"\"\\necho \"[finish]\" \"\"\"\n",
    "print(command)"
   ]
  },
  {
   "cell_type": "code",
   "execution_count": 10,
   "id": "f7053a70-5ea6-41d1-9cff-f39e378359cd",
   "metadata": {},
   "outputs": [
    {
     "name": "stdout",
     "output_type": "stream",
     "text": [
      "[exists] cdna_maps\n",
      "[finish]\n"
     ]
    },
    {
     "data": {
      "text/plain": [
       "0"
      ]
     },
     "execution_count": 10,
     "metadata": {},
     "output_type": "execute_result"
    }
   ],
   "source": [
    "# run in bash\n",
    "system(command)"
   ]
  },
  {
   "cell_type": "code",
   "execution_count": 11,
   "id": "78fc2873-116f-4be8-870e-d0fe7144261f",
   "metadata": {},
   "outputs": [
    {
     "data": {
      "text/html": [
       "<div>\n",
       "<style scoped>\n",
       "    .dataframe tbody tr th:only-of-type {\n",
       "        vertical-align: middle;\n",
       "    }\n",
       "\n",
       "    .dataframe tbody tr th {\n",
       "        vertical-align: top;\n",
       "    }\n",
       "\n",
       "    .dataframe thead th {\n",
       "        text-align: right;\n",
       "    }\n",
       "</style>\n",
       "<table border=\"1\" class=\"dataframe\">\n",
       "  <thead>\n",
       "    <tr style=\"text-align: right;\">\n",
       "      <th></th>\n",
       "      <th>sp</th>\n",
       "      <th>file</th>\n",
       "      <th>type</th>\n",
       "      <th>id</th>\n",
       "      <th>cdna_maps</th>\n",
       "      <th>cdna_maps_table</th>\n",
       "    </tr>\n",
       "  </thead>\n",
       "  <tbody>\n",
       "    <tr>\n",
       "      <th>hu</th>\n",
       "      <td>human</td>\n",
       "      <td>fasta/Homo_sapiens.GRCh38.cdna.all.fa</td>\n",
       "      <td>nucl</td>\n",
       "      <td>hu</td>\n",
       "      <td>cdna_maps/hu.txt</td>\n",
       "      <td>cdna_maps/cdna_maps_hu.csv</td>\n",
       "    </tr>\n",
       "    <tr>\n",
       "      <th>mm</th>\n",
       "      <td>mouse</td>\n",
       "      <td>fasta/Mus_musculus.GRCm39.cds.all.fa</td>\n",
       "      <td>nucl</td>\n",
       "      <td>mm</td>\n",
       "      <td>cdna_maps/mm.txt</td>\n",
       "      <td>cdna_maps/cdna_maps_mm.csv</td>\n",
       "    </tr>\n",
       "    <tr>\n",
       "      <th>zf</th>\n",
       "      <td>zebrafish</td>\n",
       "      <td>fasta/Danio_rerio.GRCz11.cds.all.fa</td>\n",
       "      <td>nucl</td>\n",
       "      <td>zf</td>\n",
       "      <td>cdna_maps/zf.txt</td>\n",
       "      <td>cdna_maps/cdna_maps_zf.csv</td>\n",
       "    </tr>\n",
       "    <tr>\n",
       "      <th>ch</th>\n",
       "      <td>chick</td>\n",
       "      <td>fasta/Gallus_gallus.bGalGal1.mat.broiler.GRCg7...</td>\n",
       "      <td>nucl</td>\n",
       "      <td>ch</td>\n",
       "      <td>cdna_maps/ch.txt</td>\n",
       "      <td>cdna_maps/cdna_maps_ch.csv</td>\n",
       "    </tr>\n",
       "    <tr>\n",
       "      <th>ma</th>\n",
       "      <td>macaque</td>\n",
       "      <td>fasta/Macaca_mulatta.Mmul_10.cdna.all.fa</td>\n",
       "      <td>nucl</td>\n",
       "      <td>ma</td>\n",
       "      <td>cdna_maps/ma.txt</td>\n",
       "      <td>cdna_maps/cdna_maps_ma.csv</td>\n",
       "    </tr>\n",
       "  </tbody>\n",
       "</table>\n",
       "</div>"
      ],
      "text/plain": [
       "           sp                                               file  type  id  \\\n",
       "hu      human              fasta/Homo_sapiens.GRCh38.cdna.all.fa  nucl  hu   \n",
       "mm      mouse               fasta/Mus_musculus.GRCm39.cds.all.fa  nucl  mm   \n",
       "zf  zebrafish                fasta/Danio_rerio.GRCz11.cds.all.fa  nucl  zf   \n",
       "ch      chick  fasta/Gallus_gallus.bGalGal1.mat.broiler.GRCg7...  nucl  ch   \n",
       "ma    macaque           fasta/Macaca_mulatta.Mmul_10.cdna.all.fa  nucl  ma   \n",
       "\n",
       "           cdna_maps             cdna_maps_table  \n",
       "hu  cdna_maps/hu.txt  cdna_maps/cdna_maps_hu.csv  \n",
       "mm  cdna_maps/mm.txt  cdna_maps/cdna_maps_mm.csv  \n",
       "zf  cdna_maps/zf.txt  cdna_maps/cdna_maps_zf.csv  \n",
       "ch  cdna_maps/ch.txt  cdna_maps/cdna_maps_ch.csv  \n",
       "ma  cdna_maps/ma.txt  cdna_maps/cdna_maps_ma.csv  "
      ]
     },
     "metadata": {},
     "output_type": "display_data"
    }
   ],
   "source": [
    "df['cdna_maps'] = df['id'].apply(\n",
    "    lambda x: Path('cdna_maps/{}.txt'.format(x)))\n",
    "df['cdna_maps_table'] = df['id'].apply(\n",
    "    lambda x: Path('cdna_maps/cdna_maps_{}.csv'.format(x)))\n",
    "display(df)"
   ]
  },
  {
   "cell_type": "code",
   "execution_count": 12,
   "id": "21d3c323-6644-49c2-8985-9d45fb649b63",
   "metadata": {},
   "outputs": [
    {
     "name": "stdout",
     "output_type": "stream",
     "text": [
      "[out] cdna_maps/cdna_maps_hu.csv\n",
      "[out] cdna_maps/cdna_maps_mm.csv\n",
      "[out] cdna_maps/cdna_maps_zf.csv\n",
      "[out] cdna_maps/cdna_maps_ch.csv\n",
      "[out] cdna_maps/cdna_maps_ma.csv\n",
      "---------------------------------------------\n",
      "[finish]\n",
      "---------------------------------------------\n"
     ]
    }
   ],
   "source": [
    "for _i, _row in df.iterrows():\n",
    "    s = pd.Series(_row['cdna_maps'].read_text().split('\\n'))\n",
    "    s = s[s.str.len() > 0]\n",
    "    cdna_maps = s.str.extract(\">(?P<transcript_id>[^\\\\s]+)\")\n",
    "    for _ in 'primary_assembly,gene,gene_biotype,transcript_biotype,gene_symbol'.split(\n",
    "            ','):\n",
    "        cdna_maps[_] = s.str.extract(\n",
    "            \"{}:([^\\\\s]+) \".format(_), expand=False)\n",
    "    cdna_maps['description'] = s.str.extract(\n",
    "        \"description:(.+)$\", expand=False)\n",
    "    # gene_symbol 为空则以 transcript_id 填充\n",
    "    cdna_maps['gene_symbol'] = cdna_maps['gene_symbol'].mask(\n",
    "        cdna_maps['gene_symbol'].isna(), cdna_maps['transcript_id'])\n",
    "    # display(cdna_maps.head(2), cdna_maps.isna().any(),\n",
    "    #         cdna_maps[cdna_maps['gene_symbol'].notna()].head(5))\n",
    "    # display(\n",
    "    #     cdna_maps['gene_biotype'].value_counts(\n",
    "    #         dropna=False),\n",
    "    #     cdna_maps['transcript_biotype'].value_counts(\n",
    "    #         dropna=False))\n",
    "    assert cdna_maps['transcript_id'].is_unique, '[Error] not unique'\n",
    "    cdna_maps.to_csv(_row['cdna_maps_table'], index=False)\n",
    "    print('[out] {}'.format(_row['cdna_maps_table']))\n",
    "del s, cdna_maps, _\n",
    "print(\"\\n[finish]\\n\".center(100, \"-\"))"
   ]
  },
  {
   "cell_type": "markdown",
   "id": "59da0bd8-edc3-4399-bf1c-25e97fd9f099",
   "metadata": {},
   "source": [
    "# exchange id"
   ]
  },
  {
   "cell_type": "code",
   "execution_count": 13,
   "id": "602487c3-6490-4723-b3d3-cffd24f6b52f",
   "metadata": {
    "scrolled": true
   },
   "outputs": [
    {
     "data": {
      "text/html": [
       "<div>\n",
       "<style scoped>\n",
       "    .dataframe tbody tr th:only-of-type {\n",
       "        vertical-align: middle;\n",
       "    }\n",
       "\n",
       "    .dataframe tbody tr th {\n",
       "        vertical-align: top;\n",
       "    }\n",
       "\n",
       "    .dataframe thead th {\n",
       "        text-align: right;\n",
       "    }\n",
       "</style>\n",
       "<table border=\"1\" class=\"dataframe\">\n",
       "  <thead>\n",
       "    <tr style=\"text-align: right;\">\n",
       "      <th></th>\n",
       "      <th>path</th>\n",
       "      <th>name</th>\n",
       "      <th>sp_ref</th>\n",
       "      <th>sp_que</th>\n",
       "    </tr>\n",
       "  </thead>\n",
       "  <tbody>\n",
       "    <tr>\n",
       "      <th>0</th>\n",
       "      <td>maps/humm/hu_to_mm.txt</td>\n",
       "      <td>hu_to_mm</td>\n",
       "      <td>hu</td>\n",
       "      <td>mm</td>\n",
       "    </tr>\n",
       "    <tr>\n",
       "      <th>1</th>\n",
       "      <td>maps/humm/mm_to_hu.txt</td>\n",
       "      <td>mm_to_hu</td>\n",
       "      <td>mm</td>\n",
       "      <td>hu</td>\n",
       "    </tr>\n",
       "    <tr>\n",
       "      <th>2</th>\n",
       "      <td>maps/mmma/ma_to_mm.txt</td>\n",
       "      <td>ma_to_mm</td>\n",
       "      <td>ma</td>\n",
       "      <td>mm</td>\n",
       "    </tr>\n",
       "    <tr>\n",
       "      <th>3</th>\n",
       "      <td>maps/mmma/mm_to_ma.txt</td>\n",
       "      <td>mm_to_ma</td>\n",
       "      <td>mm</td>\n",
       "      <td>ma</td>\n",
       "    </tr>\n",
       "    <tr>\n",
       "      <th>4</th>\n",
       "      <td>maps/zfmm/zf_to_mm.txt</td>\n",
       "      <td>zf_to_mm</td>\n",
       "      <td>zf</td>\n",
       "      <td>mm</td>\n",
       "    </tr>\n",
       "  </tbody>\n",
       "</table>\n",
       "</div>"
      ],
      "text/plain": [
       "                     path      name sp_ref sp_que\n",
       "0  maps/humm/hu_to_mm.txt  hu_to_mm     hu     mm\n",
       "1  maps/humm/mm_to_hu.txt  mm_to_hu     mm     hu\n",
       "2  maps/mmma/ma_to_mm.txt  ma_to_mm     ma     mm\n",
       "3  maps/mmma/mm_to_ma.txt  mm_to_ma     mm     ma\n",
       "4  maps/zfmm/zf_to_mm.txt  zf_to_mm     zf     mm"
      ]
     },
     "execution_count": 13,
     "metadata": {},
     "output_type": "execute_result"
    }
   ],
   "source": [
    "# df_map\n",
    "df_map = []\n",
    "for root, dir, files in walk(Path('maps')):\n",
    "    for f in files:\n",
    "        df_map.append(Path(root).joinpath(f))\n",
    "df_map = pd.DataFrame({\n",
    "    'path': df_map\n",
    "})\n",
    "df_map['name'] = df_map['path'].apply(lambda x: x.stem)\n",
    "df_map = df_map.join(df_map['name'].str.extract(\n",
    "    '^(?P<sp_ref>[^_]+)_to_(?P<sp_que>[^_]+)'))\n",
    "df_map = df_map[df_map['sp_ref'].isin(\n",
    "    df['id']) & df_map['sp_que'].isin(df['id'])]\n",
    "df_map.index = np.arange(df_map.shape[0])\n",
    "df_map.head(5)"
   ]
  },
  {
   "cell_type": "code",
   "execution_count": 16,
   "id": "75bde3c2-bf5c-433e-a2ad-68d99ee6842c",
   "metadata": {},
   "outputs": [
    {
     "name": "stdout",
     "output_type": "stream",
     "text": [
      "[out] maps_gene_name/humm/hu_to_mm.txt [0 1 0;1].is_unique [False False False ]\n",
      "[out] maps_gene_name/humm/mm_to_hu.txt [0 1 0;1].is_unique [False False False ]\n",
      "[out] maps_gene_name/mmma/ma_to_mm.txt [0 1 0;1].is_unique [False False False ]\n",
      "[out] maps_gene_name/mmma/mm_to_ma.txt [0 1 0;1].is_unique [False False False ]\n",
      "[out] maps_gene_name/zfmm/zf_to_mm.txt [0 1 0;1].is_unique [False False False ]\n",
      "[out] maps_gene_name/zfmm/mm_to_zf.txt [0 1 0;1].is_unique [False False False ]\n",
      "[out] maps_gene_name/zfhu/hu_to_zf.txt [0 1 0;1].is_unique [False False False ]\n",
      "[out] maps_gene_name/zfhu/zf_to_hu.txt [0 1 0;1].is_unique [False False False ]\n",
      "[out] maps_gene_name/zfch/zf_to_ch.txt [0 1 0;1].is_unique [False False False ]\n",
      "[out] maps_gene_name/zfch/ch_to_zf.txt [0 1 0;1].is_unique [False False False ]\n",
      "---------------------------------------------\n",
      "[finish]\n",
      "---------------------------------------------\n"
     ]
    }
   ],
   "source": [
    "# 耗时\n",
    "for _i, _row in df_map.iterrows():\n",
    "    _out = Path('maps_gene_name', *_row['path'].parts[1:])\n",
    "    if _out.exists():\n",
    "        _df = pd.read_csv(_out, sep='\\t', header=None)\n",
    "        _df.columns = _df.columns.astype(str)\n",
    "    else:\n",
    "        _df = pd.read_csv(_row['path'], header=None, sep='\\t')\n",
    "        _df.columns = _df.columns.astype(str)\n",
    "\n",
    "        _df = pd.merge(\n",
    "            left=_df,\n",
    "            right=pd.read_csv(df.loc[_row['sp_ref'], 'cdna_maps_table']).loc[:, ['transcript_id', 'gene_symbol']].rename(\n",
    "                columns=lambda x: '{}_ref'.format(x)\n",
    "            ),\n",
    "            left_on='0',\n",
    "            right_on='transcript_id_ref'\n",
    "        ).merge(\n",
    "            right=pd.read_csv(df.loc[_row['sp_que'], 'cdna_maps_table']).loc[:, ['transcript_id', 'gene_symbol']].rename(\n",
    "                columns=lambda x: '{}_que'.format(x)\n",
    "            ),\n",
    "            left_on='1',\n",
    "            right_on='transcript_id_que'\n",
    "        )\n",
    "        _df = _df.drop(\n",
    "            columns='0,1,transcript_id_ref,transcript_id_que'.split(','))\n",
    "        _df = _df.rename(columns={\n",
    "            'gene_symbol_ref': '0',\n",
    "            'gene_symbol_que': '1'\n",
    "        })\n",
    "        _df = _df.loc[:, np.sort(_df.columns.astype(np.int8)).astype(str)]\n",
    "        # display(_df.head(2))\n",
    "\n",
    "        _out.parent.mkdir(exist_ok=True, parents=True)\n",
    "        _df.to_csv(_out, index=False, header=False, sep='\\t')\n",
    "    print(\n",
    "        \"[out] {} [0 1 0;1].is_unique [{} {} {} ]\".format(\n",
    "            _out,\n",
    "            _df['0'].is_unique,\n",
    "            _df['1'].is_unique,\n",
    "            (_df['0'] + ';' + _df['1']).is_unique))\n",
    "\n",
    "print(\"\\n[finish]\\n\".center(100, \"-\"))"
   ]
  },
  {
   "cell_type": "markdown",
   "id": "576ef633-fa67-4b99-823d-72a635bbc100",
   "metadata": {},
   "source": [
    "# 1v1"
   ]
  },
  {
   "cell_type": "code",
   "execution_count": 3,
   "id": "f6a2b67e-b2ba-4a08-92cd-7915be777706",
   "metadata": {},
   "outputs": [],
   "source": [
    "def get_1v1_matches_for_SAMap(\n",
    "        df_match):\n",
    "    \"\"\"\n",
    "    from came.pp.take_1v_matches\n",
    "    \"\"\"\n",
    "    l, r = df_match.columns[:2]\n",
    "    l_unique = df_match[l].value_counts(\n",
    "    ).to_frame().query(\"count == 1\").index\n",
    "    r_unique = df_match[r].value_counts(\n",
    "    ).to_frame().query(\"count == 1\").index\n",
    "    keep = pd.DataFrame({\n",
    "        'l_is_unique': df_match[l].isin(l_unique),\n",
    "        'r_is_unique': df_match[r].isin(r_unique)\n",
    "    }).min(axis=1)\n",
    "    df_match = df_match[keep]\n",
    "    return df_match"
   ]
  },
  {
   "cell_type": "code",
   "execution_count": 19,
   "id": "eb4d9154-11b6-466e-94f5-ece192417561",
   "metadata": {},
   "outputs": [
    {
     "name": "stdout",
     "output_type": "stream",
     "text": [
      "hu_to_mm\t8211254 -> 173\n",
      "mm_to_hu\t6639142 -> 169\n",
      "ma_to_mm\t2949449 -> 530\n",
      "mm_to_ma\t3698692 -> 531\n",
      "zf_to_mm\t3110966 -> 414\n",
      "mm_to_zf\t3326008 -> 402\n",
      "hu_to_zf\t6989275 -> 68\n",
      "zf_to_hu\t5259124 -> 82\n",
      "zf_to_ch\t3030191 -> 421\n",
      "ch_to_zf\t2571377 -> 421\n",
      "---------------------------------------------\n",
      "[finish]\n",
      "---------------------------------------------\n"
     ]
    }
   ],
   "source": [
    "for _i, _row in df_map.iterrows():\n",
    "    _out = Path('maps_gene_name', *_row['path'].parts[1:])\n",
    "    _out_1v1 = _out.with_name('{}_1v1{}'.format(_out.stem, _out.suffix))\n",
    "    _df = pd.read_csv(_out, sep='\\t', header=None)\n",
    "    print(\"{}\\t{} ->\".format(_out.stem,_df.shape[0]),end='')\n",
    "    _df = get_1v1_matches_for_SAMap(_df)\n",
    "    print(\" {}\".format(_df.shape[0]))\n",
    "    _df.to_csv(_out_1v1, index=False, header=False, sep='\\t')\n",
    "print(\"\\n[finish]\\n\".center(100,\"-\"))"
   ]
  },
  {
   "cell_type": "markdown",
   "id": "4a502240-fe26-4489-8802-ea2dbd74146e",
   "metadata": {},
   "source": [
    "# gzip\n",
    "\n",
    "it is too large"
   ]
  },
  {
   "cell_type": "code",
   "execution_count": 5,
   "id": "5559350c-dec0-4017-a2e1-d4d8085cb8ea",
   "metadata": {},
   "outputs": [
    {
     "data": {
      "text/html": [
       "<div>\n",
       "<style scoped>\n",
       "    .dataframe tbody tr th:only-of-type {\n",
       "        vertical-align: middle;\n",
       "    }\n",
       "\n",
       "    .dataframe tbody tr th {\n",
       "        vertical-align: top;\n",
       "    }\n",
       "\n",
       "    .dataframe thead th {\n",
       "        text-align: right;\n",
       "    }\n",
       "</style>\n",
       "<table border=\"1\" class=\"dataframe\">\n",
       "  <thead>\n",
       "    <tr style=\"text-align: right;\">\n",
       "      <th></th>\n",
       "      <th>path</th>\n",
       "    </tr>\n",
       "  </thead>\n",
       "  <tbody>\n",
       "    <tr>\n",
       "      <th>20</th>\n",
       "      <td>maps/humm/hu_to_mm.txt</td>\n",
       "    </tr>\n",
       "    <tr>\n",
       "      <th>21</th>\n",
       "      <td>maps/humm/mm_to_hu.txt</td>\n",
       "    </tr>\n",
       "    <tr>\n",
       "      <th>22</th>\n",
       "      <td>maps/mmma/ma_to_mm.txt</td>\n",
       "    </tr>\n",
       "    <tr>\n",
       "      <th>23</th>\n",
       "      <td>maps/mmma/mm_to_ma.txt</td>\n",
       "    </tr>\n",
       "    <tr>\n",
       "      <th>24</th>\n",
       "      <td>maps/zfmm/zf_to_mm.txt</td>\n",
       "    </tr>\n",
       "    <tr>\n",
       "      <th>25</th>\n",
       "      <td>maps/zfmm/mm_to_zf.txt</td>\n",
       "    </tr>\n",
       "    <tr>\n",
       "      <th>26</th>\n",
       "      <td>maps/zfhu/hu_to_zf.txt</td>\n",
       "    </tr>\n",
       "    <tr>\n",
       "      <th>27</th>\n",
       "      <td>maps/zfhu/zf_to_hu.txt</td>\n",
       "    </tr>\n",
       "    <tr>\n",
       "      <th>28</th>\n",
       "      <td>maps/zfch/zf_to_ch.txt</td>\n",
       "    </tr>\n",
       "    <tr>\n",
       "      <th>29</th>\n",
       "      <td>maps/zfch/ch_to_zf.txt</td>\n",
       "    </tr>\n",
       "  </tbody>\n",
       "</table>\n",
       "</div>"
      ],
      "text/plain": [
       "                      path\n",
       "20  maps/humm/hu_to_mm.txt\n",
       "21  maps/humm/mm_to_hu.txt\n",
       "22  maps/mmma/ma_to_mm.txt\n",
       "23  maps/mmma/mm_to_ma.txt\n",
       "24  maps/zfmm/zf_to_mm.txt\n",
       "25  maps/zfmm/mm_to_zf.txt\n",
       "26  maps/zfhu/hu_to_zf.txt\n",
       "27  maps/zfhu/zf_to_hu.txt\n",
       "28  maps/zfch/zf_to_ch.txt\n",
       "29  maps/zfch/ch_to_zf.txt"
      ]
     },
     "execution_count": 5,
     "metadata": {},
     "output_type": "execute_result"
    }
   ],
   "source": [
    "df_map = []\n",
    "for root, dir, files in walk(Path('maps_gene_name')):\n",
    "    for f in files:\n",
    "        df_map.append(Path(root).joinpath(f))\n",
    "for root, dir, files in walk(Path('maps')):\n",
    "    for f in files:\n",
    "        df_map.append(Path(root).joinpath(f))\n",
    "df_map = pd.DataFrame({\n",
    "    'path': df_map\n",
    "})\n",
    "df_map = df_map[~df_map['path'].apply(lambda x:x.match(\"*gz\"))]\n",
    "df_map.index = np.arange(df_map.shape[0])\n",
    "df_map"
   ]
  },
  {
   "cell_type": "code",
   "execution_count": null,
   "id": "7d5f6a61-872d-4494-9039-8a3453a18923",
   "metadata": {},
   "outputs": [
    {
     "name": "stdout",
     "output_type": "stream",
     "text": [
      "[27/10] hu_to_zf.txt------------------------------------------------------"
     ]
    }
   ],
   "source": [
    "for i,row in df_map.iterrows():\n",
    "    if row['path'].exists():\n",
    "        print('\\r[{}/{}] {}'.format(i+1,df_map.shape[0],row['path'].name).ljust(75,'-'),end='')\n",
    "        system(\"gzip '{}'\".format(row['path'].absolute()))\n",
    "    \n",
    "print('')\n",
    "print(\"\\n[finish]\\n\".center(100,\"-\"))"
   ]
  }
 ],
 "metadata": {
  "kernelspec": {
   "display_name": "publish",
   "language": "python",
   "name": "publish"
  },
  "language_info": {
   "codemirror_mode": {
    "name": "ipython",
    "version": 3
   },
   "file_extension": ".py",
   "mimetype": "text/x-python",
   "name": "python",
   "nbconvert_exporter": "python",
   "pygments_lexer": "ipython3",
   "version": "3.9.18"
  }
 },
 "nbformat": 4,
 "nbformat_minor": 5
}
