{
 "cells": [
  {
   "cell_type": "markdown",
   "id": "a1af3117-2c62-4a66-b364-3f8c4d53a2fb",
   "metadata": {},
   "source": [
    "# 试试\n",
    "\n",
    "不行`! bash`是jupyter 的命令\n",
    "\n",
    "```shell\n",
    "conda activate\n",
    "cd ~/link/res_publish/homo/SAMap\n",
    "jupyter nbconvert 0_test.ipynb --to python\n",
    "\n",
    "conda activate publish\n",
    "nohup python 0_test.py > nohup_0_test.txt &\n",
    "\n",
    "jobs\n",
    "\n",
    "conda activate\n",
    "echo 'finish'\n",
    "\n",
    "```\n"
   ]
  },
  {
   "cell_type": "code",
   "execution_count": 1,
   "id": "d279fc13-dc3b-464c-9ff8-85b50b798805",
   "metadata": {},
   "outputs": [
    {
     "data": {
      "text/html": [
       "<div>\n",
       "<style scoped>\n",
       "    .dataframe tbody tr th:only-of-type {\n",
       "        vertical-align: middle;\n",
       "    }\n",
       "\n",
       "    .dataframe tbody tr th {\n",
       "        vertical-align: top;\n",
       "    }\n",
       "\n",
       "    .dataframe thead th {\n",
       "        text-align: right;\n",
       "    }\n",
       "</style>\n",
       "<table border=\"1\" class=\"dataframe\">\n",
       "  <thead>\n",
       "    <tr style=\"text-align: right;\">\n",
       "      <th></th>\n",
       "      <th>sp</th>\n",
       "      <th>file</th>\n",
       "      <th>type</th>\n",
       "      <th>id</th>\n",
       "    </tr>\n",
       "  </thead>\n",
       "  <tbody>\n",
       "    <tr>\n",
       "      <th>hu</th>\n",
       "      <td>human</td>\n",
       "      <td>fasta/Homo_sapiens.GRCh38.cdna.all.fa</td>\n",
       "      <td>nucl</td>\n",
       "      <td>hu</td>\n",
       "    </tr>\n",
       "    <tr>\n",
       "      <th>mm</th>\n",
       "      <td>mouse</td>\n",
       "      <td>fasta/Mus_musculus.GRCm39.cds.all.fa</td>\n",
       "      <td>nucl</td>\n",
       "      <td>mm</td>\n",
       "    </tr>\n",
       "    <tr>\n",
       "      <th>zf</th>\n",
       "      <td>zebrafish</td>\n",
       "      <td>fasta/Danio_rerio.GRCz11.cds.all.fa</td>\n",
       "      <td>nucl</td>\n",
       "      <td>zf</td>\n",
       "    </tr>\n",
       "    <tr>\n",
       "      <th>ch</th>\n",
       "      <td>chick</td>\n",
       "      <td>fasta/Gallus_gallus.bGalGal1.mat.broiler.GRCg7...</td>\n",
       "      <td>nucl</td>\n",
       "      <td>ch</td>\n",
       "    </tr>\n",
       "    <tr>\n",
       "      <th>ma</th>\n",
       "      <td>macaque</td>\n",
       "      <td>fasta/Macaca_mulatta.Mmul_10.cdna.all.fa</td>\n",
       "      <td>nucl</td>\n",
       "      <td>ma</td>\n",
       "    </tr>\n",
       "  </tbody>\n",
       "</table>\n",
       "</div>"
      ],
      "text/plain": [
       "           sp                                               file  type  id\n",
       "hu      human              fasta/Homo_sapiens.GRCh38.cdna.all.fa  nucl  hu\n",
       "mm      mouse               fasta/Mus_musculus.GRCm39.cds.all.fa  nucl  mm\n",
       "zf  zebrafish                fasta/Danio_rerio.GRCz11.cds.all.fa  nucl  zf\n",
       "ch      chick  fasta/Gallus_gallus.bGalGal1.mat.broiler.GRCg7...  nucl  ch\n",
       "ma    macaque           fasta/Macaca_mulatta.Mmul_10.cdna.all.fa  nucl  ma"
      ]
     },
     "metadata": {},
     "output_type": "display_data"
    },
    {
     "name": "stdout",
     "output_type": "stream",
     "text": [
      "[id is unique] True\n",
      "[file is all exists ] True\n"
     ]
    }
   ],
   "source": [
    "from os import system\n",
    "from pathlib import Path\n",
    "import numpy as np\n",
    "import pandas as pd\n",
    "\n",
    "from IPython.display import display\n",
    "\n",
    "df = pd.json_normalize(\n",
    "\n",
    "    [{\n",
    "        'sp': 'human',\n",
    "        'file': 'fasta/Homo_sapiens.GRCh38.cdna.all.fa',\n",
    "        'type': 'nucl',\n",
    "        'id': 'hu'\n",
    "    },\n",
    "\n",
    "        {\n",
    "        'sp': 'mouse',\n",
    "        'file': 'fasta/Mus_musculus.GRCm39.cds.all.fa',\n",
    "        'type': 'nucl',\n",
    "        'id': 'mm'\n",
    "    },\n",
    "\n",
    "        {\n",
    "        'sp': 'zebrafish',\n",
    "        'file': 'fasta/Danio_rerio.GRCz11.cds.all.fa',\n",
    "        'type': 'nucl',\n",
    "        'id': 'zf'\n",
    "    },\n",
    "        {\n",
    "        'sp': 'chick',\n",
    "        'file': 'fasta/Gallus_gallus.bGalGal1.mat.broiler.GRCg7b.cds.all.fa',\n",
    "        'type': 'nucl',\n",
    "        'id': 'ch'\n",
    "    },\n",
    "        {\n",
    "        'sp': 'macaque',\n",
    "        'file': 'fasta/Macaca_mulatta.Mmul_10.cdna.all.fa',\n",
    "        'type': 'nucl',\n",
    "        'id': 'ma'\n",
    "    }\n",
    "    ]\n",
    ")\n",
    "df.to_json('info_transcriptome.json')\n",
    "command_format = \"\"\"\n",
    "conda activate publish\n",
    "cd ~/link/res_publish/homo/SAMap\n",
    "nohup bash map_genes.sh --tr1 {} --t1 {} --n1 {} --tr2 {} --t2 {} --n2 {} > nohup_{}_to_{}.txt &\n",
    "\"\"\"\n",
    "\n",
    "df.index = df['id'].to_numpy()\n",
    "display(df)\n",
    "print('[id is unique] {}'.format(df['id'].is_unique))\n",
    "print(\n",
    "    '[file is all exists ] {}'.format(\n",
    "        df['file'].apply(\n",
    "            lambda x: Path(x).exists()).all()))"
   ]
  },
  {
   "cell_type": "code",
   "execution_count": 2,
   "id": "c7ef3058-c624-44f2-a200-ca1283934eaa",
   "metadata": {},
   "outputs": [
    {
     "name": "stdout",
     "output_type": "stream",
     "text": [
      "Usage: map_genes.sh [--tr1] [--t1] [--n1] [--tr2] [--t2] [--n2]\n",
      "\t[--tr1]: path to transcriptome/proteome 1\n",
      "\t[--t1]: is 1 a transcriptome [nucl] or proteome [prot]\n",
      "\t[--n1]: two character identifier of 1\n",
      "\t[--tr2]: path to transcriptome/proteome 2\n",
      "\t[--t2]: is 2 a transcriptome [nucl] or proteome [prot]\n",
      "\t[--n2]: two character identifier of 2"
     ]
    }
   ],
   "source": [
    "!bash map_genes.sh --help"
   ]
  },
  {
   "cell_type": "code",
   "execution_count": 3,
   "id": "a314ec55-6594-4f04-b629-e0f4958f2cec",
   "metadata": {},
   "outputs": [
    {
     "name": "stdout",
     "output_type": "stream",
     "text": [
      "zebrafish-to-mouse--------------------------------\n",
      "\n",
      "conda activate publish\n",
      "cd ~/link/res_publish/homo/SAMap\n",
      "nohup bash map_genes.sh --tr1 fasta/Danio_rerio.GRCz11.cds.all.fa --t1 nucl --n1 zf --tr2 fasta/Mus_musculus.GRCm39.cds.all.fa --t2 nucl --n2 mm > nohup_zebrafish_to_mouse.txt &\n",
      "\n"
     ]
    }
   ],
   "source": [
    "sp1, file1, type1, id1 = df.loc['zf', :].values\n",
    "sp2, file2, type2, id2 = df.loc['mm', :].values\n",
    "print('{}-to-{}'.format(sp1, sp2).ljust(50, '-'))\n",
    "command = command_format.format(\n",
    "file1, type1, id1, file2, type2, id2,sp1,sp2\n",
    ")\n",
    "print(command)"
   ]
  },
  {
   "cell_type": "code",
   "execution_count": 4,
   "id": "f458139a-2567-4e94-951a-add6b8e39da8",
   "metadata": {},
   "outputs": [
    {
     "name": "stdout",
     "output_type": "stream",
     "text": [
      "zebrafish-to-human--------------------------------\n",
      "\n",
      "conda activate publish\n",
      "cd ~/link/res_publish/homo/SAMap\n",
      "nohup bash map_genes.sh --tr1 fasta/Danio_rerio.GRCz11.cds.all.fa --t1 nucl --n1 zf --tr2 fasta/Homo_sapiens.GRCh38.cdna.all.fa --t2 nucl --n2 hu > nohup_zebrafish_to_human.txt &\n",
      "\n"
     ]
    }
   ],
   "source": [
    "sp1, file1, type1, id1 = df.loc['zf', :].values\n",
    "sp2, file2, type2, id2 = df.loc['hu', :].values\n",
    "print('{}-to-{}'.format(sp1, sp2).ljust(50, '-'))\n",
    "command = command_format.format(\n",
    "file1, type1, id1, file2, type2, id2,sp1,sp2\n",
    ")\n",
    "print(command)"
   ]
  },
  {
   "cell_type": "code",
   "execution_count": 5,
   "id": "2ccaf822-ec85-42e9-9eb2-effcce8deaa1",
   "metadata": {},
   "outputs": [
    {
     "name": "stdout",
     "output_type": "stream",
     "text": [
      "zebrafish-to-chick--------------------------------\n",
      "\n",
      "conda activate publish\n",
      "cd ~/link/res_publish/homo/SAMap\n",
      "nohup bash map_genes.sh --tr1 fasta/Danio_rerio.GRCz11.cds.all.fa --t1 nucl --n1 zf --tr2 fasta/Gallus_gallus.bGalGal1.mat.broiler.GRCg7b.cds.all.fa --t2 nucl --n2 ch > nohup_zebrafish_to_chick.txt &\n",
      "\n"
     ]
    }
   ],
   "source": [
    "sp1, file1, type1, id1 = df.loc['zf', :].values\n",
    "sp2, file2, type2, id2 = df.loc['ch', :].values\n",
    "print('{}-to-{}'.format(sp1, sp2).ljust(50, '-'))\n",
    "command = command_format.format(\n",
    "file1, type1, id1, file2, type2, id2,sp1,sp2\n",
    ")\n",
    "print(command)"
   ]
  },
  {
   "cell_type": "code",
   "execution_count": 6,
   "id": "d7ecd360-60cf-43cc-90b1-5846ba359eed",
   "metadata": {},
   "outputs": [
    {
     "name": "stdout",
     "output_type": "stream",
     "text": [
      "human-to-mouse------------------------------------\n",
      "\n",
      "conda activate publish\n",
      "cd ~/link/res_publish/homo/SAMap\n",
      "nohup bash map_genes.sh --tr1 fasta/Homo_sapiens.GRCh38.cdna.all.fa --t1 nucl --n1 hu --tr2 fasta/Mus_musculus.GRCm39.cds.all.fa --t2 nucl --n2 mm > nohup_human_to_mouse.txt &\n",
      "\n"
     ]
    }
   ],
   "source": [
    "sp1, file1, type1, id1 = df.loc['hu', :].values\n",
    "sp2, file2, type2, id2 = df.loc['mm', :].values\n",
    "print('{}-to-{}'.format(sp1, sp2).ljust(50, '-'))\n",
    "command = command_format.format(\n",
    "file1, type1, id1, file2, type2, id2,sp1,sp2\n",
    ")\n",
    "print(command)"
   ]
  },
  {
   "cell_type": "code",
   "execution_count": 7,
   "id": "bad44d8b-83ad-42af-ac84-00fcd7ec7dba",
   "metadata": {},
   "outputs": [
    {
     "name": "stdout",
     "output_type": "stream",
     "text": [
      "mouse-to-macaque----------------------------------\n",
      "\n",
      "conda activate publish\n",
      "cd ~/link/res_publish/homo/SAMap\n",
      "nohup bash map_genes.sh --tr1 fasta/Mus_musculus.GRCm39.cds.all.fa --t1 nucl --n1 mm --tr2 fasta/Macaca_mulatta.Mmul_10.cdna.all.fa --t2 nucl --n2 ma > nohup_mouse_to_macaque.txt &\n",
      "\n"
     ]
    }
   ],
   "source": [
    "sp1, file1, type1, id1 = df.loc['mm', :].values\n",
    "sp2, file2, type2, id2 = df.loc['ma', :].values\n",
    "print('{}-to-{}'.format(sp1, sp2).ljust(50, '-'))\n",
    "command = command_format.format(\n",
    "file1, type1, id1, file2, type2, id2,sp1,sp2\n",
    ")\n",
    "print(command)"
   ]
  },
  {
   "cell_type": "code",
   "execution_count": 8,
   "id": "83cdb1b3-c0d6-4fd8-8ee2-06b5d8e92705",
   "metadata": {},
   "outputs": [
    {
     "name": "stdout",
     "output_type": "stream",
     "text": [
      "---------------------------------------------\n",
      "[finish]\n",
      "---------------------------------------------\n"
     ]
    }
   ],
   "source": [
    "print(\"\\n[finish]\\n\".center(100,\"-\"))"
   ]
  }
 ],
 "metadata": {
  "kernelspec": {
   "display_name": "publish",
   "language": "python",
   "name": "publish"
  },
  "language_info": {
   "codemirror_mode": {
    "name": "ipython",
    "version": 3
   },
   "file_extension": ".py",
   "mimetype": "text/x-python",
   "name": "python",
   "nbconvert_exporter": "python",
   "pygments_lexer": "ipython3",
   "version": "3.9.18"
  }
 },
 "nbformat": 4,
 "nbformat_minor": 5
}
