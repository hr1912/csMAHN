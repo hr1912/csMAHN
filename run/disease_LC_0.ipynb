{
 "cells": [
  {
   "cell_type": "markdown",
   "id": "7d28ed9e-610a-4daf-a54a-bb854f163dc2",
   "metadata": {},
   "source": [
    "# [PMC6620049](https://www.ncbi.nlm.nih.gov/pmc/articles/PMC6620049/)\n",
    "\n",
    "> [GSE127465](https://www.ncbi.nlm.nih.gov/geo/query/acc.cgi?acc=GSE127465)\n",
    "\n",
    "|sp|tissue|status|\n",
    "|:-:|:-:|:-:|\n",
    "|h|blood|tumor|\n",
    "|h|liver|tumor|\n",
    "|m|liver|tumor|\n",
    "|m|liver|healthy|\n",
    "\n",
    "\n",
    "+ immue cell 大类群\n",
    "+ immue cell 亚类\n",
    "    + Neutrophil\n",
    "    + Dendritic Cells\n",
    "    + Monocyte"
   ]
  },
  {
   "cell_type": "code",
   "execution_count": 1,
   "id": "617b4fcc-7f29-40f6-b912-4aca085dbd51",
   "metadata": {},
   "outputs": [],
   "source": [
    "import sys\n",
    "from pathlib import Path\n",
    "p_link = Path(\"/public/workspace/licanchengup/link\")\n",
    "p_publish = p_link.joinpath(\"res_publish\")\n",
    "None if str(p_publish) in sys.path else sys.path.append(str(p_publish))"
   ]
  },
  {
   "cell_type": "code",
   "execution_count": null,
   "id": "0e41ded1-4adf-45a1-9239-737a145743eb",
   "metadata": {},
   "outputs": [],
   "source": [
    "from func import *"
   ]
  },
  {
   "cell_type": "code",
   "execution_count": null,
   "id": "76782c34-6620-409e-82a0-81969f81df94",
   "metadata": {},
   "outputs": [
    {
     "name": "stderr",
     "output_type": "stream",
     "text": [
      "/public/workspace/licanchengup/apps/miniconda3/envs/publish/lib/python3.9/site-packages/tqdm/auto.py:21: TqdmWarning: IProgress not found. Please update jupyter and ipywidgets. See https://ipywidgets.readthedocs.io/en/stable/user_install.html\n",
      "  from .autonotebook import tqdm as notebook_tqdm\n",
      "2024-03-21 20:43:08.036023: I tensorflow/core/platform/cpu_feature_guard.cc:182] This TensorFlow binary is optimized to use available CPU instructions in performance-critical operations.\n",
      "To enable the following instructions: SSE4.1 SSE4.2 AVX AVX2 AVX512F FMA, in other operations, rebuild TensorFlow with the appropriate compiler flags.\n"
     ]
    }
   ],
   "source": [
    "p_root = p_cache.joinpath('disease','LungCancer_GSE127465')\n",
    "\n",
    "def limite_func(adata, key, value):\n",
    "    adata = adata.copy()\n",
    "    adata = adata[adata.obs[key].str.match(value)]\n",
    "    return adata\n",
    "\n",
    "\n",
    "map_limite_func = {\n",
    "\n",
    "    \"allImm\": lambda adata: adata,\n",
    "    \n",
    "    \"DendriticCells\": lambda adata: limite_func(\n",
    "        adata, key=\"sub_cell_type\", value=\"p?(Mono)?DC\\\\d?\"\n",
    "    ),\n",
    "\n",
    "    \"Monocyte\": lambda adata: limite_func(\n",
    "        adata, key=\"sub_cell_type\", value=\"Mono\\\\d\"\n",
    "    ),\n",
    "    \"Neutrophils\": lambda adata: limite_func(\n",
    "        adata, key=\"cell_type\", value=\"^Neutrophils$\"\n",
    "    ),\n",
    "}"
   ]
  },
  {
   "cell_type": "code",
   "execution_count": 3,
   "id": "c41a1596-42a7-4089-b708-d3a816f4fe40",
   "metadata": {},
   "outputs": [
    {
     "data": {
      "text/html": [
       "<div>\n",
       "<style scoped>\n",
       "    .dataframe tbody tr th:only-of-type {\n",
       "        vertical-align: middle;\n",
       "    }\n",
       "\n",
       "    .dataframe tbody tr th {\n",
       "        vertical-align: top;\n",
       "    }\n",
       "\n",
       "    .dataframe thead th {\n",
       "        text-align: right;\n",
       "    }\n",
       "</style>\n",
       "<table border=\"1\" class=\"dataframe\">\n",
       "  <thead>\n",
       "    <tr style=\"text-align: right;\">\n",
       "      <th></th>\n",
       "      <th>path</th>\n",
       "      <th>name</th>\n",
       "      <th>gsm_id</th>\n",
       "      <th>sp</th>\n",
       "      <th>sample</th>\n",
       "    </tr>\n",
       "  </thead>\n",
       "  <tbody>\n",
       "    <tr>\n",
       "      <th>0</th>\n",
       "      <td>/public/workspace/licanchengup/link/res_publis...</td>\n",
       "      <td>GSM3635310_mouse_t_1_2_raw_counts.tsv.gz</td>\n",
       "      <td>GSM3635310</td>\n",
       "      <td>mouse</td>\n",
       "      <td>t_1_2</td>\n",
       "    </tr>\n",
       "    <tr>\n",
       "      <th>1</th>\n",
       "      <td>/public/workspace/licanchengup/link/res_publis...</td>\n",
       "      <td>GSM3635304_mouse_h_1_1_raw_counts.tsv.gz</td>\n",
       "      <td>GSM3635304</td>\n",
       "      <td>mouse</td>\n",
       "      <td>h_1_1</td>\n",
       "    </tr>\n",
       "  </tbody>\n",
       "</table>\n",
       "</div>"
      ],
      "text/plain": [
       "                                                path  \\\n",
       "0  /public/workspace/licanchengup/link/res_publis...   \n",
       "1  /public/workspace/licanchengup/link/res_publis...   \n",
       "\n",
       "                                       name      gsm_id     sp sample  \n",
       "0  GSM3635310_mouse_t_1_2_raw_counts.tsv.gz  GSM3635310  mouse  t_1_2  \n",
       "1  GSM3635304_mouse_h_1_1_raw_counts.tsv.gz  GSM3635304  mouse  h_1_1  "
      ]
     },
     "metadata": {},
     "output_type": "display_data"
    },
    {
     "data": {
      "text/plain": [
       "(40, 5)"
      ]
     },
     "metadata": {},
     "output_type": "display_data"
    }
   ],
   "source": [
    "df_path = pd.DataFrame({\n",
    "    'path': p_root.joinpath('GSE127465_RAW').iterdir()\n",
    "})\n",
    "df_path['name'] = df_path['path'].apply(lambda x: x.name)\n",
    "df_path = df_path[df_path['path'].apply(lambda x: x.match('*raw_counts*'))]\n",
    "df_path = df_path.join(df_path['name'].str.extract(\n",
    "    '^(?P<gsm_id>GSM\\\\d+)_(?P<sp>[^_]+)_(?P<sample>.+)_raw_counts.tsv.gz'))\n",
    "display(df_path.head(2), df_path.shape)"
   ]
  },
  {
   "cell_type": "code",
   "execution_count": 4,
   "id": "4de8f106-6100-4981-bbdb-e278f42dff46",
   "metadata": {},
   "outputs": [
    {
     "data": {
      "text/html": [
       "<div>\n",
       "<style scoped>\n",
       "    .dataframe tbody tr th:only-of-type {\n",
       "        vertical-align: middle;\n",
       "    }\n",
       "\n",
       "    .dataframe tbody tr th {\n",
       "        vertical-align: top;\n",
       "    }\n",
       "\n",
       "    .dataframe thead th {\n",
       "        text-align: right;\n",
       "    }\n",
       "</style>\n",
       "<table border=\"1\" class=\"dataframe\">\n",
       "  <thead>\n",
       "    <tr style=\"text-align: right;\">\n",
       "      <th></th>\n",
       "      <th>gsm_id</th>\n",
       "      <th>tag</th>\n",
       "      <th>sample_fullname</th>\n",
       "      <th>sp</th>\n",
       "      <th>sample</th>\n",
       "    </tr>\n",
       "  </thead>\n",
       "  <tbody>\n",
       "    <tr>\n",
       "      <th>0</th>\n",
       "      <td>GSM3635278</td>\n",
       "      <td>patient_1_tumor [human_p1t1]</td>\n",
       "      <td>patient_1_tumor</td>\n",
       "      <td>human</td>\n",
       "      <td>p1t1</td>\n",
       "    </tr>\n",
       "    <tr>\n",
       "      <th>1</th>\n",
       "      <td>GSM3635279</td>\n",
       "      <td>patient_1_tumor [human_p1t2]</td>\n",
       "      <td>patient_1_tumor</td>\n",
       "      <td>human</td>\n",
       "      <td>p1t2</td>\n",
       "    </tr>\n",
       "  </tbody>\n",
       "</table>\n",
       "</div>"
      ],
      "text/plain": [
       "       gsm_id                           tag  sample_fullname     sp sample\n",
       "0  GSM3635278  patient_1_tumor [human_p1t1]  patient_1_tumor  human   p1t1\n",
       "1  GSM3635279  patient_1_tumor [human_p1t2]  patient_1_tumor  human   p1t2"
      ]
     },
     "metadata": {},
     "output_type": "display_data"
    },
    {
     "data": {
      "text/plain": [
       "(40, 5)"
      ]
     },
     "metadata": {},
     "output_type": "display_data"
    },
    {
     "name": "stdout",
     "output_type": "stream",
     "text": [
      "True\tgsm_id is unique\n",
      "True\ttag is unique\n",
      "False\tsample_fullname is unique\n",
      "False\tsp is unique\n",
      "True\tsample is unique\n"
     ]
    }
   ],
   "source": [
    "html_table = pd.read_csv(\n",
    "    'GSE127465_html_table.csv',\n",
    "    index_col=None,\n",
    "    header=None,\n",
    "    names=[\n",
    "        'gsm_id',\n",
    "        'tag'])\n",
    "html_table = html_table.join(html_table['tag'].str.extract(\n",
    "    '^(?P<sample_fullname>\\\\w+) \\\\[(?P<sp>[^_]+)_(?P<sample>\\\\w+)]'))\n",
    "display(html_table.head(2), html_table.shape)\n",
    "[print('{}\\t{} is unique'.format(html_table[_].is_unique, _))\n",
    " for _ in html_table.columns]\n",
    "\n",
    "df_path = df_path.merge(html_table.loc[:, 'gsm_id,sample_fullname'.split(\n",
    "    ',')], on='gsm_id').sort_values(['sp', 'sample'])"
   ]
  },
  {
   "cell_type": "code",
   "execution_count": 5,
   "id": "34a0b238-6fcc-4a55-80c7-9beed6b4782d",
   "metadata": {},
   "outputs": [],
   "source": [
    "df_path['tissue'] = 'lung'\n",
    "df_path['tissue'] = df_path['tissue'].mask(\n",
    "    df_path['sample_fullname'].str.contains('blood'), 'blood')\n",
    "df_path['status'] = ''\n",
    "df_path['status'] = df_path['status'].mask(\n",
    "    df_path['sample_fullname'].str.contains('healthy'), 'healthy')\n",
    "df_path['status'] = df_path['status'].mask(\n",
    "    df_path['sample_fullname'].str.contains('patient'), 'tumor')\n",
    "df_path['status'] = df_path['status'].mask(\n",
    "    df_path['sample_fullname'].str.contains('tumor'), 'tumor')\n",
    "df_path['individual'] = df_path['sample_fullname']\\\n",
    "    .str.extract('([mousepaint]+_\\\\d)', expand=False)\\\n",
    "    .str.replace('patient', 'human', regex=False)\\\n",
    "    .apply(lambda x: '{}{}'.format(x[0], x[-1]))\n",
    "df_path['repeat'] = df_path['sample'].str.extract('(\\\\d)$', expand=False)\n",
    "df_path['_batch'] = df_path.apply(lambda row: '{}{}{}_{}'.format(\n",
    "    row['individual'], row['status'][0], row['tissue'][0], row['repeat']\n",
    "), axis=1)"
   ]
  },
  {
   "cell_type": "code",
   "execution_count": 6,
   "id": "a33f74e3-cb15-4a91-b64f-084ce0182cd8",
   "metadata": {},
   "outputs": [
    {
     "data": {
      "text/html": [
       "<div>\n",
       "<style scoped>\n",
       "    .dataframe tbody tr th:only-of-type {\n",
       "        vertical-align: middle;\n",
       "    }\n",
       "\n",
       "    .dataframe tbody tr th {\n",
       "        vertical-align: top;\n",
       "    }\n",
       "\n",
       "    .dataframe thead th {\n",
       "        text-align: right;\n",
       "    }\n",
       "</style>\n",
       "<table border=\"1\" class=\"dataframe\">\n",
       "  <thead>\n",
       "    <tr style=\"text-align: right;\">\n",
       "      <th></th>\n",
       "      <th>_batch</th>\n",
       "      <th>sp</th>\n",
       "      <th>individual</th>\n",
       "      <th>status</th>\n",
       "      <th>tissue</th>\n",
       "      <th>repeat</th>\n",
       "    </tr>\n",
       "  </thead>\n",
       "  <tbody>\n",
       "    <tr>\n",
       "      <th>26</th>\n",
       "      <td>h1tb_1</td>\n",
       "      <td>human</td>\n",
       "      <td>h1</td>\n",
       "      <td>tumor</td>\n",
       "      <td>blood</td>\n",
       "      <td>1</td>\n",
       "    </tr>\n",
       "    <tr>\n",
       "      <th>2</th>\n",
       "      <td>h1tb_2</td>\n",
       "      <td>human</td>\n",
       "      <td>h1</td>\n",
       "      <td>tumor</td>\n",
       "      <td>blood</td>\n",
       "      <td>2</td>\n",
       "    </tr>\n",
       "  </tbody>\n",
       "</table>\n",
       "</div>"
      ],
      "text/plain": [
       "    _batch     sp individual status tissue repeat\n",
       "26  h1tb_1  human         h1  tumor  blood      1\n",
       "2   h1tb_2  human         h1  tumor  blood      2"
      ]
     },
     "execution_count": 6,
     "metadata": {},
     "output_type": "execute_result"
    }
   ],
   "source": [
    "df_path.loc[:, '_batch,sp,individual,status,tissue,repeat'.split(\n",
    "    ',')].head(2)"
   ]
  },
  {
   "cell_type": "markdown",
   "id": "e1d245a6-b2fc-40ec-b97d-e8a1fd3675fe",
   "metadata": {},
   "source": [
    "# human"
   ]
  },
  {
   "cell_type": "code",
   "execution_count": 7,
   "id": "bdfb3a43-8570-4c6d-96a4-926c58b516c9",
   "metadata": {},
   "outputs": [
    {
     "name": "stdout",
     "output_type": "stream",
     "text": [
      "Patient\n",
      "Tissue\n",
      "Barcoding emulsion\n",
      "Library\n",
      "Barcode\n",
      "Total counts\n",
      "Percent counts from mitochondrial genes\n",
      "Most likely LM22 cell type\n",
      "Major cell type\n",
      "Minor subset\n",
      "used_in_NSCLC_all_cells\n",
      "x_NSCLC_all_cells\n",
      "y_NSCLC_all_cells\n",
      "used_in_NSCLC_and_blood_immune\n",
      "x_NSCLC_and_blood_immune\n",
      "y_NSCLC_and_blood_immune\n",
      "used_in_NSCLC_immune\n",
      "x_NSCLC_immune\n",
      "y_NSCLC_immune\n",
      "used_in_NSCLC_non_immune\n",
      "x_NSCLC_non_immune\n",
      "y_NSCLC_non_immune\n",
      "used_in_blood\n",
      "x_blood\n",
      "y_blood\n"
     ]
    },
    {
     "data": {
      "text/html": [
       "<div>\n",
       "<style scoped>\n",
       "    .dataframe tbody tr th:only-of-type {\n",
       "        vertical-align: middle;\n",
       "    }\n",
       "\n",
       "    .dataframe tbody tr th {\n",
       "        vertical-align: top;\n",
       "    }\n",
       "\n",
       "    .dataframe thead th {\n",
       "        text-align: right;\n",
       "    }\n",
       "</style>\n",
       "<table border=\"1\" class=\"dataframe\">\n",
       "  <thead>\n",
       "    <tr style=\"text-align: right;\">\n",
       "      <th></th>\n",
       "      <th>sample</th>\n",
       "      <th>_batch</th>\n",
       "      <th>sp</th>\n",
       "      <th>individual</th>\n",
       "      <th>status</th>\n",
       "      <th>tissue</th>\n",
       "      <th>repeat</th>\n",
       "      <th>Barcode</th>\n",
       "      <th>Library</th>\n",
       "      <th>Patient</th>\n",
       "      <th>Major cell type</th>\n",
       "      <th>Minor subset</th>\n",
       "      <th>used_in_NSCLC_immune</th>\n",
       "      <th>x_NSCLC_immune</th>\n",
       "      <th>y_NSCLC_immune</th>\n",
       "    </tr>\n",
       "  </thead>\n",
       "  <tbody>\n",
       "    <tr>\n",
       "      <th>bcCSBJ;p1b1</th>\n",
       "      <td>p1b1</td>\n",
       "      <td>h1tb_1</td>\n",
       "      <td>human</td>\n",
       "      <td>h1</td>\n",
       "      <td>tumor</td>\n",
       "      <td>blood</td>\n",
       "      <td>1</td>\n",
       "      <td>bcCSBJ</td>\n",
       "      <td>p1b1</td>\n",
       "      <td>p1</td>\n",
       "      <td>bT cells</td>\n",
       "      <td>bCD4T1</td>\n",
       "      <td>False</td>\n",
       "      <td>NaN</td>\n",
       "      <td>NaN</td>\n",
       "    </tr>\n",
       "    <tr>\n",
       "      <th>bcAVUP;p1b1</th>\n",
       "      <td>p1b1</td>\n",
       "      <td>h1tb_1</td>\n",
       "      <td>human</td>\n",
       "      <td>h1</td>\n",
       "      <td>tumor</td>\n",
       "      <td>blood</td>\n",
       "      <td>1</td>\n",
       "      <td>bcAVUP</td>\n",
       "      <td>p1b1</td>\n",
       "      <td>p1</td>\n",
       "      <td>bMonocytes</td>\n",
       "      <td>bMono2</td>\n",
       "      <td>False</td>\n",
       "      <td>NaN</td>\n",
       "      <td>NaN</td>\n",
       "    </tr>\n",
       "  </tbody>\n",
       "</table>\n",
       "</div>"
      ],
      "text/plain": [
       "            sample  _batch     sp individual status tissue repeat Barcode  \\\n",
       "bcCSBJ;p1b1   p1b1  h1tb_1  human         h1  tumor  blood      1  bcCSBJ   \n",
       "bcAVUP;p1b1   p1b1  h1tb_1  human         h1  tumor  blood      1  bcAVUP   \n",
       "\n",
       "            Library Patient Major cell type Minor subset  \\\n",
       "bcCSBJ;p1b1    p1b1      p1        bT cells       bCD4T1   \n",
       "bcAVUP;p1b1    p1b1      p1      bMonocytes       bMono2   \n",
       "\n",
       "             used_in_NSCLC_immune  x_NSCLC_immune  y_NSCLC_immune  \n",
       "bcCSBJ;p1b1                 False             NaN             NaN  \n",
       "bcAVUP;p1b1                 False             NaN             NaN  "
      ]
     },
     "metadata": {},
     "output_type": "display_data"
    },
    {
     "data": {
      "text/plain": [
       "(54773, 15)"
      ]
     },
     "metadata": {},
     "output_type": "display_data"
    }
   ],
   "source": [
    "df_meta_h = pd.read_csv(\n",
    "    p_root.joinpath('GSE127465_human_cell_metadata_54773x25.tsv.gz'),\n",
    "    sep='\\t',\n",
    "    index_col=None)\n",
    "\n",
    "print(*df_meta_h.columns, sep='\\n')\n",
    "df_meta_h = df_meta_h.loc[:,\n",
    "                          'Barcode,Library,Patient,Major cell type,Minor subset,used_in_NSCLC_immune,x_NSCLC_immune,y_NSCLC_immune'.split(',')]\n",
    "df_meta_h = pd.merge(\n",
    "    df_path.loc[:, 'sample,_batch,sp,individual,status,tissue,repeat'.split(',')],\n",
    "    df_meta_h,\n",
    "    left_on='sample', right_on='Library'\n",
    ")\n",
    "\n",
    "_temp = df_meta_h.apply(\n",
    "    lambda row: '{Barcode};{Library}'.format(\n",
    "        **row), axis=1)\n",
    "assert _temp.is_unique, '[Error] not unique'\n",
    "df_meta_h.index = _temp.to_numpy()\n",
    "del _temp\n",
    "display(df_meta_h.head(2), df_meta_h.shape)\n",
    "\n",
    "df_path_h = df_path.query(\"sp == 'human'\")"
   ]
  },
  {
   "cell_type": "code",
   "execution_count": 8,
   "id": "d83f92ae-1df1-44d1-a853-88330ec49966",
   "metadata": {},
   "outputs": [
    {
     "data": {
      "text/plain": [
       "AnnData object with n_obs × n_vars = 54773 × 41861\n",
       "    obs: 'sample', '_batch', 'sp', 'individual', 'status', 'tissue', 'repeat', 'Barcode', 'Library', 'Patient', 'Major cell type', 'Minor subset', 'used_in_NSCLC_immune', 'x_NSCLC_immune', 'y_NSCLC_immune'"
      ]
     },
     "metadata": {},
     "output_type": "display_data"
    },
    {
     "data": {
      "text/html": [
       "<div>\n",
       "<style scoped>\n",
       "    .dataframe tbody tr th:only-of-type {\n",
       "        vertical-align: middle;\n",
       "    }\n",
       "\n",
       "    .dataframe tbody tr th {\n",
       "        vertical-align: top;\n",
       "    }\n",
       "\n",
       "    .dataframe thead th {\n",
       "        text-align: right;\n",
       "    }\n",
       "</style>\n",
       "<table border=\"1\" class=\"dataframe\">\n",
       "  <thead>\n",
       "    <tr style=\"text-align: right;\">\n",
       "      <th></th>\n",
       "      <th>sample</th>\n",
       "      <th>_batch</th>\n",
       "      <th>sp</th>\n",
       "      <th>individual</th>\n",
       "      <th>status</th>\n",
       "      <th>tissue</th>\n",
       "      <th>repeat</th>\n",
       "      <th>Barcode</th>\n",
       "      <th>Library</th>\n",
       "      <th>Patient</th>\n",
       "      <th>Major cell type</th>\n",
       "      <th>Minor subset</th>\n",
       "      <th>used_in_NSCLC_immune</th>\n",
       "      <th>x_NSCLC_immune</th>\n",
       "      <th>y_NSCLC_immune</th>\n",
       "    </tr>\n",
       "  </thead>\n",
       "  <tbody>\n",
       "    <tr>\n",
       "      <th>bcCSBJ;p1b1</th>\n",
       "      <td>p1b1</td>\n",
       "      <td>h1tb_1</td>\n",
       "      <td>human</td>\n",
       "      <td>h1</td>\n",
       "      <td>tumor</td>\n",
       "      <td>blood</td>\n",
       "      <td>1</td>\n",
       "      <td>bcCSBJ</td>\n",
       "      <td>p1b1</td>\n",
       "      <td>p1</td>\n",
       "      <td>bT cells</td>\n",
       "      <td>bCD4T1</td>\n",
       "      <td>False</td>\n",
       "      <td>NaN</td>\n",
       "      <td>NaN</td>\n",
       "    </tr>\n",
       "    <tr>\n",
       "      <th>bcAVUP;p1b1</th>\n",
       "      <td>p1b1</td>\n",
       "      <td>h1tb_1</td>\n",
       "      <td>human</td>\n",
       "      <td>h1</td>\n",
       "      <td>tumor</td>\n",
       "      <td>blood</td>\n",
       "      <td>1</td>\n",
       "      <td>bcAVUP</td>\n",
       "      <td>p1b1</td>\n",
       "      <td>p1</td>\n",
       "      <td>bMonocytes</td>\n",
       "      <td>bMono2</td>\n",
       "      <td>False</td>\n",
       "      <td>NaN</td>\n",
       "      <td>NaN</td>\n",
       "    </tr>\n",
       "  </tbody>\n",
       "</table>\n",
       "</div>"
      ],
      "text/plain": [
       "            sample  _batch     sp individual status tissue repeat Barcode  \\\n",
       "bcCSBJ;p1b1   p1b1  h1tb_1  human         h1  tumor  blood      1  bcCSBJ   \n",
       "bcAVUP;p1b1   p1b1  h1tb_1  human         h1  tumor  blood      1  bcAVUP   \n",
       "\n",
       "            Library Patient Major cell type Minor subset  \\\n",
       "bcCSBJ;p1b1    p1b1      p1        bT cells       bCD4T1   \n",
       "bcAVUP;p1b1    p1b1      p1      bMonocytes       bMono2   \n",
       "\n",
       "             used_in_NSCLC_immune  x_NSCLC_immune  y_NSCLC_immune  \n",
       "bcCSBJ;p1b1                 False             NaN             NaN  \n",
       "bcAVUP;p1b1                 False             NaN             NaN  "
      ]
     },
     "metadata": {},
     "output_type": "display_data"
    }
   ],
   "source": [
    "df_path_h.index = np.arange(df_path_h.shape[0])\n",
    "p_temp_h = p_cache.joinpath('disease', 'temp_LC_h.h5ad')\n",
    "adata_h = None\n",
    "if p_temp_h.exists():\n",
    "    adata_h = sc.read_h5ad(p_temp_h)\n",
    "else:\n",
    "    res_h = {}\n",
    "    for _i, _row in df_path_h.iterrows():\n",
    "        print('\\r[{}/{}]{}'.format(_i+1,\n",
    "                                   df_path_h.shape[0],\n",
    "                                   _row['sample']).ljust(75, '-'), end='')\n",
    "        _adata = None\n",
    "        _adata = sc.read_csv(_row['path'], delimiter='\\t')\n",
    "        res_h.update({\n",
    "            _row['sample']: _adata\n",
    "        })\n",
    "    print('sample\\tobs_unique\\tvar_unique')\n",
    "    for k, v in res_h.items():\n",
    "        print(\n",
    "            '{}\\t{}\\t{}'.format(\n",
    "                k,\n",
    "                v.obs.index.is_unique,\n",
    "                v.var.index.is_unique))\n",
    "\n",
    "    adata_h = sc.concat(res_h, index_unique=';')\n",
    "    adata_h.X = csr_matrix(adata_h.X)\n",
    "    display(type(adata_h.X))\n",
    "    del res_h\n",
    "    display(\n",
    "        adata_h.obs.head(2),\n",
    "        adata_h.obs.shape,\n",
    "        adata_h.obs.index.is_unique,\n",
    "        adata_h.var.head(2),\n",
    "        adata_h.var.shape,\n",
    "        adata_h.var.index.is_unique)\n",
    "\n",
    "    display(\n",
    "        pd.Series(\n",
    "            df_meta_h.index.isin(\n",
    "                adata_h.obs.index)).value_counts(), pd.Series(\n",
    "            adata_h.obs.index.isin(\n",
    "                df_meta_h.index)).value_counts())\n",
    "    adata_h = adata_h[adata_h.obs.index.isin(df_meta_h.index)]\n",
    "    adata_h.obs = adata_h.obs.loc[:, []].join(df_meta_h)\n",
    "\n",
    "    adata_h.write_h5ad(p_temp_h)\n",
    "    print('[out] {}'.format(p_temp_h.name))\n",
    "adata_h.obs = adata_h.obs.apply(lambda x: x.astype(str) if x.dtype.name == 'category' else x)\n",
    "display(adata_h, adata_h.obs.head(2))"
   ]
  },
  {
   "cell_type": "code",
   "execution_count": 9,
   "id": "43581445-bcb6-4dcc-b7f6-27d1059ec4ef",
   "metadata": {},
   "outputs": [
    {
     "data": {
      "text/html": [
       "<div>\n",
       "<style scoped>\n",
       "    .dataframe tbody tr th:only-of-type {\n",
       "        vertical-align: middle;\n",
       "    }\n",
       "\n",
       "    .dataframe tbody tr th {\n",
       "        vertical-align: top;\n",
       "    }\n",
       "\n",
       "    .dataframe thead th {\n",
       "        text-align: right;\n",
       "    }\n",
       "</style>\n",
       "<table border=\"1\" class=\"dataframe\">\n",
       "  <thead>\n",
       "    <tr style=\"text-align: right;\">\n",
       "      <th></th>\n",
       "      <th>sample</th>\n",
       "      <th>_batch</th>\n",
       "      <th>sp</th>\n",
       "      <th>individual</th>\n",
       "      <th>status</th>\n",
       "      <th>tissue</th>\n",
       "      <th>repeat</th>\n",
       "      <th>Barcode</th>\n",
       "      <th>Library</th>\n",
       "      <th>Patient</th>\n",
       "      <th>Major cell type</th>\n",
       "      <th>Minor subset</th>\n",
       "      <th>used_in_NSCLC_immune</th>\n",
       "      <th>x_NSCLC_immune</th>\n",
       "      <th>y_NSCLC_immune</th>\n",
       "      <th>barcode</th>\n",
       "    </tr>\n",
       "  </thead>\n",
       "  <tbody>\n",
       "    <tr>\n",
       "      <th>bcCSBJ;h1tb_1</th>\n",
       "      <td>p1b1</td>\n",
       "      <td>h1tb_1</td>\n",
       "      <td>human</td>\n",
       "      <td>h1</td>\n",
       "      <td>tumor</td>\n",
       "      <td>blood</td>\n",
       "      <td>1</td>\n",
       "      <td>bcCSBJ</td>\n",
       "      <td>p1b1</td>\n",
       "      <td>p1</td>\n",
       "      <td>bT cells</td>\n",
       "      <td>bCD4T1</td>\n",
       "      <td>False</td>\n",
       "      <td>NaN</td>\n",
       "      <td>NaN</td>\n",
       "      <td>bcCSBJ</td>\n",
       "    </tr>\n",
       "    <tr>\n",
       "      <th>bcAVUP;h1tb_1</th>\n",
       "      <td>p1b1</td>\n",
       "      <td>h1tb_1</td>\n",
       "      <td>human</td>\n",
       "      <td>h1</td>\n",
       "      <td>tumor</td>\n",
       "      <td>blood</td>\n",
       "      <td>1</td>\n",
       "      <td>bcAVUP</td>\n",
       "      <td>p1b1</td>\n",
       "      <td>p1</td>\n",
       "      <td>bMonocytes</td>\n",
       "      <td>bMono2</td>\n",
       "      <td>False</td>\n",
       "      <td>NaN</td>\n",
       "      <td>NaN</td>\n",
       "      <td>bcAVUP</td>\n",
       "    </tr>\n",
       "  </tbody>\n",
       "</table>\n",
       "</div>"
      ],
      "text/plain": [
       "              sample  _batch     sp individual status tissue repeat Barcode  \\\n",
       "bcCSBJ;h1tb_1   p1b1  h1tb_1  human         h1  tumor  blood      1  bcCSBJ   \n",
       "bcAVUP;h1tb_1   p1b1  h1tb_1  human         h1  tumor  blood      1  bcAVUP   \n",
       "\n",
       "              Library Patient Major cell type Minor subset  \\\n",
       "bcCSBJ;h1tb_1    p1b1      p1        bT cells       bCD4T1   \n",
       "bcAVUP;h1tb_1    p1b1      p1      bMonocytes       bMono2   \n",
       "\n",
       "               used_in_NSCLC_immune  x_NSCLC_immune  y_NSCLC_immune barcode  \n",
       "bcCSBJ;h1tb_1                 False             NaN             NaN  bcCSBJ  \n",
       "bcAVUP;h1tb_1                 False             NaN             NaN  bcAVUP  "
      ]
     },
     "metadata": {},
     "output_type": "display_data"
    },
    {
     "data": {
      "text/plain": [
       "(54773, 16)"
      ]
     },
     "metadata": {},
     "output_type": "display_data"
    }
   ],
   "source": [
    "adata_h.obs['barcode'] = adata_h.obs.index.str.extract(\n",
    "    '(\\\\w+);', expand=False)\n",
    "_temp = adata_h.obs.apply(\n",
    "    lambda row: '{barcode};{_batch}'.format(\n",
    "        **row), axis=1)\n",
    "assert _temp.is_unique, '[Error] not unique'\n",
    "adata_h.obs.index = _temp\n",
    "display(adata_h.obs.head(2), adata_h.obs.shape)\n",
    "del _temp"
   ]
  },
  {
   "cell_type": "markdown",
   "id": "37a0ee87-8529-475e-86d0-579a01420faf",
   "metadata": {},
   "source": [
    "## human blood and lung cancer"
   ]
  },
  {
   "cell_type": "code",
   "execution_count": 10,
   "id": "7f10efb5-c393-41df-ac79-ea8058b09314",
   "metadata": {},
   "outputs": [
    {
     "data": {
      "text/plain": [
       "View of AnnData object with n_obs × n_vars = 14411 × 41861\n",
       "    obs: 'sample', '_batch', 'sp', 'individual', 'status', 'tissue', 'repeat', 'Barcode', 'Library', 'Patient', 'Major cell type', 'Minor subset', 'used_in_NSCLC_immune', 'x_NSCLC_immune', 'y_NSCLC_immune', 'barcode'"
      ]
     },
     "metadata": {},
     "output_type": "display_data"
    },
    {
     "data": {
      "text/plain": [
       "View of AnnData object with n_obs × n_vars = 34558 × 41861\n",
       "    obs: 'sample', '_batch', 'sp', 'individual', 'status', 'tissue', 'repeat', 'Barcode', 'Library', 'Patient', 'Major cell type', 'Minor subset', 'used_in_NSCLC_immune', 'x_NSCLC_immune', 'y_NSCLC_immune', 'barcode'"
      ]
     },
     "metadata": {},
     "output_type": "display_data"
    }
   ],
   "source": [
    "adata_hb = adata_h[adata_h.obs['tissue'] == 'blood', :]\n",
    "adata_hl = adata_h[adata_h.obs.index.isin(\n",
    "    adata_h.obs.query(\"used_in_NSCLC_immune & tissue == 'lung'\").index), :]\n",
    "display(adata_hb, adata_hl)"
   ]
  },
  {
   "cell_type": "code",
   "execution_count": 11,
   "id": "8e924d15-9696-4bbf-8777-c6a516cb8eec",
   "metadata": {
    "scrolled": true
   },
   "outputs": [
    {
     "data": {
      "text/plain": [
       "array(['tMoMacDC', 'tMast cells', 'tT cells', 'tNeutrophils', 'tNK cells',\n",
       "       'tPlasma cells', 'tB cells', 'tpDC', 'tRBC'], dtype=object)"
      ]
     },
     "metadata": {},
     "output_type": "display_data"
    },
    {
     "name": "stderr",
     "output_type": "stream",
     "text": [
      "/tmp/ipykernel_111130/2676178602.py:2: ImplicitModificationWarning: Trying to modify attribute `.obs` of view, initializing view as actual.\n",
      "  adata_hl.obs['cell_type'] = adata_hl.obs['Major cell type'].str.replace(\n"
     ]
    },
    {
     "data": {
      "text/plain": [
       "array(['MoMacDC', 'Mast cells', 'T cells', 'Neutrophils', 'NK cells',\n",
       "       'Plasma cells', 'B cells', 'pDC', 'RBC'], dtype=object)"
      ]
     },
     "metadata": {},
     "output_type": "display_data"
    },
    {
     "data": {
      "text/html": [
       "<div>\n",
       "<style scoped>\n",
       "    .dataframe tbody tr th:only-of-type {\n",
       "        vertical-align: middle;\n",
       "    }\n",
       "\n",
       "    .dataframe tbody tr th {\n",
       "        vertical-align: top;\n",
       "    }\n",
       "\n",
       "    .dataframe thead th {\n",
       "        text-align: right;\n",
       "    }\n",
       "</style>\n",
       "<table border=\"1\" class=\"dataframe\">\n",
       "  <thead>\n",
       "    <tr style=\"text-align: right;\">\n",
       "      <th></th>\n",
       "      <th>Major cell type</th>\n",
       "      <th>cell_type</th>\n",
       "      <th>cell_type_count</th>\n",
       "    </tr>\n",
       "  </thead>\n",
       "  <tbody>\n",
       "    <tr>\n",
       "      <th>0</th>\n",
       "      <td>tB cells</td>\n",
       "      <td>B cells</td>\n",
       "      <td>5218</td>\n",
       "    </tr>\n",
       "    <tr>\n",
       "      <th>1</th>\n",
       "      <td>tMast cells</td>\n",
       "      <td>Mast cells</td>\n",
       "      <td>732</td>\n",
       "    </tr>\n",
       "    <tr>\n",
       "      <th>2</th>\n",
       "      <td>tMoMacDC</td>\n",
       "      <td>MoMacDC</td>\n",
       "      <td>9372</td>\n",
       "    </tr>\n",
       "    <tr>\n",
       "      <th>3</th>\n",
       "      <td>tNK cells</td>\n",
       "      <td>NK cells</td>\n",
       "      <td>1116</td>\n",
       "    </tr>\n",
       "    <tr>\n",
       "      <th>4</th>\n",
       "      <td>tNeutrophils</td>\n",
       "      <td>Neutrophils</td>\n",
       "      <td>2728</td>\n",
       "    </tr>\n",
       "    <tr>\n",
       "      <th>5</th>\n",
       "      <td>tPlasma cells</td>\n",
       "      <td>Plasma cells</td>\n",
       "      <td>2197</td>\n",
       "    </tr>\n",
       "    <tr>\n",
       "      <th>6</th>\n",
       "      <td>tRBC</td>\n",
       "      <td>RBC</td>\n",
       "      <td>108</td>\n",
       "    </tr>\n",
       "    <tr>\n",
       "      <th>7</th>\n",
       "      <td>tT cells</td>\n",
       "      <td>T cells</td>\n",
       "      <td>12776</td>\n",
       "    </tr>\n",
       "    <tr>\n",
       "      <th>8</th>\n",
       "      <td>tpDC</td>\n",
       "      <td>pDC</td>\n",
       "      <td>311</td>\n",
       "    </tr>\n",
       "  </tbody>\n",
       "</table>\n",
       "</div>"
      ],
      "text/plain": [
       "  Major cell type     cell_type  cell_type_count\n",
       "0        tB cells       B cells             5218\n",
       "1     tMast cells    Mast cells              732\n",
       "2        tMoMacDC       MoMacDC             9372\n",
       "3       tNK cells      NK cells             1116\n",
       "4    tNeutrophils   Neutrophils             2728\n",
       "5   tPlasma cells  Plasma cells             2197\n",
       "6            tRBC           RBC              108\n",
       "7        tT cells       T cells            12776\n",
       "8            tpDC           pDC              311"
      ]
     },
     "metadata": {},
     "output_type": "display_data"
    },
    {
     "data": {
      "text/plain": [
       "array(['tMac2', 'tMono1', 'tMast1', 'tMac6', 'tMacCycl', 'tT2', 'tT4',\n",
       "       'tT1', 'tN5', 'tT3', 'tNK1', 'tMonoDC', 'tPC6', 'tDC2', 'tMac7',\n",
       "       'tMac3', 'tMac1', 'tMac4', 'tMac8', 'tN3', 'tMono2', 'tT6', 'tN4',\n",
       "       'tPC3', 'tMac9', 'tPC1', 'tB', 'tpDC', 'tMono3', 'tDC3', 'tN2',\n",
       "       'tMac5', 'tPC4', 'tT7', 'tDC1', 'tN1', 'tT5', 'tNK2', 'tMast2',\n",
       "       'tPC2', 'tPC5', 'tRBC'], dtype=object)"
      ]
     },
     "metadata": {},
     "output_type": "display_data"
    },
    {
     "data": {
      "text/plain": [
       "array(['Mac2', 'Mono1', 'Mast1', 'Mac6', 'MacCycl', 'T2', 'T4', 'T1',\n",
       "       'N5', 'T3', 'NK1', 'MonoDC', 'PC6', 'DC2', 'Mac7', 'Mac3', 'Mac1',\n",
       "       'Mac4', 'Mac8', 'N3', 'Mono2', 'T6', 'N4', 'PC3', 'Mac9', 'PC1',\n",
       "       'B', 'pDC', 'Mono3', 'DC3', 'N2', 'Mac5', 'PC4', 'T7', 'DC1', 'N1',\n",
       "       'T5', 'NK2', 'Mast2', 'PC2', 'PC5', 'RBC'], dtype=object)"
      ]
     },
     "metadata": {},
     "output_type": "display_data"
    },
    {
     "data": {
      "text/html": [
       "<div>\n",
       "<style scoped>\n",
       "    .dataframe tbody tr th:only-of-type {\n",
       "        vertical-align: middle;\n",
       "    }\n",
       "\n",
       "    .dataframe tbody tr th {\n",
       "        vertical-align: top;\n",
       "    }\n",
       "\n",
       "    .dataframe thead th {\n",
       "        text-align: right;\n",
       "    }\n",
       "</style>\n",
       "<table border=\"1\" class=\"dataframe\">\n",
       "  <thead>\n",
       "    <tr style=\"text-align: right;\">\n",
       "      <th></th>\n",
       "      <th>Minor subset</th>\n",
       "      <th>sub_cell_type</th>\n",
       "      <th>sub_cell_type_count</th>\n",
       "    </tr>\n",
       "  </thead>\n",
       "  <tbody>\n",
       "    <tr>\n",
       "      <th>0</th>\n",
       "      <td>tB</td>\n",
       "      <td>B</td>\n",
       "      <td>5218</td>\n",
       "    </tr>\n",
       "    <tr>\n",
       "      <th>1</th>\n",
       "      <td>tDC1</td>\n",
       "      <td>DC1</td>\n",
       "      <td>171</td>\n",
       "    </tr>\n",
       "    <tr>\n",
       "      <th>2</th>\n",
       "      <td>tDC2</td>\n",
       "      <td>DC2</td>\n",
       "      <td>330</td>\n",
       "    </tr>\n",
       "    <tr>\n",
       "      <th>3</th>\n",
       "      <td>tDC3</td>\n",
       "      <td>DC3</td>\n",
       "      <td>101</td>\n",
       "    </tr>\n",
       "    <tr>\n",
       "      <th>4</th>\n",
       "      <td>tMac1</td>\n",
       "      <td>Mac1</td>\n",
       "      <td>949</td>\n",
       "    </tr>\n",
       "    <tr>\n",
       "      <th>5</th>\n",
       "      <td>tMac2</td>\n",
       "      <td>Mac2</td>\n",
       "      <td>919</td>\n",
       "    </tr>\n",
       "    <tr>\n",
       "      <th>6</th>\n",
       "      <td>tMac3</td>\n",
       "      <td>Mac3</td>\n",
       "      <td>2554</td>\n",
       "    </tr>\n",
       "    <tr>\n",
       "      <th>7</th>\n",
       "      <td>tMac4</td>\n",
       "      <td>Mac4</td>\n",
       "      <td>418</td>\n",
       "    </tr>\n",
       "    <tr>\n",
       "      <th>8</th>\n",
       "      <td>tMac5</td>\n",
       "      <td>Mac5</td>\n",
       "      <td>165</td>\n",
       "    </tr>\n",
       "    <tr>\n",
       "      <th>9</th>\n",
       "      <td>tMac6</td>\n",
       "      <td>Mac6</td>\n",
       "      <td>284</td>\n",
       "    </tr>\n",
       "    <tr>\n",
       "      <th>10</th>\n",
       "      <td>tMac7</td>\n",
       "      <td>Mac7</td>\n",
       "      <td>412</td>\n",
       "    </tr>\n",
       "    <tr>\n",
       "      <th>11</th>\n",
       "      <td>tMac8</td>\n",
       "      <td>Mac8</td>\n",
       "      <td>502</td>\n",
       "    </tr>\n",
       "    <tr>\n",
       "      <th>12</th>\n",
       "      <td>tMac9</td>\n",
       "      <td>Mac9</td>\n",
       "      <td>94</td>\n",
       "    </tr>\n",
       "    <tr>\n",
       "      <th>13</th>\n",
       "      <td>tMacCycl</td>\n",
       "      <td>MacCycl</td>\n",
       "      <td>200</td>\n",
       "    </tr>\n",
       "    <tr>\n",
       "      <th>14</th>\n",
       "      <td>tMast1</td>\n",
       "      <td>Mast1</td>\n",
       "      <td>643</td>\n",
       "    </tr>\n",
       "    <tr>\n",
       "      <th>15</th>\n",
       "      <td>tMast2</td>\n",
       "      <td>Mast2</td>\n",
       "      <td>89</td>\n",
       "    </tr>\n",
       "    <tr>\n",
       "      <th>16</th>\n",
       "      <td>tMono1</td>\n",
       "      <td>Mono1</td>\n",
       "      <td>698</td>\n",
       "    </tr>\n",
       "    <tr>\n",
       "      <th>17</th>\n",
       "      <td>tMono2</td>\n",
       "      <td>Mono2</td>\n",
       "      <td>252</td>\n",
       "    </tr>\n",
       "    <tr>\n",
       "      <th>18</th>\n",
       "      <td>tMono3</td>\n",
       "      <td>Mono3</td>\n",
       "      <td>226</td>\n",
       "    </tr>\n",
       "    <tr>\n",
       "      <th>19</th>\n",
       "      <td>tMonoDC</td>\n",
       "      <td>MonoDC</td>\n",
       "      <td>1097</td>\n",
       "    </tr>\n",
       "    <tr>\n",
       "      <th>20</th>\n",
       "      <td>tN1</td>\n",
       "      <td>N1</td>\n",
       "      <td>526</td>\n",
       "    </tr>\n",
       "    <tr>\n",
       "      <th>21</th>\n",
       "      <td>tN2</td>\n",
       "      <td>N2</td>\n",
       "      <td>86</td>\n",
       "    </tr>\n",
       "    <tr>\n",
       "      <th>22</th>\n",
       "      <td>tN3</td>\n",
       "      <td>N3</td>\n",
       "      <td>425</td>\n",
       "    </tr>\n",
       "    <tr>\n",
       "      <th>23</th>\n",
       "      <td>tN4</td>\n",
       "      <td>N4</td>\n",
       "      <td>789</td>\n",
       "    </tr>\n",
       "    <tr>\n",
       "      <th>24</th>\n",
       "      <td>tN5</td>\n",
       "      <td>N5</td>\n",
       "      <td>902</td>\n",
       "    </tr>\n",
       "    <tr>\n",
       "      <th>25</th>\n",
       "      <td>tNK1</td>\n",
       "      <td>NK1</td>\n",
       "      <td>886</td>\n",
       "    </tr>\n",
       "    <tr>\n",
       "      <th>26</th>\n",
       "      <td>tNK2</td>\n",
       "      <td>NK2</td>\n",
       "      <td>230</td>\n",
       "    </tr>\n",
       "    <tr>\n",
       "      <th>27</th>\n",
       "      <td>tPC1</td>\n",
       "      <td>PC1</td>\n",
       "      <td>638</td>\n",
       "    </tr>\n",
       "    <tr>\n",
       "      <th>28</th>\n",
       "      <td>tPC2</td>\n",
       "      <td>PC2</td>\n",
       "      <td>77</td>\n",
       "    </tr>\n",
       "    <tr>\n",
       "      <th>29</th>\n",
       "      <td>tPC3</td>\n",
       "      <td>PC3</td>\n",
       "      <td>369</td>\n",
       "    </tr>\n",
       "    <tr>\n",
       "      <th>30</th>\n",
       "      <td>tPC4</td>\n",
       "      <td>PC4</td>\n",
       "      <td>244</td>\n",
       "    </tr>\n",
       "    <tr>\n",
       "      <th>31</th>\n",
       "      <td>tPC5</td>\n",
       "      <td>PC5</td>\n",
       "      <td>73</td>\n",
       "    </tr>\n",
       "    <tr>\n",
       "      <th>32</th>\n",
       "      <td>tPC6</td>\n",
       "      <td>PC6</td>\n",
       "      <td>796</td>\n",
       "    </tr>\n",
       "    <tr>\n",
       "      <th>33</th>\n",
       "      <td>tRBC</td>\n",
       "      <td>RBC</td>\n",
       "      <td>108</td>\n",
       "    </tr>\n",
       "    <tr>\n",
       "      <th>34</th>\n",
       "      <td>tT1</td>\n",
       "      <td>T1</td>\n",
       "      <td>2397</td>\n",
       "    </tr>\n",
       "    <tr>\n",
       "      <th>35</th>\n",
       "      <td>tT2</td>\n",
       "      <td>T2</td>\n",
       "      <td>6654</td>\n",
       "    </tr>\n",
       "    <tr>\n",
       "      <th>36</th>\n",
       "      <td>tT3</td>\n",
       "      <td>T3</td>\n",
       "      <td>2163</td>\n",
       "    </tr>\n",
       "    <tr>\n",
       "      <th>37</th>\n",
       "      <td>tT4</td>\n",
       "      <td>T4</td>\n",
       "      <td>342</td>\n",
       "    </tr>\n",
       "    <tr>\n",
       "      <th>38</th>\n",
       "      <td>tT5</td>\n",
       "      <td>T5</td>\n",
       "      <td>296</td>\n",
       "    </tr>\n",
       "    <tr>\n",
       "      <th>39</th>\n",
       "      <td>tT6</td>\n",
       "      <td>T6</td>\n",
       "      <td>691</td>\n",
       "    </tr>\n",
       "    <tr>\n",
       "      <th>40</th>\n",
       "      <td>tT7</td>\n",
       "      <td>T7</td>\n",
       "      <td>233</td>\n",
       "    </tr>\n",
       "    <tr>\n",
       "      <th>41</th>\n",
       "      <td>tpDC</td>\n",
       "      <td>pDC</td>\n",
       "      <td>311</td>\n",
       "    </tr>\n",
       "  </tbody>\n",
       "</table>\n",
       "</div>"
      ],
      "text/plain": [
       "   Minor subset sub_cell_type  sub_cell_type_count\n",
       "0            tB             B                 5218\n",
       "1          tDC1           DC1                  171\n",
       "2          tDC2           DC2                  330\n",
       "3          tDC3           DC3                  101\n",
       "4         tMac1          Mac1                  949\n",
       "5         tMac2          Mac2                  919\n",
       "6         tMac3          Mac3                 2554\n",
       "7         tMac4          Mac4                  418\n",
       "8         tMac5          Mac5                  165\n",
       "9         tMac6          Mac6                  284\n",
       "10        tMac7          Mac7                  412\n",
       "11        tMac8          Mac8                  502\n",
       "12        tMac9          Mac9                   94\n",
       "13     tMacCycl       MacCycl                  200\n",
       "14       tMast1         Mast1                  643\n",
       "15       tMast2         Mast2                   89\n",
       "16       tMono1         Mono1                  698\n",
       "17       tMono2         Mono2                  252\n",
       "18       tMono3         Mono3                  226\n",
       "19      tMonoDC        MonoDC                 1097\n",
       "20          tN1            N1                  526\n",
       "21          tN2            N2                   86\n",
       "22          tN3            N3                  425\n",
       "23          tN4            N4                  789\n",
       "24          tN5            N5                  902\n",
       "25         tNK1           NK1                  886\n",
       "26         tNK2           NK2                  230\n",
       "27         tPC1           PC1                  638\n",
       "28         tPC2           PC2                   77\n",
       "29         tPC3           PC3                  369\n",
       "30         tPC4           PC4                  244\n",
       "31         tPC5           PC5                   73\n",
       "32         tPC6           PC6                  796\n",
       "33         tRBC           RBC                  108\n",
       "34          tT1            T1                 2397\n",
       "35          tT2            T2                 6654\n",
       "36          tT3            T3                 2163\n",
       "37          tT4            T4                  342\n",
       "38          tT5            T5                  296\n",
       "39          tT6            T6                  691\n",
       "40          tT7            T7                  233\n",
       "41         tpDC           pDC                  311"
      ]
     },
     "metadata": {},
     "output_type": "display_data"
    }
   ],
   "source": [
    "display(adata_hl.obs['Major cell type'].unique())\n",
    "adata_hl.obs['cell_type'] = adata_hl.obs['Major cell type'].str.replace(\n",
    "    '^t', '', regex=True)\n",
    "display(adata_hl.obs['cell_type'].unique())\n",
    "display(\n",
    "    group_agg(\n",
    "        adata_hl.obs, [\n",
    "            'Major cell type', 'cell_type'], {\n",
    "                'cell_type': ['count']}))\n",
    "assert not adata_hl.obs['cell_type'].isna().any(), '[Error] nan'\n",
    "\n",
    "display(adata_hl.obs['Minor subset'].unique())\n",
    "adata_hl.obs['sub_cell_type'] = adata_hl.obs['Minor subset'].str.replace(\n",
    "    '^t', '', regex=True)\n",
    "display(adata_hl.obs['sub_cell_type'].unique())\n",
    "display(\n",
    "    group_agg(\n",
    "        adata_hl.obs, [\n",
    "            'Minor subset', 'sub_cell_type'], {\n",
    "                'sub_cell_type': ['count']}))\n",
    "assert not adata_hl.obs['sub_cell_type'].isna().any(), '[Error] nan'"
   ]
  },
  {
   "cell_type": "code",
   "execution_count": 12,
   "id": "bda84449-2ee3-4e42-ad63-2a5fc26b0f59",
   "metadata": {},
   "outputs": [
    {
     "data": {
      "text/html": [
       "<div>\n",
       "<style scoped>\n",
       "    .dataframe tbody tr th:only-of-type {\n",
       "        vertical-align: middle;\n",
       "    }\n",
       "\n",
       "    .dataframe tbody tr th {\n",
       "        vertical-align: top;\n",
       "    }\n",
       "\n",
       "    .dataframe thead th {\n",
       "        text-align: right;\n",
       "    }\n",
       "</style>\n",
       "<table border=\"1\" class=\"dataframe\">\n",
       "  <thead>\n",
       "    <tr style=\"text-align: right;\">\n",
       "      <th></th>\n",
       "      <th>_batch</th>\n",
       "      <th>cell_type</th>\n",
       "      <th>sub_cell_type</th>\n",
       "      <th>sp</th>\n",
       "      <th>individual</th>\n",
       "      <th>status</th>\n",
       "      <th>tissue</th>\n",
       "      <th>repeat</th>\n",
       "      <th>sample</th>\n",
       "      <th>Major cell type</th>\n",
       "      <th>Minor subset</th>\n",
       "      <th>used_in_NSCLC_immune</th>\n",
       "      <th>x_NSCLC_immune</th>\n",
       "      <th>y_NSCLC_immune</th>\n",
       "    </tr>\n",
       "  </thead>\n",
       "  <tbody>\n",
       "    <tr>\n",
       "      <th>bcHTNA;h1tl_1</th>\n",
       "      <td>h1tl_1</td>\n",
       "      <td>MoMacDC</td>\n",
       "      <td>Mac2</td>\n",
       "      <td>human</td>\n",
       "      <td>h1</td>\n",
       "      <td>tumor</td>\n",
       "      <td>lung</td>\n",
       "      <td>1</td>\n",
       "      <td>p1t1</td>\n",
       "      <td>tMoMacDC</td>\n",
       "      <td>tMac2</td>\n",
       "      <td>True</td>\n",
       "      <td>1654.548012</td>\n",
       "      <td>-1145.346928</td>\n",
       "    </tr>\n",
       "    <tr>\n",
       "      <th>bcHNVA;h1tl_1</th>\n",
       "      <td>h1tl_1</td>\n",
       "      <td>MoMacDC</td>\n",
       "      <td>Mac2</td>\n",
       "      <td>human</td>\n",
       "      <td>h1</td>\n",
       "      <td>tumor</td>\n",
       "      <td>lung</td>\n",
       "      <td>1</td>\n",
       "      <td>p1t1</td>\n",
       "      <td>tMoMacDC</td>\n",
       "      <td>tMac2</td>\n",
       "      <td>True</td>\n",
       "      <td>1651.629433</td>\n",
       "      <td>-1211.471793</td>\n",
       "    </tr>\n",
       "  </tbody>\n",
       "</table>\n",
       "</div>"
      ],
      "text/plain": [
       "               _batch cell_type sub_cell_type     sp individual status tissue  \\\n",
       "bcHTNA;h1tl_1  h1tl_1   MoMacDC          Mac2  human         h1  tumor   lung   \n",
       "bcHNVA;h1tl_1  h1tl_1   MoMacDC          Mac2  human         h1  tumor   lung   \n",
       "\n",
       "              repeat sample Major cell type Minor subset  \\\n",
       "bcHTNA;h1tl_1      1   p1t1        tMoMacDC        tMac2   \n",
       "bcHNVA;h1tl_1      1   p1t1        tMoMacDC        tMac2   \n",
       "\n",
       "               used_in_NSCLC_immune  x_NSCLC_immune  y_NSCLC_immune  \n",
       "bcHTNA;h1tl_1                  True     1654.548012    -1145.346928  \n",
       "bcHNVA;h1tl_1                  True     1651.629433    -1211.471793  "
      ]
     },
     "metadata": {},
     "output_type": "display_data"
    },
    {
     "data": {
      "text/plain": [
       "(34558, 14)"
      ]
     },
     "metadata": {},
     "output_type": "display_data"
    }
   ],
   "source": [
    "adata_hl.obs = adata_hl.obs.loc[:,\n",
    "                                '_batch,cell_type,sub_cell_type,sp,individual,status,tissue,repeat,sample,Major cell type,Minor subset,used_in_NSCLC_immune,x_NSCLC_immune,y_NSCLC_immune'.split(',')]\n",
    "display(adata_hl.obs.head(2), adata_hl.obs.shape)"
   ]
  },
  {
   "cell_type": "code",
   "execution_count": 13,
   "id": "7d0c2271-5250-47bc-9b20-7e89a47fa5e2",
   "metadata": {},
   "outputs": [
    {
     "name": "stdout",
     "output_type": "stream",
     "text": [
      "allImm---------------------------------------------------------------------\n",
      "frist 10 data.X nonzero elements:\n",
      " [[2 1 1 1 1 1 1 1 1 1]]\n",
      "[out] /public/workspace/licanchengup/link/res_publish/run/cache/disease/LC_h_allImm\n"
     ]
    },
    {
     "data": {
      "text/plain": [
       "cell_type\n",
       "T cells         12776\n",
       "MoMacDC          9372\n",
       "B cells          5218\n",
       "Neutrophils      2728\n",
       "Plasma cells     2197\n",
       "NK cells         1116\n",
       "Mast cells        732\n",
       "pDC               311\n",
       "RBC               108\n",
       "Name: count, dtype: int64"
      ]
     },
     "metadata": {},
     "output_type": "display_data"
    },
    {
     "name": "stdout",
     "output_type": "stream",
     "text": [
      "DendriticCells-------------------------------------------------------------\n"
     ]
    },
    {
     "name": "stderr",
     "output_type": "stream",
     "text": [
      "/public/workspace/licanchengup/link/res_publish/func.py:261: ImplicitModificationWarning: Trying to modify attribute `.var` of view, initializing view as actual.\n",
      "  adata.var[\"gene_names\"] = adata.var_names.to_numpy()\n"
     ]
    },
    {
     "name": "stdout",
     "output_type": "stream",
     "text": [
      "frist 10 data.X nonzero elements:\n",
      " [[1 2 1 3 1 6 1 1 1 1]]\n",
      "[out] /public/workspace/licanchengup/link/res_publish/run/cache/disease/LC_h_DendriticCells\n"
     ]
    },
    {
     "data": {
      "text/plain": [
       "sub_cell_type\n",
       "MonoDC    1097\n",
       "DC2        330\n",
       "pDC        311\n",
       "DC1        171\n",
       "DC3        101\n",
       "Name: count, dtype: int64"
      ]
     },
     "metadata": {},
     "output_type": "display_data"
    },
    {
     "name": "stdout",
     "output_type": "stream",
     "text": [
      "Monocyte-------------------------------------------------------------------\n"
     ]
    },
    {
     "name": "stderr",
     "output_type": "stream",
     "text": [
      "/public/workspace/licanchengup/link/res_publish/func.py:261: ImplicitModificationWarning: Trying to modify attribute `.var` of view, initializing view as actual.\n",
      "  adata.var[\"gene_names\"] = adata.var_names.to_numpy()\n"
     ]
    },
    {
     "name": "stdout",
     "output_type": "stream",
     "text": [
      "frist 10 data.X nonzero elements:\n",
      " [[1 1 1 1 1 1 3 1 1 1]]\n",
      "[out] /public/workspace/licanchengup/link/res_publish/run/cache/disease/LC_h_Monocyte\n"
     ]
    },
    {
     "data": {
      "text/plain": [
       "sub_cell_type\n",
       "Mono1    698\n",
       "Mono2    252\n",
       "Mono3    226\n",
       "Name: count, dtype: int64"
      ]
     },
     "metadata": {},
     "output_type": "display_data"
    },
    {
     "name": "stdout",
     "output_type": "stream",
     "text": [
      "Neutrophils----------------------------------------------------------------\n",
      "frist 10 data.X nonzero elements:\n",
      " [[1 1 1 1 1 1 1 2 1 1]]\n",
      "[out] /public/workspace/licanchengup/link/res_publish/run/cache/disease/LC_h_Neutrophils\n"
     ]
    },
    {
     "name": "stderr",
     "output_type": "stream",
     "text": [
      "/public/workspace/licanchengup/link/res_publish/func.py:261: ImplicitModificationWarning: Trying to modify attribute `.var` of view, initializing view as actual.\n",
      "  adata.var[\"gene_names\"] = adata.var_names.to_numpy()\n"
     ]
    },
    {
     "data": {
      "text/plain": [
       "sub_cell_type\n",
       "N5    902\n",
       "N4    789\n",
       "N1    526\n",
       "N3    425\n",
       "N2     86\n",
       "Name: count, dtype: int64"
      ]
     },
     "metadata": {},
     "output_type": "display_data"
    },
    {
     "name": "stdout",
     "output_type": "stream",
     "text": [
      "---------------------------------------------\n",
      "[finish]\n",
      "---------------------------------------------\n"
     ]
    }
   ],
   "source": [
    "for k, v in map_limite_func.items():\n",
    "    print(k.ljust(75, '-'))\n",
    "    _adata = v(adata_hl)\n",
    "    h5ad_to_mtx(_adata, p_cache.joinpath('disease', 'LC_h_{}'.format(k)))\n",
    "    display(_adata.obs['cell_type' if k == 'allImm' else 'sub_cell_type'].value_counts())\n",
    "print('\\n[finish]\\n'.center(100, '-'))"
   ]
  },
  {
   "cell_type": "code",
   "execution_count": 14,
   "id": "940fe21d-c1f3-4548-bc27-3cf437396807",
   "metadata": {},
   "outputs": [],
   "source": [
    "del adata_h,adata_hb,adata_hl"
   ]
  },
  {
   "cell_type": "markdown",
   "id": "2645f940-7775-4596-ba65-03a3e75f7c74",
   "metadata": {},
   "source": [
    "# mouse"
   ]
  },
  {
   "cell_type": "code",
   "execution_count": 15,
   "id": "3e5fe6d7-edfe-4dad-806b-3c73240b4ea8",
   "metadata": {},
   "outputs": [
    {
     "name": "stdout",
     "output_type": "stream",
     "text": [
      "Tumor or healthy\n",
      "Biological replicate\n",
      "Library\n",
      "Barcode\n",
      "Library prep batch\n",
      "Total counts\n",
      "Percent counts from mitochondrial genes\n",
      "Most likely Immgen cell type\n",
      "Major cell type\n",
      "Minor subset\n",
      "x\n",
      "y\n"
     ]
    },
    {
     "data": {
      "text/html": [
       "<div>\n",
       "<style scoped>\n",
       "    .dataframe tbody tr th:only-of-type {\n",
       "        vertical-align: middle;\n",
       "    }\n",
       "\n",
       "    .dataframe tbody tr th {\n",
       "        vertical-align: top;\n",
       "    }\n",
       "\n",
       "    .dataframe thead th {\n",
       "        text-align: right;\n",
       "    }\n",
       "</style>\n",
       "<table border=\"1\" class=\"dataframe\">\n",
       "  <thead>\n",
       "    <tr style=\"text-align: right;\">\n",
       "      <th></th>\n",
       "      <th>sample</th>\n",
       "      <th>_batch</th>\n",
       "      <th>sp</th>\n",
       "      <th>individual</th>\n",
       "      <th>status</th>\n",
       "      <th>tissue</th>\n",
       "      <th>repeat</th>\n",
       "      <th>Barcode</th>\n",
       "      <th>Library</th>\n",
       "      <th>Major cell type</th>\n",
       "      <th>Minor subset</th>\n",
       "      <th>x</th>\n",
       "      <th>y</th>\n",
       "    </tr>\n",
       "  </thead>\n",
       "  <tbody>\n",
       "    <tr>\n",
       "      <th>bc0001;h_1_1</th>\n",
       "      <td>h_1_1</td>\n",
       "      <td>m1hl_1</td>\n",
       "      <td>mouse</td>\n",
       "      <td>m1</td>\n",
       "      <td>healthy</td>\n",
       "      <td>lung</td>\n",
       "      <td>1</td>\n",
       "      <td>bc0001</td>\n",
       "      <td>h_1_1</td>\n",
       "      <td>Neutrophils</td>\n",
       "      <td>N1</td>\n",
       "      <td>262.182566</td>\n",
       "      <td>-776.218781</td>\n",
       "    </tr>\n",
       "    <tr>\n",
       "      <th>bc0002;h_1_1</th>\n",
       "      <td>h_1_1</td>\n",
       "      <td>m1hl_1</td>\n",
       "      <td>mouse</td>\n",
       "      <td>m1</td>\n",
       "      <td>healthy</td>\n",
       "      <td>lung</td>\n",
       "      <td>1</td>\n",
       "      <td>bc0002</td>\n",
       "      <td>h_1_1</td>\n",
       "      <td>Neutrophils</td>\n",
       "      <td>N1</td>\n",
       "      <td>141.317902</td>\n",
       "      <td>-766.314486</td>\n",
       "    </tr>\n",
       "  </tbody>\n",
       "</table>\n",
       "</div>"
      ],
      "text/plain": [
       "             sample  _batch     sp individual   status tissue repeat Barcode  \\\n",
       "bc0001;h_1_1  h_1_1  m1hl_1  mouse         m1  healthy   lung      1  bc0001   \n",
       "bc0002;h_1_1  h_1_1  m1hl_1  mouse         m1  healthy   lung      1  bc0002   \n",
       "\n",
       "             Library Major cell type Minor subset           x           y  \n",
       "bc0001;h_1_1   h_1_1     Neutrophils           N1  262.182566 -776.218781  \n",
       "bc0002;h_1_1   h_1_1     Neutrophils           N1  141.317902 -766.314486  "
      ]
     },
     "metadata": {},
     "output_type": "display_data"
    },
    {
     "data": {
      "text/plain": [
       "(15939, 13)"
      ]
     },
     "metadata": {},
     "output_type": "display_data"
    }
   ],
   "source": [
    "df_meta_m = pd.read_csv(\n",
    "    p_root.joinpath('GSE127465_mouse_cell_metadata_15939x12.tsv.gz'),\n",
    "    sep='\\t',\n",
    "    index_col=None)\n",
    "print(*df_meta_m.columns, sep='\\n')\n",
    "df_meta_m = df_meta_m.loc[:,\n",
    "                          'Barcode,Library,Major cell type,Minor subset,x,y'.split(',')]\n",
    "df_meta_m = pd.merge(\n",
    "    df_path.loc[:, 'sample,_batch,sp,individual,status,tissue,repeat'.split(',')],\n",
    "    df_meta_m,\n",
    "    left_on='sample', right_on='Library'\n",
    ")\n",
    "\n",
    "_temp = df_meta_m.apply(\n",
    "    lambda row: '{Barcode};{Library}'.format(\n",
    "        **row), axis=1)\n",
    "assert _temp.is_unique, '[Error] not unique'\n",
    "df_meta_m.index = _temp.to_numpy()\n",
    "del _temp\n",
    "display(df_meta_m.head(2), df_meta_m.shape)\n",
    "\n",
    "df_path_m = df_path.query(\"sp == 'mouse'\")"
   ]
  },
  {
   "cell_type": "code",
   "execution_count": 16,
   "id": "a1cd44c2-2800-4d50-bb12-5f45f4471315",
   "metadata": {},
   "outputs": [
    {
     "data": {
      "text/plain": [
       "AnnData object with n_obs × n_vars = 15939 × 28205\n",
       "    obs: 'sample', '_batch', 'sp', 'individual', 'status', 'tissue', 'repeat', 'Barcode', 'Library', 'Major cell type', 'Minor subset', 'x', 'y'"
      ]
     },
     "metadata": {},
     "output_type": "display_data"
    },
    {
     "data": {
      "text/html": [
       "<div>\n",
       "<style scoped>\n",
       "    .dataframe tbody tr th:only-of-type {\n",
       "        vertical-align: middle;\n",
       "    }\n",
       "\n",
       "    .dataframe tbody tr th {\n",
       "        vertical-align: top;\n",
       "    }\n",
       "\n",
       "    .dataframe thead th {\n",
       "        text-align: right;\n",
       "    }\n",
       "</style>\n",
       "<table border=\"1\" class=\"dataframe\">\n",
       "  <thead>\n",
       "    <tr style=\"text-align: right;\">\n",
       "      <th></th>\n",
       "      <th>sample</th>\n",
       "      <th>_batch</th>\n",
       "      <th>sp</th>\n",
       "      <th>individual</th>\n",
       "      <th>status</th>\n",
       "      <th>tissue</th>\n",
       "      <th>repeat</th>\n",
       "      <th>Barcode</th>\n",
       "      <th>Library</th>\n",
       "      <th>Major cell type</th>\n",
       "      <th>Minor subset</th>\n",
       "      <th>x</th>\n",
       "      <th>y</th>\n",
       "    </tr>\n",
       "  </thead>\n",
       "  <tbody>\n",
       "    <tr>\n",
       "      <th>bc0001;h_1_1</th>\n",
       "      <td>h_1_1</td>\n",
       "      <td>m1hl_1</td>\n",
       "      <td>mouse</td>\n",
       "      <td>m1</td>\n",
       "      <td>healthy</td>\n",
       "      <td>lung</td>\n",
       "      <td>1</td>\n",
       "      <td>bc0001</td>\n",
       "      <td>h_1_1</td>\n",
       "      <td>Neutrophils</td>\n",
       "      <td>N1</td>\n",
       "      <td>262.182566</td>\n",
       "      <td>-776.218781</td>\n",
       "    </tr>\n",
       "    <tr>\n",
       "      <th>bc0002;h_1_1</th>\n",
       "      <td>h_1_1</td>\n",
       "      <td>m1hl_1</td>\n",
       "      <td>mouse</td>\n",
       "      <td>m1</td>\n",
       "      <td>healthy</td>\n",
       "      <td>lung</td>\n",
       "      <td>1</td>\n",
       "      <td>bc0002</td>\n",
       "      <td>h_1_1</td>\n",
       "      <td>Neutrophils</td>\n",
       "      <td>N1</td>\n",
       "      <td>141.317902</td>\n",
       "      <td>-766.314486</td>\n",
       "    </tr>\n",
       "  </tbody>\n",
       "</table>\n",
       "</div>"
      ],
      "text/plain": [
       "             sample  _batch     sp individual   status tissue repeat Barcode  \\\n",
       "bc0001;h_1_1  h_1_1  m1hl_1  mouse         m1  healthy   lung      1  bc0001   \n",
       "bc0002;h_1_1  h_1_1  m1hl_1  mouse         m1  healthy   lung      1  bc0002   \n",
       "\n",
       "             Library Major cell type Minor subset           x           y  \n",
       "bc0001;h_1_1   h_1_1     Neutrophils           N1  262.182566 -776.218781  \n",
       "bc0002;h_1_1   h_1_1     Neutrophils           N1  141.317902 -766.314486  "
      ]
     },
     "metadata": {},
     "output_type": "display_data"
    }
   ],
   "source": [
    "df_path_m.index = np.arange(df_path_m.shape[0])\n",
    "p_temp_m = p_cache.joinpath('disease', 'temp_LC_m.h5ad')\n",
    "adata_m = None\n",
    "if p_temp_m.exists():\n",
    "    adata_m = sc.read_h5ad(p_temp_m)\n",
    "else:\n",
    "    res_m = {}\n",
    "    for _i, _row in df_path_m.iterrows():\n",
    "        print('\\r[{}/{}]{}'.format(_i+1,\n",
    "                                   df_path_m.shape[0],\n",
    "                                   _row['sample']).ljust(75, '-'), end='')\n",
    "        _adata = None\n",
    "        _adata = sc.read_csv(_row['path'], delimiter='\\t')\n",
    "        res_m.update({\n",
    "            _row['sample']: _adata\n",
    "        })\n",
    "    print('sample\\tobs_unique\\tvar_unique')\n",
    "    for k, v in res_m.items():\n",
    "        print(\n",
    "            '{}\\t{}\\t{}'.format(\n",
    "                k,\n",
    "                v.obs.index.is_unique,\n",
    "                v.var.index.is_unique))\n",
    "    adata_m = sc.concat(res_m, index_unique=';')\n",
    "    adata_m.X = csr_matrix(adata_m.X)\n",
    "    display(type(adata_m.X))\n",
    "    del res_m\n",
    "    display(\n",
    "        adata_m.obs.head(2),\n",
    "        adata_m.obs.shape,\n",
    "        adata_m.obs.index.is_unique,\n",
    "        adata_m.var.head(2),\n",
    "        adata_m.var.shape,\n",
    "        adata_m.var.index.is_unique)\n",
    "    \n",
    "    display(pd.Series(df_meta_m.index.isin(adata_m.obs.index)).value_counts(),\n",
    "            pd.Series(adata_m.obs.index.isin(df_meta_m.index)).value_counts())\n",
    "    adata_m = adata_m[adata_m.obs.index.isin(df_meta_m.index)]\n",
    "    adata_m.obs = adata_m.obs.loc[:, []].join(df_meta_m)\n",
    "    adata_m.write_h5ad(p_temp_m)\n",
    "    print('[out] {}'.format(p_temp_h.name))\n",
    "adata_m.obs = adata_m.obs.apply(lambda x: x.astype(str) if x.dtype.name == 'category' else x)\n",
    "display(adata_m,adata_m.obs.head(2))"
   ]
  },
  {
   "cell_type": "code",
   "execution_count": 17,
   "id": "21eebbda-d454-4f08-b6a0-c2ffc15eabc0",
   "metadata": {},
   "outputs": [
    {
     "data": {
      "text/html": [
       "<div>\n",
       "<style scoped>\n",
       "    .dataframe tbody tr th:only-of-type {\n",
       "        vertical-align: middle;\n",
       "    }\n",
       "\n",
       "    .dataframe tbody tr th {\n",
       "        vertical-align: top;\n",
       "    }\n",
       "\n",
       "    .dataframe thead th {\n",
       "        text-align: right;\n",
       "    }\n",
       "</style>\n",
       "<table border=\"1\" class=\"dataframe\">\n",
       "  <thead>\n",
       "    <tr style=\"text-align: right;\">\n",
       "      <th></th>\n",
       "      <th>sample</th>\n",
       "      <th>_batch</th>\n",
       "      <th>sp</th>\n",
       "      <th>individual</th>\n",
       "      <th>status</th>\n",
       "      <th>tissue</th>\n",
       "      <th>repeat</th>\n",
       "      <th>Barcode</th>\n",
       "      <th>Library</th>\n",
       "      <th>Major cell type</th>\n",
       "      <th>Minor subset</th>\n",
       "      <th>x</th>\n",
       "      <th>y</th>\n",
       "      <th>barcode</th>\n",
       "    </tr>\n",
       "  </thead>\n",
       "  <tbody>\n",
       "    <tr>\n",
       "      <th>bc0001;m1hl_1</th>\n",
       "      <td>h_1_1</td>\n",
       "      <td>m1hl_1</td>\n",
       "      <td>mouse</td>\n",
       "      <td>m1</td>\n",
       "      <td>healthy</td>\n",
       "      <td>lung</td>\n",
       "      <td>1</td>\n",
       "      <td>bc0001</td>\n",
       "      <td>h_1_1</td>\n",
       "      <td>Neutrophils</td>\n",
       "      <td>N1</td>\n",
       "      <td>262.182566</td>\n",
       "      <td>-776.218781</td>\n",
       "      <td>bc0001</td>\n",
       "    </tr>\n",
       "    <tr>\n",
       "      <th>bc0002;m1hl_1</th>\n",
       "      <td>h_1_1</td>\n",
       "      <td>m1hl_1</td>\n",
       "      <td>mouse</td>\n",
       "      <td>m1</td>\n",
       "      <td>healthy</td>\n",
       "      <td>lung</td>\n",
       "      <td>1</td>\n",
       "      <td>bc0002</td>\n",
       "      <td>h_1_1</td>\n",
       "      <td>Neutrophils</td>\n",
       "      <td>N1</td>\n",
       "      <td>141.317902</td>\n",
       "      <td>-766.314486</td>\n",
       "      <td>bc0002</td>\n",
       "    </tr>\n",
       "  </tbody>\n",
       "</table>\n",
       "</div>"
      ],
      "text/plain": [
       "              sample  _batch     sp individual   status tissue repeat Barcode  \\\n",
       "bc0001;m1hl_1  h_1_1  m1hl_1  mouse         m1  healthy   lung      1  bc0001   \n",
       "bc0002;m1hl_1  h_1_1  m1hl_1  mouse         m1  healthy   lung      1  bc0002   \n",
       "\n",
       "              Library Major cell type Minor subset           x           y  \\\n",
       "bc0001;m1hl_1   h_1_1     Neutrophils           N1  262.182566 -776.218781   \n",
       "bc0002;m1hl_1   h_1_1     Neutrophils           N1  141.317902 -766.314486   \n",
       "\n",
       "              barcode  \n",
       "bc0001;m1hl_1  bc0001  \n",
       "bc0002;m1hl_1  bc0002  "
      ]
     },
     "metadata": {},
     "output_type": "display_data"
    },
    {
     "data": {
      "text/plain": [
       "(15939, 14)"
      ]
     },
     "metadata": {},
     "output_type": "display_data"
    }
   ],
   "source": [
    "adata_m.obs['barcode'] = adata_m.obs.index.str.extract(\n",
    "    '(\\\\w+);', expand=False)\n",
    "_temp = adata_m.obs.apply(\n",
    "    lambda row: '{barcode};{_batch}'.format(\n",
    "        **row), axis=1)\n",
    "assert _temp.is_unique, '[Error] not unique'\n",
    "adata_m.obs.index = _temp\n",
    "display(adata_m.obs.head(2), adata_m.obs.shape)\n",
    "del _temp"
   ]
  },
  {
   "cell_type": "code",
   "execution_count": 18,
   "id": "f9c89dea-7daa-4400-a60f-e6e8d9dcdc49",
   "metadata": {},
   "outputs": [
    {
     "data": {
      "text/html": [
       "<div>\n",
       "<style scoped>\n",
       "    .dataframe tbody tr th:only-of-type {\n",
       "        vertical-align: middle;\n",
       "    }\n",
       "\n",
       "    .dataframe tbody tr th {\n",
       "        vertical-align: top;\n",
       "    }\n",
       "\n",
       "    .dataframe thead th {\n",
       "        text-align: right;\n",
       "    }\n",
       "</style>\n",
       "<table border=\"1\" class=\"dataframe\">\n",
       "  <thead>\n",
       "    <tr style=\"text-align: right;\">\n",
       "      <th></th>\n",
       "      <th>_batch</th>\n",
       "      <th>cell_type</th>\n",
       "      <th>sub_cell_type</th>\n",
       "      <th>sp</th>\n",
       "      <th>individual</th>\n",
       "      <th>status</th>\n",
       "      <th>tissue</th>\n",
       "      <th>repeat</th>\n",
       "      <th>sample</th>\n",
       "      <th>Major cell type</th>\n",
       "      <th>Minor subset</th>\n",
       "      <th>x</th>\n",
       "      <th>y</th>\n",
       "    </tr>\n",
       "  </thead>\n",
       "  <tbody>\n",
       "    <tr>\n",
       "      <th>bc0001;m1hl_1</th>\n",
       "      <td>m1hl_1</td>\n",
       "      <td>Neutrophils</td>\n",
       "      <td>N1</td>\n",
       "      <td>mouse</td>\n",
       "      <td>m1</td>\n",
       "      <td>healthy</td>\n",
       "      <td>lung</td>\n",
       "      <td>1</td>\n",
       "      <td>h_1_1</td>\n",
       "      <td>Neutrophils</td>\n",
       "      <td>N1</td>\n",
       "      <td>262.182566</td>\n",
       "      <td>-776.218781</td>\n",
       "    </tr>\n",
       "    <tr>\n",
       "      <th>bc0002;m1hl_1</th>\n",
       "      <td>m1hl_1</td>\n",
       "      <td>Neutrophils</td>\n",
       "      <td>N1</td>\n",
       "      <td>mouse</td>\n",
       "      <td>m1</td>\n",
       "      <td>healthy</td>\n",
       "      <td>lung</td>\n",
       "      <td>1</td>\n",
       "      <td>h_1_1</td>\n",
       "      <td>Neutrophils</td>\n",
       "      <td>N1</td>\n",
       "      <td>141.317902</td>\n",
       "      <td>-766.314486</td>\n",
       "    </tr>\n",
       "  </tbody>\n",
       "</table>\n",
       "</div>"
      ],
      "text/plain": [
       "               _batch    cell_type sub_cell_type     sp individual   status  \\\n",
       "bc0001;m1hl_1  m1hl_1  Neutrophils            N1  mouse         m1  healthy   \n",
       "bc0002;m1hl_1  m1hl_1  Neutrophils            N1  mouse         m1  healthy   \n",
       "\n",
       "              tissue repeat sample Major cell type Minor subset           x  \\\n",
       "bc0001;m1hl_1   lung      1  h_1_1     Neutrophils           N1  262.182566   \n",
       "bc0002;m1hl_1   lung      1  h_1_1     Neutrophils           N1  141.317902   \n",
       "\n",
       "                        y  \n",
       "bc0001;m1hl_1 -776.218781  \n",
       "bc0002;m1hl_1 -766.314486  "
      ]
     },
     "metadata": {},
     "output_type": "display_data"
    },
    {
     "data": {
      "text/plain": [
       "(15939, 13)"
      ]
     },
     "metadata": {},
     "output_type": "display_data"
    }
   ],
   "source": [
    "adata_m.obs['cell_type'] = adata_m.obs['Major cell type']\n",
    "adata_m.obs['sub_cell_type'] = adata_m.obs['Minor subset']\n",
    "adata_m.obs = adata_m.obs.loc[:,\n",
    "                                '_batch,cell_type,sub_cell_type,sp,individual,status,tissue,repeat,sample,Major cell type,Minor subset,x,y'.split(',')]\n",
    "display(adata_m.obs.head(2), adata_m.obs.shape)"
   ]
  },
  {
   "cell_type": "markdown",
   "id": "2e416474-2e2b-4b25-ba94-73ae25489fcd",
   "metadata": {},
   "source": [
    "## mouse heathly and lung canner"
   ]
  },
  {
   "cell_type": "code",
   "execution_count": 19,
   "id": "d87ea9bc-cc3f-4b32-9b30-8bb5518e015e",
   "metadata": {},
   "outputs": [
    {
     "data": {
      "text/plain": [
       "status\n",
       "tumor      9201\n",
       "healthy    6738\n",
       "Name: count, dtype: int64"
      ]
     },
     "metadata": {},
     "output_type": "display_data"
    },
    {
     "data": {
      "text/plain": [
       "View of AnnData object with n_obs × n_vars = 9201 × 28205\n",
       "    obs: '_batch', 'cell_type', 'sub_cell_type', 'sp', 'individual', 'status', 'tissue', 'repeat', 'sample', 'Major cell type', 'Minor subset', 'x', 'y'"
      ]
     },
     "metadata": {},
     "output_type": "display_data"
    },
    {
     "data": {
      "text/plain": [
       "View of AnnData object with n_obs × n_vars = 6738 × 28205\n",
       "    obs: '_batch', 'cell_type', 'sub_cell_type', 'sp', 'individual', 'status', 'tissue', 'repeat', 'sample', 'Major cell type', 'Minor subset', 'x', 'y'"
      ]
     },
     "metadata": {},
     "output_type": "display_data"
    }
   ],
   "source": [
    "display(adata_m.obs['status'].value_counts())\n",
    "adata_mt = adata_m[adata_m.obs['status'] == 'tumor', :]\n",
    "adata_mh = adata_m[adata_m.obs['status'] == 'healthy', :]\n",
    "display(adata_mt,adata_mh)"
   ]
  },
  {
   "cell_type": "code",
   "execution_count": 20,
   "id": "be64666a-7872-4a64-9285-0a96db05bc82",
   "metadata": {
    "scrolled": true
   },
   "outputs": [
    {
     "name": "stdout",
     "output_type": "stream",
     "text": [
      "allImm---------------------------------------------------------------------\n"
     ]
    },
    {
     "name": "stderr",
     "output_type": "stream",
     "text": [
      "/public/workspace/licanchengup/link/res_publish/func.py:261: ImplicitModificationWarning: Trying to modify attribute `.var` of view, initializing view as actual.\n",
      "  adata.var[\"gene_names\"] = adata.var_names.to_numpy()\n"
     ]
    },
    {
     "name": "stdout",
     "output_type": "stream",
     "text": [
      "frist 10 data.X nonzero elements:\n",
      " [[1 1 1 2 1 1 1 2 1 3]]\n",
      "[out] /public/workspace/licanchengup/link/res_publish/run/cache/disease/LC_m_allImm\n"
     ]
    },
    {
     "data": {
      "text/plain": [
       "(9201, 13)"
      ]
     },
     "metadata": {},
     "output_type": "display_data"
    },
    {
     "data": {
      "text/plain": [
       "cell_type\n",
       "Neutrophils    3593\n",
       "B cells        1874\n",
       "MoMacDC        1768\n",
       "T cells        1491\n",
       "NK cells        400\n",
       "pDC              52\n",
       "Basophils        23\n",
       "Name: count, dtype: int64"
      ]
     },
     "metadata": {},
     "output_type": "display_data"
    },
    {
     "name": "stdout",
     "output_type": "stream",
     "text": [
      "DendriticCells-------------------------------------------------------------\n",
      "frist 10 data.X nonzero elements:\n",
      " [[1 1 1 1 1 5 2 2 1 1]]\n",
      "[out] /public/workspace/licanchengup/link/res_publish/run/cache/disease/LC_m_DendriticCells\n"
     ]
    },
    {
     "name": "stderr",
     "output_type": "stream",
     "text": [
      "/public/workspace/licanchengup/link/res_publish/func.py:261: ImplicitModificationWarning: Trying to modify attribute `.var` of view, initializing view as actual.\n",
      "  adata.var[\"gene_names\"] = adata.var_names.to_numpy()\n"
     ]
    },
    {
     "data": {
      "text/plain": [
       "(646, 13)"
      ]
     },
     "metadata": {},
     "output_type": "display_data"
    },
    {
     "data": {
      "text/plain": [
       "sub_cell_type\n",
       "DC3       293\n",
       "DC1       119\n",
       "DC2       106\n",
       "MonoDC     76\n",
       "pDC        52\n",
       "Name: count, dtype: int64"
      ]
     },
     "metadata": {},
     "output_type": "display_data"
    },
    {
     "name": "stdout",
     "output_type": "stream",
     "text": [
      "Monocyte-------------------------------------------------------------------\n"
     ]
    },
    {
     "name": "stderr",
     "output_type": "stream",
     "text": [
      "/public/workspace/licanchengup/link/res_publish/func.py:261: ImplicitModificationWarning: Trying to modify attribute `.var` of view, initializing view as actual.\n",
      "  adata.var[\"gene_names\"] = adata.var_names.to_numpy()\n"
     ]
    },
    {
     "name": "stdout",
     "output_type": "stream",
     "text": [
      "frist 10 data.X nonzero elements:\n",
      " [[1 5 1 1 1 1 1 2 1 2]]\n",
      "[out] /public/workspace/licanchengup/link/res_publish/run/cache/disease/LC_m_Monocyte\n"
     ]
    },
    {
     "data": {
      "text/plain": [
       "(771, 13)"
      ]
     },
     "metadata": {},
     "output_type": "display_data"
    },
    {
     "data": {
      "text/plain": [
       "sub_cell_type\n",
       "Mono1    407\n",
       "Mono3    210\n",
       "Mono2    154\n",
       "Name: count, dtype: int64"
      ]
     },
     "metadata": {},
     "output_type": "display_data"
    },
    {
     "name": "stdout",
     "output_type": "stream",
     "text": [
      "Neutrophils----------------------------------------------------------------\n"
     ]
    },
    {
     "name": "stderr",
     "output_type": "stream",
     "text": [
      "/public/workspace/licanchengup/link/res_publish/func.py:261: ImplicitModificationWarning: Trying to modify attribute `.var` of view, initializing view as actual.\n",
      "  adata.var[\"gene_names\"] = adata.var_names.to_numpy()\n"
     ]
    },
    {
     "name": "stdout",
     "output_type": "stream",
     "text": [
      "frist 10 data.X nonzero elements:\n",
      " [[1 1 1 2 1 3 1 1 1 1]]\n",
      "[out] /public/workspace/licanchengup/link/res_publish/run/cache/disease/LC_m_Neutrophils\n"
     ]
    },
    {
     "data": {
      "text/plain": [
       "(3593, 13)"
      ]
     },
     "metadata": {},
     "output_type": "display_data"
    },
    {
     "data": {
      "text/plain": [
       "sub_cell_type\n",
       "N4    1782\n",
       "N1     968\n",
       "N5     580\n",
       "N3     130\n",
       "N6     109\n",
       "N2      24\n",
       "Name: count, dtype: int64"
      ]
     },
     "metadata": {},
     "output_type": "display_data"
    },
    {
     "name": "stdout",
     "output_type": "stream",
     "text": [
      "---------------------------------------------\n",
      "[finish]\n",
      "---------------------------------------------\n"
     ]
    }
   ],
   "source": [
    "for k, v in map_limite_func.items():\n",
    "    print(k.ljust(75, '-'))\n",
    "    _adata = v(adata_mt)\n",
    "    h5ad_to_mtx(_adata, p_cache.joinpath('disease', 'LC_m_{}'.format(k)))\n",
    "    display(_adata.obs.shape,_adata.obs['cell_type' if k == 'allImm' else 'sub_cell_type'].value_counts())\n",
    "print('\\n[finish]\\n'.center(100, '-'))"
   ]
  },
  {
   "cell_type": "code",
   "execution_count": 21,
   "id": "c3bea2f4-124e-4092-b659-4b50e9b2d6a0",
   "metadata": {},
   "outputs": [],
   "source": [
    "del adata_m,adata_mh,adata_mt,_adata"
   ]
  },
  {
   "cell_type": "markdown",
   "id": "e588fa51-0efc-4b30-8680-ff3b6a3ef94e",
   "metadata": {},
   "source": [
    "# info and parameters"
   ]
  },
  {
   "cell_type": "code",
   "execution_count": 22,
   "id": "b0aa483e-aa34-4247-8c79-54e01b8376f2",
   "metadata": {},
   "outputs": [
    {
     "data": {
      "text/html": [
       "<div>\n",
       "<style scoped>\n",
       "    .dataframe tbody tr th:only-of-type {\n",
       "        vertical-align: middle;\n",
       "    }\n",
       "\n",
       "    .dataframe tbody tr th {\n",
       "        vertical-align: top;\n",
       "    }\n",
       "\n",
       "    .dataframe thead th {\n",
       "        text-align: right;\n",
       "    }\n",
       "</style>\n",
       "<table border=\"1\" class=\"dataframe\">\n",
       "  <thead>\n",
       "    <tr style=\"text-align: right;\">\n",
       "      <th></th>\n",
       "      <th>tissue</th>\n",
       "      <th>sp</th>\n",
       "      <th>path</th>\n",
       "      <th>name</th>\n",
       "      <th>sp_simple</th>\n",
       "      <th>tag</th>\n",
       "    </tr>\n",
       "  </thead>\n",
       "  <tbody>\n",
       "    <tr>\n",
       "      <th>0</th>\n",
       "      <td>LC</td>\n",
       "      <td>mouse</td>\n",
       "      <td>/public/workspace/licanchengup/link/res_publis...</td>\n",
       "      <td>LCmDCs</td>\n",
       "      <td>m</td>\n",
       "      <td>DendriticCells</td>\n",
       "    </tr>\n",
       "    <tr>\n",
       "      <th>1</th>\n",
       "      <td>LC</td>\n",
       "      <td>mouse</td>\n",
       "      <td>/public/workspace/licanchengup/link/res_publis...</td>\n",
       "      <td>LCmMono</td>\n",
       "      <td>m</td>\n",
       "      <td>Monocyte</td>\n",
       "    </tr>\n",
       "    <tr>\n",
       "      <th>2</th>\n",
       "      <td>LC</td>\n",
       "      <td>human</td>\n",
       "      <td>/public/workspace/licanchengup/link/res_publis...</td>\n",
       "      <td>LChDCs</td>\n",
       "      <td>h</td>\n",
       "      <td>DendriticCells</td>\n",
       "    </tr>\n",
       "    <tr>\n",
       "      <th>4</th>\n",
       "      <td>LC</td>\n",
       "      <td>human</td>\n",
       "      <td>/public/workspace/licanchengup/link/res_publis...</td>\n",
       "      <td>LChNeu</td>\n",
       "      <td>h</td>\n",
       "      <td>Neutrophils</td>\n",
       "    </tr>\n",
       "    <tr>\n",
       "      <th>6</th>\n",
       "      <td>LC</td>\n",
       "      <td>human</td>\n",
       "      <td>/public/workspace/licanchengup/link/res_publis...</td>\n",
       "      <td>LChall</td>\n",
       "      <td>h</td>\n",
       "      <td>allImm</td>\n",
       "    </tr>\n",
       "    <tr>\n",
       "      <th>7</th>\n",
       "      <td>LC</td>\n",
       "      <td>mouse</td>\n",
       "      <td>/public/workspace/licanchengup/link/res_publis...</td>\n",
       "      <td>LCmNeu</td>\n",
       "      <td>m</td>\n",
       "      <td>Neutrophils</td>\n",
       "    </tr>\n",
       "    <tr>\n",
       "      <th>8</th>\n",
       "      <td>LC</td>\n",
       "      <td>human</td>\n",
       "      <td>/public/workspace/licanchengup/link/res_publis...</td>\n",
       "      <td>LChMono</td>\n",
       "      <td>h</td>\n",
       "      <td>Monocyte</td>\n",
       "    </tr>\n",
       "    <tr>\n",
       "      <th>10</th>\n",
       "      <td>LC</td>\n",
       "      <td>mouse</td>\n",
       "      <td>/public/workspace/licanchengup/link/res_publis...</td>\n",
       "      <td>LCmall</td>\n",
       "      <td>m</td>\n",
       "      <td>allImm</td>\n",
       "    </tr>\n",
       "  </tbody>\n",
       "</table>\n",
       "</div>"
      ],
      "text/plain": [
       "   tissue     sp                                               path     name  \\\n",
       "0      LC  mouse  /public/workspace/licanchengup/link/res_publis...   LCmDCs   \n",
       "1      LC  mouse  /public/workspace/licanchengup/link/res_publis...  LCmMono   \n",
       "2      LC  human  /public/workspace/licanchengup/link/res_publis...   LChDCs   \n",
       "4      LC  human  /public/workspace/licanchengup/link/res_publis...   LChNeu   \n",
       "6      LC  human  /public/workspace/licanchengup/link/res_publis...   LChall   \n",
       "7      LC  mouse  /public/workspace/licanchengup/link/res_publis...   LCmNeu   \n",
       "8      LC  human  /public/workspace/licanchengup/link/res_publis...  LChMono   \n",
       "10     LC  mouse  /public/workspace/licanchengup/link/res_publis...   LCmall   \n",
       "\n",
       "   sp_simple             tag  \n",
       "0          m  DendriticCells  \n",
       "1          m        Monocyte  \n",
       "2          h  DendriticCells  \n",
       "4          h     Neutrophils  \n",
       "6          h          allImm  \n",
       "7          m     Neutrophils  \n",
       "8          h        Monocyte  \n",
       "10         m          allImm  "
      ]
     },
     "execution_count": 22,
     "metadata": {},
     "output_type": "execute_result"
    }
   ],
   "source": [
    "info = pd.DataFrame({\n",
    "    'path': p_cache.joinpath('disease').iterdir()\n",
    "})\n",
    "info['name'] = info['path'].apply(lambda x: x.name)\n",
    "info = info[info['path'].apply(lambda x: x.match('*/LC_*'))]\n",
    "info = info.join(info['name'].str.extract(\n",
    "    \"LC_(?P<sp_simple>[hm])_(?P<tag>\\\\w+)\"))\n",
    "info['name'] = info.apply(lambda row: 'LC{}{}'.format(row['sp_simple'],\n",
    "                                       {\n",
    "    'allImm': 'all',\n",
    "    'Monocyte': 'Mono',\n",
    "    'Neutrophils': 'Neu',\n",
    "    'DendriticCells': 'DCs'\n",
    "}.setdefault(row['tag'], '')), axis=1)\n",
    "info['sp'] = info['sp_simple'].map(map_sp)\n",
    "info['tissue'] = 'LC'\n",
    "info= info.loc[:,'tissue,sp,path,name,sp_simple,tag'.split(',')]\n",
    "info"
   ]
  },
  {
   "cell_type": "code",
   "execution_count": 25,
   "id": "7dbaea35-dc12-469e-b5f9-789baea8611d",
   "metadata": {},
   "outputs": [
    {
     "data": {
      "text/html": [
       "<div>\n",
       "<style scoped>\n",
       "    .dataframe tbody tr th:only-of-type {\n",
       "        vertical-align: middle;\n",
       "    }\n",
       "\n",
       "    .dataframe tbody tr th {\n",
       "        vertical-align: top;\n",
       "    }\n",
       "\n",
       "    .dataframe thead th {\n",
       "        text-align: right;\n",
       "    }\n",
       "</style>\n",
       "<table border=\"1\" class=\"dataframe\">\n",
       "  <thead>\n",
       "    <tr style=\"text-align: right;\">\n",
       "      <th></th>\n",
       "      <th>tissue</th>\n",
       "      <th>sp_ref</th>\n",
       "      <th>path_ref</th>\n",
       "      <th>name_ref</th>\n",
       "      <th>sp_simple_ref</th>\n",
       "      <th>sp_que</th>\n",
       "      <th>path_que</th>\n",
       "      <th>name_que</th>\n",
       "      <th>sp_simple_que</th>\n",
       "      <th>key_cell_type</th>\n",
       "    </tr>\n",
       "  </thead>\n",
       "  <tbody>\n",
       "    <tr>\n",
       "      <th>0</th>\n",
       "      <td>LC</td>\n",
       "      <td>human</td>\n",
       "      <td>/public/workspace/licanchengup/link/res_publis...</td>\n",
       "      <td>LChDCs</td>\n",
       "      <td>h</td>\n",
       "      <td>mouse</td>\n",
       "      <td>/public/workspace/licanchengup/link/res_publis...</td>\n",
       "      <td>LCmDCs</td>\n",
       "      <td>m</td>\n",
       "      <td>sub_cell_type</td>\n",
       "    </tr>\n",
       "    <tr>\n",
       "      <th>1</th>\n",
       "      <td>LC</td>\n",
       "      <td>human</td>\n",
       "      <td>/public/workspace/licanchengup/link/res_publis...</td>\n",
       "      <td>LChNeu</td>\n",
       "      <td>h</td>\n",
       "      <td>mouse</td>\n",
       "      <td>/public/workspace/licanchengup/link/res_publis...</td>\n",
       "      <td>LCmNeu</td>\n",
       "      <td>m</td>\n",
       "      <td>sub_cell_type</td>\n",
       "    </tr>\n",
       "    <tr>\n",
       "      <th>2</th>\n",
       "      <td>LC</td>\n",
       "      <td>human</td>\n",
       "      <td>/public/workspace/licanchengup/link/res_publis...</td>\n",
       "      <td>LChall</td>\n",
       "      <td>h</td>\n",
       "      <td>mouse</td>\n",
       "      <td>/public/workspace/licanchengup/link/res_publis...</td>\n",
       "      <td>LCmall</td>\n",
       "      <td>m</td>\n",
       "      <td>cell_type</td>\n",
       "    </tr>\n",
       "    <tr>\n",
       "      <th>3</th>\n",
       "      <td>LC</td>\n",
       "      <td>human</td>\n",
       "      <td>/public/workspace/licanchengup/link/res_publis...</td>\n",
       "      <td>LChMono</td>\n",
       "      <td>h</td>\n",
       "      <td>mouse</td>\n",
       "      <td>/public/workspace/licanchengup/link/res_publis...</td>\n",
       "      <td>LCmMono</td>\n",
       "      <td>m</td>\n",
       "      <td>sub_cell_type</td>\n",
       "    </tr>\n",
       "  </tbody>\n",
       "</table>\n",
       "</div>"
      ],
      "text/plain": [
       "  tissue sp_ref                                           path_ref name_ref  \\\n",
       "0     LC  human  /public/workspace/licanchengup/link/res_publis...   LChDCs   \n",
       "1     LC  human  /public/workspace/licanchengup/link/res_publis...   LChNeu   \n",
       "2     LC  human  /public/workspace/licanchengup/link/res_publis...   LChall   \n",
       "3     LC  human  /public/workspace/licanchengup/link/res_publis...  LChMono   \n",
       "\n",
       "  sp_simple_ref sp_que                                           path_que  \\\n",
       "0             h  mouse  /public/workspace/licanchengup/link/res_publis...   \n",
       "1             h  mouse  /public/workspace/licanchengup/link/res_publis...   \n",
       "2             h  mouse  /public/workspace/licanchengup/link/res_publis...   \n",
       "3             h  mouse  /public/workspace/licanchengup/link/res_publis...   \n",
       "\n",
       "  name_que sp_simple_que  key_cell_type  \n",
       "0   LCmDCs             m  sub_cell_type  \n",
       "1   LCmNeu             m  sub_cell_type  \n",
       "2   LCmall             m      cell_type  \n",
       "3  LCmMono             m  sub_cell_type  "
      ]
     },
     "metadata": {},
     "output_type": "display_data"
    },
    {
     "name": "stdout",
     "output_type": "stream",
     "text": [
      "tissue\n",
      "sp_ref\n",
      "path_ref\n",
      "name_ref\n",
      "sp_simple_ref\n",
      "sp_que\n",
      "path_que\n",
      "name_que\n",
      "sp_simple_que\n",
      "key_cell_type\n"
     ]
    }
   ],
   "source": [
    "df_para = pd.merge(\n",
    "    info.query(\"sp == 'human'\"),\n",
    "info.query(\"sp == 'mouse'\"),\n",
    "on=['tissue','tag'],suffixes=('_ref','_que')\n",
    ")\n",
    "df_para['key_cell_type'] = df_para['tag'].apply(lambda x:\"cell_type\" if x == \"allImm\" else \"sub_cell_type\")\n",
    "df_para = df_para.drop(columns=['tag'])\n",
    "df_para['tissue'] = 'LC'\n",
    "display(df_para)\n",
    "print(*df_para.columns,sep='\\n')"
   ]
  },
  {
   "cell_type": "code",
   "execution_count": 26,
   "id": "8b3a7400-47dd-40b9-b139-fd53654f5923",
   "metadata": {},
   "outputs": [
    {
     "name": "stdout",
     "output_type": "stream",
     "text": [
      "---------------------------------------------\n",
      "[finish]\n",
      "---------------------------------------------\n"
     ]
    }
   ],
   "source": [
    "df_para.to_csv(p_cache.joinpath('parameter_LC.csv'),index=False)\n",
    "print(\"\\n[finish]\\n\".center(100,\"-\"))"
   ]
  }
 ],
 "metadata": {
  "kernelspec": {
   "display_name": "publish",
   "language": "python",
   "name": "publish"
  },
  "language_info": {
   "codemirror_mode": {
    "name": "ipython",
    "version": 3
   },
   "file_extension": ".py",
   "mimetype": "text/x-python",
   "name": "python",
   "nbconvert_exporter": "python",
   "pygments_lexer": "ipython3",
   "version": "3.9.18"
  }
 },
 "nbformat": 4,
 "nbformat_minor": 5
}
