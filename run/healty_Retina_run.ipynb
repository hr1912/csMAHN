{
 "cells": [
  {
   "cell_type": "markdown",
   "id": "fd2db94f-a10b-4da7-9f70-1dc623630579",
   "metadata": {},
   "source": [
    "```shell\n",
    "conda activate\n",
    "cd ~/link/res_publish/run\n",
    "jupyter nbconvert healty_Retina_run.ipynb --to python\n",
    "\n",
    "conda activate publish\n",
    "nohup python healty_Retina_run.py > nohup_healty_Retina_run.txt &\n",
    "jobs\n",
    "\n",
    "conda activate\n",
    "echo 'finish'\n",
    "```"
   ]
  },
  {
   "cell_type": "code",
   "execution_count": 1,
   "id": "35346987-b2e6-499d-ac86-c64359f7496c",
   "metadata": {},
   "outputs": [],
   "source": [
    "import sys\n",
    "from pathlib import Path\n",
    "\n",
    "p_link = Path(\"/public/workspace/licanchengup/link\")\n",
    "p_publish = p_link.joinpath(\"res_publish\")\n",
    "None if str(p_publish) in sys.path else sys.path.append(str(p_publish))"
   ]
  },
  {
   "cell_type": "code",
   "execution_count": 2,
   "id": "4988b915-bdf0-4ff9-9be5-e800196a876e",
   "metadata": {},
   "outputs": [
    {
     "name": "stderr",
     "output_type": "stream",
     "text": [
      "/public/workspace/licanchengup/apps/miniconda3/envs/publish/lib/python3.9/site-packages/tqdm/auto.py:21: TqdmWarning: IProgress not found. Please update jupyter and ipywidgets. See https://ipywidgets.readthedocs.io/en/stable/user_install.html\n",
      "  from .autonotebook import tqdm as notebook_tqdm\n",
      "2024-03-25 13:47:25.010933: I tensorflow/core/platform/cpu_feature_guard.cc:182] This TensorFlow binary is optimized to use available CPU instructions in performance-critical operations.\n",
      "To enable the following instructions: SSE4.1 SSE4.2 AVX AVX2 AVX512F FMA, in other operations, rebuild TensorFlow with the appropriate compiler flags.\n"
     ]
    }
   ],
   "source": [
    "from func import *"
   ]
  },
  {
   "cell_type": "code",
   "execution_count": 3,
   "id": "b6ade923-508c-4785-8608-f41e217b6f8d",
   "metadata": {
    "scrolled": true
   },
   "outputs": [
    {
     "data": {
      "text/html": [
       "<div>\n",
       "<style scoped>\n",
       "    .dataframe tbody tr th:only-of-type {\n",
       "        vertical-align: middle;\n",
       "    }\n",
       "\n",
       "    .dataframe tbody tr th {\n",
       "        vertical-align: top;\n",
       "    }\n",
       "\n",
       "    .dataframe thead th {\n",
       "        text-align: right;\n",
       "    }\n",
       "</style>\n",
       "<table border=\"1\" class=\"dataframe\">\n",
       "  <thead>\n",
       "    <tr style=\"text-align: right;\">\n",
       "      <th></th>\n",
       "      <th>tissue</th>\n",
       "      <th>sp_ref</th>\n",
       "      <th>path_ref</th>\n",
       "      <th>name_ref</th>\n",
       "      <th>sp_simple_ref</th>\n",
       "      <th>sp_que</th>\n",
       "      <th>path_que</th>\n",
       "      <th>name_que</th>\n",
       "      <th>sp_simple_que</th>\n",
       "      <th>key_cell_type</th>\n",
       "    </tr>\n",
       "  </thead>\n",
       "  <tbody>\n",
       "    <tr>\n",
       "      <th>0</th>\n",
       "      <td>retina</td>\n",
       "      <td>zebrafish</td>\n",
       "      <td>/public/workspace/licanchengup/link/res_publis...</td>\n",
       "      <td>zebrafish_Adult</td>\n",
       "      <td>z</td>\n",
       "      <td>mouse</td>\n",
       "      <td>/public/workspace/licanchengup/link/res_publis...</td>\n",
       "      <td>Macosko</td>\n",
       "      <td>m</td>\n",
       "      <td>cell_type</td>\n",
       "    </tr>\n",
       "    <tr>\n",
       "      <th>1</th>\n",
       "      <td>retina</td>\n",
       "      <td>zebrafish</td>\n",
       "      <td>/public/workspace/licanchengup/link/res_publis...</td>\n",
       "      <td>zebrafish_Adult</td>\n",
       "      <td>z</td>\n",
       "      <td>human</td>\n",
       "      <td>/public/workspace/licanchengup/link/res_publis...</td>\n",
       "      <td>Menon_seqwell</td>\n",
       "      <td>h</td>\n",
       "      <td>cell_type</td>\n",
       "    </tr>\n",
       "    <tr>\n",
       "      <th>2</th>\n",
       "      <td>retina</td>\n",
       "      <td>zebrafish</td>\n",
       "      <td>/public/workspace/licanchengup/link/res_publis...</td>\n",
       "      <td>zebrafish_Adult</td>\n",
       "      <td>z</td>\n",
       "      <td>chicken</td>\n",
       "      <td>/public/workspace/licanchengup/link/res_publis...</td>\n",
       "      <td>chicken_P10</td>\n",
       "      <td>c</td>\n",
       "      <td>cell_type</td>\n",
       "    </tr>\n",
       "  </tbody>\n",
       "</table>\n",
       "</div>"
      ],
      "text/plain": [
       "   tissue     sp_ref                                           path_ref  \\\n",
       "0  retina  zebrafish  /public/workspace/licanchengup/link/res_publis...   \n",
       "1  retina  zebrafish  /public/workspace/licanchengup/link/res_publis...   \n",
       "2  retina  zebrafish  /public/workspace/licanchengup/link/res_publis...   \n",
       "\n",
       "          name_ref sp_simple_ref   sp_que  \\\n",
       "0  zebrafish_Adult             z    mouse   \n",
       "1  zebrafish_Adult             z    human   \n",
       "2  zebrafish_Adult             z  chicken   \n",
       "\n",
       "                                            path_que       name_que  \\\n",
       "0  /public/workspace/licanchengup/link/res_publis...        Macosko   \n",
       "1  /public/workspace/licanchengup/link/res_publis...  Menon_seqwell   \n",
       "2  /public/workspace/licanchengup/link/res_publis...    chicken_P10   \n",
       "\n",
       "  sp_simple_que key_cell_type  \n",
       "0             m     cell_type  \n",
       "1             h     cell_type  \n",
       "2             c     cell_type  "
      ]
     },
     "metadata": {},
     "output_type": "display_data"
    },
    {
     "data": {
      "text/plain": [
       "tissue                                                      retina\n",
       "sp_ref                                                   zebrafish\n",
       "path_ref         /public/workspace/licanchengup/link/res_publis...\n",
       "name_ref                                           zebrafish_Adult\n",
       "sp_simple_ref                                                    z\n",
       "sp_que                                                     chicken\n",
       "path_que         /public/workspace/licanchengup/link/res_publis...\n",
       "name_que                                               chicken_P10\n",
       "sp_simple_que                                                    c\n",
       "key_cell_type                                            cell_type\n",
       "Name: 2, dtype: object"
      ]
     },
     "execution_count": 3,
     "metadata": {},
     "output_type": "execute_result"
    }
   ],
   "source": [
    "df_para = pd.read_csv(p_cache.joinpath(\n",
    "    'parameter_healty_Retina.csv'\n",
    "))\n",
    "display(df_para)\n",
    "for _i, _row in df_para.iterrows():\n",
    "    pass\n",
    "_row"
   ]
  },
  {
   "cell_type": "code",
   "execution_count": 4,
   "id": "18822466-a618-4c45-a45f-01ebca689c72",
   "metadata": {},
   "outputs": [
    {
     "name": "stdout",
     "output_type": "stream",
     "text": [
      "/public/workspace/licanchengup/link/res_publish/res/retina_z-corss-m;csMAHN;zebrafish_Adult-map-Macosko;epochs=500;is_1v1=False/model_/mutistages\n",
      "[has finish]240325-1347 retina_z-corss-m;csMAHN;zebrafish_Adult-map-Macosko;epochs=500;is_1v1=False\n",
      "[has finish]240325-1347 retina_z-corss-m;came;zebrafish_Adult-map-Macosko;epochs=500;is_1v1=False\n",
      "/public/workspace/licanchengup/link/res_publish/res/retina_z-corss-h;csMAHN;zebrafish_Adult-map-Menon_seqwell;epochs=500;is_1v1=False/model_/mutistages\n",
      "[has finish]240325-1347 retina_z-corss-h;csMAHN;zebrafish_Adult-map-Menon_seqwell;epochs=500;is_1v1=False\n",
      "[has finish]240325-1347 retina_z-corss-h;came;zebrafish_Adult-map-Menon_seqwell;epochs=500;is_1v1=False\n",
      "/public/workspace/licanchengup/link/res_publish/res/retina_z-corss-c;csMAHN;zebrafish_Adult-map-chicken_P10;epochs=500;is_1v1=False/model_/mutistages\n",
      "[has finish]240325-1347 retina_z-corss-c;csMAHN;zebrafish_Adult-map-chicken_P10;epochs=500;is_1v1=False\n",
      "[has finish]240325-1347 retina_z-corss-c;came;zebrafish_Adult-map-chicken_P10;epochs=500;is_1v1=False\n",
      "/public/workspace/licanchengup/link/res_publish/res/retina_z-corss-m;csMAHN;zebrafish_Adult-map-Macosko;epochs=500;is_1v1=True/model_/mutistages\n",
      "[has finish]240325-1347 retina_z-corss-m;csMAHN;zebrafish_Adult-map-Macosko;epochs=500;is_1v1=True\n",
      "[has finish]240325-1347 retina_z-corss-m;came;zebrafish_Adult-map-Macosko;epochs=500;is_1v1=True\n",
      "/public/workspace/licanchengup/link/res_publish/res/retina_z-corss-h;csMAHN;zebrafish_Adult-map-Menon_seqwell;epochs=500;is_1v1=True/model_/mutistages\n",
      "[has finish]240325-1347 retina_z-corss-h;csMAHN;zebrafish_Adult-map-Menon_seqwell;epochs=500;is_1v1=True\n",
      "[has finish]240325-1347 retina_z-corss-h;came;zebrafish_Adult-map-Menon_seqwell;epochs=500;is_1v1=True\n",
      "/public/workspace/licanchengup/link/res_publish/res/retina_z-corss-c;csMAHN;zebrafish_Adult-map-chicken_P10;epochs=500;is_1v1=True/model_/mutistages\n",
      "[has finish]240325-1347 retina_z-corss-c;csMAHN;zebrafish_Adult-map-chicken_P10;epochs=500;is_1v1=True\n",
      "[has finish]240325-1347 retina_z-corss-c;came;zebrafish_Adult-map-chicken_P10;epochs=500;is_1v1=True\n",
      "[has finish]240325-1347 retina_z-corss-m;SAMap;zebrafish_Adult-map-Macosko;epochs=500;is_1v1=False\n",
      "[has finish]240325-1347 retina_z-corss-h;SAMap;zebrafish_Adult-map-Menon_seqwell;epochs=500;is_1v1=False\n",
      "[has finish]240325-1347 retina_z-corss-c;SAMap;zebrafish_Adult-map-chicken_P10;epochs=500;is_1v1=False\n"
     ]
    }
   ],
   "source": [
    "aligned=True\n",
    "\n",
    "for is_1v1 in [\n",
    "    False,\n",
    "               True\n",
    "]:\n",
    "    n_epochs = [100, 200, 200]\n",
    "    \n",
    "    for _i, _row in df_para.iterrows():\n",
    "        run_cross_species_models(\n",
    "            path_adata1=_row['path_ref'],\n",
    "            path_adata2=_row['path_que'],\n",
    "            key_class1=_row['key_cell_type'],\n",
    "            key_class2=_row['key_cell_type'],\n",
    "            sp1=_row['sp_simple_ref'],\n",
    "            sp2=_row['sp_simple_que'],\n",
    "            tissue_name=_row['tissue'],\n",
    "            aligned=aligned,\n",
    "            resdir_tag='{}-map-{};epochs={};is_1v1={}'.format(\n",
    "                _row['name_ref'],\n",
    "                _row['name_que'],\n",
    "                sum(n_epochs),\n",
    "                is_1v1),\n",
    "            resdir=p_res,\n",
    "            models='csMAHN,came'.split(','), \n",
    "            **{'n_epochs': n_epochs, \n",
    "               'is_1v1': is_1v1})\n",
    "\n",
    "# is_1v1 for SAMap\n",
    "for is_1v1 in [\n",
    "    False,\n",
    "               # True\n",
    "]:\n",
    "    n_epochs = [100, 200, 200]\n",
    "    \n",
    "    for _i, _row in df_para.iterrows():\n",
    "        run_cross_species_models(\n",
    "            path_adata1=_row['path_ref'],\n",
    "            path_adata2=_row['path_que'],\n",
    "            key_class1=_row['key_cell_type'],\n",
    "            key_class2=_row['key_cell_type'],\n",
    "            sp1=_row['sp_simple_ref'],\n",
    "            sp2=_row['sp_simple_que'],\n",
    "            tissue_name=_row['tissue'],\n",
    "            aligned=aligned,\n",
    "            resdir_tag='{}-map-{};epochs={};is_1v1={}'.format(\n",
    "                _row['name_ref'],\n",
    "                _row['name_que'],\n",
    "                sum(n_epochs),\n",
    "                is_1v1),\n",
    "            resdir=p_res,\n",
    "            models='SAMap'.split(','), \n",
    "            **{'n_epochs': n_epochs, \n",
    "               'is_1v1': is_1v1})"
   ]
  },
  {
   "cell_type": "code",
   "execution_count": 5,
   "id": "3d377dfe-78bc-4080-9d50-5504d320e4ba",
   "metadata": {},
   "outputs": [
    {
     "name": "stdout",
     "output_type": "stream",
     "text": [
      "---------------------------------------------\n",
      "[finish]\n",
      "---------------------------------------------\n"
     ]
    }
   ],
   "source": [
    "print(\"\\n[finish]\\n\".center(100,\"-\"))"
   ]
  }
 ],
 "metadata": {
  "kernelspec": {
   "display_name": "publish",
   "language": "python",
   "name": "publish"
  },
  "language_info": {
   "codemirror_mode": {
    "name": "ipython",
    "version": 3
   },
   "file_extension": ".py",
   "mimetype": "text/x-python",
   "name": "python",
   "nbconvert_exporter": "python",
   "pygments_lexer": "ipython3",
   "version": "3.9.18"
  }
 },
 "nbformat": 4,
 "nbformat_minor": 5
}
