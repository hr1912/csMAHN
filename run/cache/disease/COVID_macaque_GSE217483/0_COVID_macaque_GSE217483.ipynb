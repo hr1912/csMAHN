{
 "cells": [
  {
   "cell_type": "markdown",
   "id": "c3ce6456-e59d-4174-b0bf-9fce21c8aff7",
   "metadata": {},
   "source": [
    "[GSE217483](https://www.ncbi.nlm.nih.gov/geo/query/acc.cgi?acc=GSE217483)\n",
    "\n",
    "在这里，我们分析了感染严重急性呼吸系统综合征冠状病毒2型的恒河猴的肺、肝、肾和大脑皮层的约77000个单核转录组。\n",
    "\n",
    "\n",
    "| tissue | status | batch | gender | macacaID | macacaID_count |\n",
    "| :--: | :--: | :--: | :--: | :--: | :--: |\n",
    "| cortex | healthy | 0 | male | Ctrl1 | 1996 |\n",
    "| cortex | healthy | 1 | male | Ctrl2 | 8349 |\n",
    "| cortex | infected | 0 | female | Case1 | 5827 |\n",
    "| cortex | infected | 0 | male | Case2 | 7434 |\n",
    "| kidney | healthy | 0 | male | Ctrl1 | 5307 |\n",
    "| kidney | infected | 0 | female | Case1 | 4733 |\n",
    "| kidney | infected | 0 | male | Case2 | 3510 |\n",
    "| liver | healthy | 0 | male | Ctrl1 | 4152 |\n",
    "| liver | infected | 0 | female | Case1 | 7510 |\n",
    "| liver | infected | 0 | male | Case2 | 6070 |\n",
    "| lung | healthy | 0 | male | Ctrl1 | 5360 |\n",
    "| lung | infected | 0 | female | Case1 | 9035 |\n",
    "| lung | infected | 0 | male | Case2 | 7746 |"
   ]
  },
  {
   "cell_type": "code",
   "execution_count": 1,
   "id": "32757931-c12a-4f30-9787-44d0a91c6a6d",
   "metadata": {},
   "outputs": [],
   "source": [
    "import sys\n",
    "from pathlib import Path\n",
    "p_root = Path('~/link/res_publish').expanduser()\n",
    "None if str(p_root) in sys.path else sys.path.append(str(p_root))\n"
   ]
  },
  {
   "cell_type": "code",
   "execution_count": 2,
   "id": "a52cce6a-c073-4e9c-8666-b6e1f363b124",
   "metadata": {},
   "outputs": [
    {
     "name": "stderr",
     "output_type": "stream",
     "text": [
      "/public/workspace/licanchengup/apps/miniconda3/envs/publish/lib/python3.9/site-packages/tqdm/auto.py:21: TqdmWarning: IProgress not found. Please update jupyter and ipywidgets. See https://ipywidgets.readthedocs.io/en/stable/user_install.html\n",
      "  from .autonotebook import tqdm as notebook_tqdm\n",
      "2024-05-05 01:08:26.055220: I tensorflow/core/platform/cpu_feature_guard.cc:182] This TensorFlow binary is optimized to use available CPU instructions in performance-critical operations.\n",
      "To enable the following instructions: SSE4.1 SSE4.2 AVX AVX2 AVX512F FMA, in other operations, rebuild TensorFlow with the appropriate compiler flags.\n"
     ]
    },
    {
     "name": "stdout",
     "output_type": "stream",
     "text": [
      "\n",
      "-------------------------help-------------------------\n",
      "> parameter\n",
      "    p_root\t[name] res_publish\n",
      "        p_run, p_plot, p_res, p_cache, p_pdf\n",
      "    p_df_varmap\n",
      "    map_sp_reverse\n",
      "    rng\n",
      "> run\n",
      "    run_cross_species_models\n",
      "    h5ad_to_mtx\n",
      "    load_adata\n",
      "    get_path_varmap\n",
      "    find_path_from_para\n",
      "    load_normalized_adata\n",
      "\n",
      "> res\n",
      "    get_test_result_df\n",
      "    get_res_obs\n",
      "    get_adata_umap\n",
      "    show_umap\n",
      "\n",
      "> plot\n",
      "    get_color_map\n",
      "    show_color_map\n",
      "    show_color\n",
      "    plot_umap\n",
      "    savefig\n",
      "\n"
     ]
    }
   ],
   "source": [
    "from func import *"
   ]
  },
  {
   "cell_type": "code",
   "execution_count": 3,
   "id": "87939c57-aa02-443d-acc4-1a423b4a6efd",
   "metadata": {},
   "outputs": [
    {
     "data": {
      "text/plain": [
       "scipy.sparse._csr.csr_matrix"
      ]
     },
     "metadata": {},
     "output_type": "display_data"
    },
    {
     "data": {
      "text/plain": [
       "scipy.sparse._csr.csr_matrix"
      ]
     },
     "metadata": {},
     "output_type": "display_data"
    },
    {
     "data": {
      "text/plain": [
       "AnnData object with n_obs × n_vars = 77029 × 13131\n",
       "    obs: 'CC.difference', 'G2M_score', 'S_score', 'Unnamed..0', 'b025', 'batch', 'cell_type', 'doublet_score', 'fine_cell_type', 'gender', 'leiden', 'macacaID', 'n_counts', 'n_genes', 'nuclusID', 'organ', 'percent_mito', 'percent_ribo', 'phase', 'predicted_doublets', 'sampleID', 'status', 'tissue', 'broad_cell_type'\n",
       "    var: 'gene_ids-0', 'feature_types', 'n_cells-0', 'gene_ids-1', 'n_cells-1'"
      ]
     },
     "metadata": {},
     "output_type": "display_data"
    }
   ],
   "source": [
    "adata = sc.read_h5ad('GSE217483_Macaca_global_integration.h5ad')\n",
    "display(type(adata.X))\n",
    "adata.X = csr_matrix(adata.X)\n",
    "display(type(adata.X), adata)"
   ]
  },
  {
   "cell_type": "code",
   "execution_count": 4,
   "id": "b1324ab5-80e5-43f6-98ec-d836a3a7a8dc",
   "metadata": {},
   "outputs": [
    {
     "data": {
      "text/plain": [
       "array([1., 3., 1., 1., 1., 1., 1., 1., 1., 3.], dtype=float32)"
      ]
     },
     "metadata": {},
     "output_type": "display_data"
    }
   ],
   "source": [
    "temp = adata.X[:100, :100]\n",
    "display(np.ravel(temp[temp > 0])[:10])\n",
    "del temp"
   ]
  },
  {
   "cell_type": "code",
   "execution_count": 5,
   "id": "74392839-2769-4627-8953-bf64db3ad204",
   "metadata": {},
   "outputs": [
    {
     "name": "stdout",
     "output_type": "stream",
     "text": [
      "CC.difference\n",
      "G2M_score\n",
      "S_score\n",
      "Unnamed..0\n",
      "b025\n",
      "batch\n",
      "cell_type\n",
      "doublet_score\n",
      "fine_cell_type\n",
      "gender\n",
      "leiden\n",
      "macacaID\n",
      "n_counts\n",
      "n_genes\n",
      "nuclusID\n",
      "organ\n",
      "percent_mito\n",
      "percent_ribo\n",
      "phase\n",
      "predicted_doublets\n",
      "sampleID\n",
      "status\n",
      "tissue\n",
      "broad_cell_type\n"
     ]
    }
   ],
   "source": [
    "print(*adata.obs.columns, sep='\\n')"
   ]
  },
  {
   "cell_type": "code",
   "execution_count": 6,
   "id": "e0d5553f-16e7-4a5f-ad56-331e3906e942",
   "metadata": {
    "scrolled": true
   },
   "outputs": [
    {
     "data": {
      "text/html": [
       "<div>\n",
       "<style scoped>\n",
       "    .dataframe tbody tr th:only-of-type {\n",
       "        vertical-align: middle;\n",
       "    }\n",
       "\n",
       "    .dataframe tbody tr th {\n",
       "        vertical-align: top;\n",
       "    }\n",
       "\n",
       "    .dataframe thead th {\n",
       "        text-align: right;\n",
       "    }\n",
       "</style>\n",
       "<table border=\"1\" class=\"dataframe\">\n",
       "  <thead>\n",
       "    <tr style=\"text-align: right;\">\n",
       "      <th></th>\n",
       "      <th>CC.difference</th>\n",
       "      <th>G2M_score</th>\n",
       "      <th>S_score</th>\n",
       "      <th>Unnamed..0</th>\n",
       "      <th>b025</th>\n",
       "      <th>batch</th>\n",
       "      <th>cell_type</th>\n",
       "      <th>doublet_score</th>\n",
       "      <th>fine_cell_type</th>\n",
       "      <th>gender</th>\n",
       "      <th>...</th>\n",
       "      <th>nuclusID</th>\n",
       "      <th>organ</th>\n",
       "      <th>percent_mito</th>\n",
       "      <th>percent_ribo</th>\n",
       "      <th>phase</th>\n",
       "      <th>predicted_doublets</th>\n",
       "      <th>sampleID</th>\n",
       "      <th>status</th>\n",
       "      <th>tissue</th>\n",
       "      <th>broad_cell_type</th>\n",
       "    </tr>\n",
       "    <tr>\n",
       "      <th>index</th>\n",
       "      <th></th>\n",
       "      <th></th>\n",
       "      <th></th>\n",
       "      <th></th>\n",
       "      <th></th>\n",
       "      <th></th>\n",
       "      <th></th>\n",
       "      <th></th>\n",
       "      <th></th>\n",
       "      <th></th>\n",
       "      <th></th>\n",
       "      <th></th>\n",
       "      <th></th>\n",
       "      <th></th>\n",
       "      <th></th>\n",
       "      <th></th>\n",
       "      <th></th>\n",
       "      <th></th>\n",
       "      <th></th>\n",
       "      <th></th>\n",
       "      <th></th>\n",
       "    </tr>\n",
       "  </thead>\n",
       "  <tbody>\n",
       "    <tr>\n",
       "      <th>AAACCCAAGCAAGCCA-1-0</th>\n",
       "      <td>-0.003720</td>\n",
       "      <td>-0.070341</td>\n",
       "      <td>-0.074062</td>\n",
       "      <td>1.0</td>\n",
       "      <td>True</td>\n",
       "      <td>0</td>\n",
       "      <td>AT2</td>\n",
       "      <td>0.149518</td>\n",
       "      <td>AT2</td>\n",
       "      <td>male</td>\n",
       "      <td>...</td>\n",
       "      <td>20200908.0</td>\n",
       "      <td>lung</td>\n",
       "      <td>0.000536</td>\n",
       "      <td>0.005365</td>\n",
       "      <td>G1</td>\n",
       "      <td>False</td>\n",
       "      <td>Macaca_mulatta_healthy_lung_20200911</td>\n",
       "      <td>healthy</td>\n",
       "      <td>0.0</td>\n",
       "      <td>Aveolar Epi Cells</td>\n",
       "    </tr>\n",
       "    <tr>\n",
       "      <th>AAACCCAAGTCGAAGC-1-0</th>\n",
       "      <td>0.092016</td>\n",
       "      <td>-0.136617</td>\n",
       "      <td>-0.044601</td>\n",
       "      <td>2.0</td>\n",
       "      <td>True</td>\n",
       "      <td>0</td>\n",
       "      <td>AT2</td>\n",
       "      <td>0.084946</td>\n",
       "      <td>AT2</td>\n",
       "      <td>male</td>\n",
       "      <td>...</td>\n",
       "      <td>20200908.0</td>\n",
       "      <td>lung</td>\n",
       "      <td>0.000000</td>\n",
       "      <td>0.005011</td>\n",
       "      <td>G1</td>\n",
       "      <td>False</td>\n",
       "      <td>Macaca_mulatta_healthy_lung_20200911</td>\n",
       "      <td>healthy</td>\n",
       "      <td>0.0</td>\n",
       "      <td>Aveolar Epi Cells</td>\n",
       "    </tr>\n",
       "  </tbody>\n",
       "</table>\n",
       "<p>2 rows × 24 columns</p>\n",
       "</div>"
      ],
      "text/plain": [
       "                      CC.difference  G2M_score   S_score  Unnamed..0  b025  \\\n",
       "index                                                                        \n",
       "AAACCCAAGCAAGCCA-1-0      -0.003720  -0.070341 -0.074062         1.0  True   \n",
       "AAACCCAAGTCGAAGC-1-0       0.092016  -0.136617 -0.044601         2.0  True   \n",
       "\n",
       "                      batch cell_type  doublet_score fine_cell_type gender  \\\n",
       "index                                                                        \n",
       "AAACCCAAGCAAGCCA-1-0      0       AT2       0.149518            AT2   male   \n",
       "AAACCCAAGTCGAAGC-1-0      0       AT2       0.084946            AT2   male   \n",
       "\n",
       "                      ...    nuclusID organ  percent_mito  percent_ribo  \\\n",
       "index                 ...                                                 \n",
       "AAACCCAAGCAAGCCA-1-0  ...  20200908.0  lung      0.000536      0.005365   \n",
       "AAACCCAAGTCGAAGC-1-0  ...  20200908.0  lung      0.000000      0.005011   \n",
       "\n",
       "                      phase predicted_doublets  \\\n",
       "index                                            \n",
       "AAACCCAAGCAAGCCA-1-0     G1              False   \n",
       "AAACCCAAGTCGAAGC-1-0     G1              False   \n",
       "\n",
       "                                                  sampleID   status tissue  \\\n",
       "index                                                                        \n",
       "AAACCCAAGCAAGCCA-1-0  Macaca_mulatta_healthy_lung_20200911  healthy    0.0   \n",
       "AAACCCAAGTCGAAGC-1-0  Macaca_mulatta_healthy_lung_20200911  healthy    0.0   \n",
       "\n",
       "                        broad_cell_type  \n",
       "index                                    \n",
       "AAACCCAAGCAAGCCA-1-0  Aveolar Epi Cells  \n",
       "AAACCCAAGTCGAAGC-1-0  Aveolar Epi Cells  \n",
       "\n",
       "[2 rows x 24 columns]"
      ]
     },
     "metadata": {},
     "output_type": "display_data"
    },
    {
     "data": {
      "text/html": [
       "<div>\n",
       "<style scoped>\n",
       "    .dataframe tbody tr th:only-of-type {\n",
       "        vertical-align: middle;\n",
       "    }\n",
       "\n",
       "    .dataframe tbody tr th {\n",
       "        vertical-align: top;\n",
       "    }\n",
       "\n",
       "    .dataframe thead th {\n",
       "        text-align: right;\n",
       "    }\n",
       "</style>\n",
       "<table border=\"1\" class=\"dataframe\">\n",
       "  <thead>\n",
       "    <tr style=\"text-align: right;\">\n",
       "      <th></th>\n",
       "      <th>_batch</th>\n",
       "      <th>sampleID</th>\n",
       "      <th>cell_type</th>\n",
       "      <th>pre_fine_cell_type</th>\n",
       "      <th>status</th>\n",
       "      <th>macacaID</th>\n",
       "      <th>batch</th>\n",
       "      <th>gender</th>\n",
       "      <th>tissue</th>\n",
       "    </tr>\n",
       "    <tr>\n",
       "      <th>index</th>\n",
       "      <th></th>\n",
       "      <th></th>\n",
       "      <th></th>\n",
       "      <th></th>\n",
       "      <th></th>\n",
       "      <th></th>\n",
       "      <th></th>\n",
       "      <th></th>\n",
       "      <th></th>\n",
       "    </tr>\n",
       "  </thead>\n",
       "  <tbody>\n",
       "    <tr>\n",
       "      <th>AAACCCAAGCAAGCCA-1-0</th>\n",
       "      <td>healthy_1</td>\n",
       "      <td>Macaca_mulatta_healthy_lung_20200911</td>\n",
       "      <td></td>\n",
       "      <td>AT2</td>\n",
       "      <td>healthy</td>\n",
       "      <td>healthy_1</td>\n",
       "      <td>0</td>\n",
       "      <td>male</td>\n",
       "      <td>lung</td>\n",
       "    </tr>\n",
       "    <tr>\n",
       "      <th>AAACCCAAGTCGAAGC-1-0</th>\n",
       "      <td>healthy_1</td>\n",
       "      <td>Macaca_mulatta_healthy_lung_20200911</td>\n",
       "      <td></td>\n",
       "      <td>AT2</td>\n",
       "      <td>healthy</td>\n",
       "      <td>healthy_1</td>\n",
       "      <td>0</td>\n",
       "      <td>male</td>\n",
       "      <td>lung</td>\n",
       "    </tr>\n",
       "  </tbody>\n",
       "</table>\n",
       "</div>"
      ],
      "text/plain": [
       "                         _batch                              sampleID  \\\n",
       "index                                                                   \n",
       "AAACCCAAGCAAGCCA-1-0  healthy_1  Macaca_mulatta_healthy_lung_20200911   \n",
       "AAACCCAAGTCGAAGC-1-0  healthy_1  Macaca_mulatta_healthy_lung_20200911   \n",
       "\n",
       "                     cell_type pre_fine_cell_type   status   macacaID  batch  \\\n",
       "index                                                                          \n",
       "AAACCCAAGCAAGCCA-1-0                          AT2  healthy  healthy_1      0   \n",
       "AAACCCAAGTCGAAGC-1-0                          AT2  healthy  healthy_1      0   \n",
       "\n",
       "                     gender tissue  \n",
       "index                               \n",
       "AAACCCAAGCAAGCCA-1-0   male   lung  \n",
       "AAACCCAAGTCGAAGC-1-0   male   lung  "
      ]
     },
     "metadata": {},
     "output_type": "display_data"
    },
    {
     "data": {
      "text/plain": [
       "pre_fine_cell_type\n",
       "Endothelial            6665\n",
       "AT1                    6402\n",
       "Zone1 Hepa             6028\n",
       "Zone3 Hepa             5775\n",
       "ExN_L2/3               5754\n",
       "AT2                    5642\n",
       "Fibroblast             2999\n",
       "ExN_L5/6               2763\n",
       "Macrophage             2562\n",
       "ExN_L4                 2360\n",
       "Proximal Tubule1       2124\n",
       "Oligo                  1908\n",
       "Neu_NRGN               1761\n",
       "Astro                  1533\n",
       "Proximal Tubule2       1528\n",
       "InN_SST                1513\n",
       "CD-PC                  1362\n",
       "Proximal Tubule3       1227\n",
       "InN_VIP                1174\n",
       "InN_PVALB              1151\n",
       "LOH3                    994\n",
       "Interstitial Cells      938\n",
       "Stellate cell1          892\n",
       "OPC                     860\n",
       "Connecting Tubule       839\n",
       "Microglia               727\n",
       "DCT                     721\n",
       "T cell                  718\n",
       "CD-IC type B            615\n",
       "Zone2 Hepa              557\n",
       "T Cell                  522\n",
       "InN_RELN                473\n",
       "CD-IC type A            470\n",
       "Pericyte                463\n",
       "Mesothelial             451\n",
       "InN_LAMP5               449\n",
       "LOH1                    429\n",
       "ExN_L5/6_CC             380\n",
       "Parietal Epithelial     340\n",
       "Monocyte                277\n",
       "Epithelial              254\n",
       "Lymphatic_Endo          249\n",
       "InN_SV2C                235\n",
       "Smooth_muscle           227\n",
       "Stellate cell2          221\n",
       "In_Neuron               159\n",
       "B cell                  158\n",
       "Stellate cell3          155\n",
       "Pericyte2               135\n",
       "Cholangiocytes          130\n",
       "Ciliated                125\n",
       "Podocyte                121\n",
       "Mast Cell               107\n",
       "B Cell                  100\n",
       "LOH2                     88\n",
       "Clara                    70\n",
       "Pericyte1                62\n",
       "Pericyte_COL1A2          43\n",
       "Pericyte_PDGFRB          24\n",
       "Smooth_Muscle            20\n",
       "Name: count, dtype: int64"
      ]
     },
     "metadata": {},
     "output_type": "display_data"
    }
   ],
   "source": [
    "display(adata.obs.head(2))\n",
    "# for i in 'sampleID,status,macacaID,batch,gender,organ'.split(','):\n",
    "#     print(i.ljust(50,'-'),end='\\n\\n')\n",
    "#     display(adata.obs[i].value_counts())\n",
    "adata.obs = adata.obs.loc[:,\n",
    "                          'sampleID,fine_cell_type,status,macacaID,batch,gender,organ'.split(',')]\n",
    "adata.obs = adata.obs.rename(columns={'organ': 'tissue','fine_cell_type':'pre_fine_cell_type'})\n",
    "adata.obs['macacaID'] = adata.obs['macacaID'].str.replace(\n",
    "    'Ctrl', 'healthy_').str.replace('Case', 'infected_')\n",
    "adata.obs['_batch'] = adata.obs['macacaID']\n",
    "# new\n",
    "adata.obs['cell_type'] = adata.obs['pre_fine_cell_type'].map(\n",
    "    lambda k:{'Macrophage':'macrophage'}.setdefault(k,'')\n",
    ")\n",
    "adata.obs = adata.obs.loc[:,\n",
    "                          '_batch,sampleID,cell_type,pre_fine_cell_type,status,macacaID,batch,gender,tissue'.split(',')]\n",
    "display(adata.obs.head(2), adata.obs['pre_fine_cell_type'].value_counts())"
   ]
  },
  {
   "cell_type": "markdown",
   "id": "06eccba4-4107-40c5-a4b8-3e5c1bc5eae3",
   "metadata": {},
   "source": [
    "# lung"
   ]
  },
  {
   "cell_type": "code",
   "execution_count": 7,
   "id": "725eadc4-23c2-4e55-ac61-9b564f6801fe",
   "metadata": {
    "scrolled": true
   },
   "outputs": [
    {
     "data": {
      "text/plain": [
       "View of AnnData object with n_obs × n_vars = 22141 × 13131\n",
       "    obs: '_batch', 'sampleID', 'cell_type', 'pre_fine_cell_type', 'status', 'macacaID', 'batch', 'gender', 'tissue'\n",
       "    var: 'gene_ids-0', 'feature_types', 'n_cells-0', 'gene_ids-1', 'n_cells-1'"
      ]
     },
     "metadata": {},
     "output_type": "display_data"
    },
    {
     "data": {
      "text/html": [
       "<div>\n",
       "<style scoped>\n",
       "    .dataframe tbody tr th:only-of-type {\n",
       "        vertical-align: middle;\n",
       "    }\n",
       "\n",
       "    .dataframe tbody tr th {\n",
       "        vertical-align: top;\n",
       "    }\n",
       "\n",
       "    .dataframe thead th {\n",
       "        text-align: right;\n",
       "    }\n",
       "</style>\n",
       "<table border=\"1\" class=\"dataframe\">\n",
       "  <thead>\n",
       "    <tr style=\"text-align: right;\">\n",
       "      <th></th>\n",
       "      <th>_batch</th>\n",
       "      <th>sampleID</th>\n",
       "      <th>cell_type</th>\n",
       "      <th>pre_fine_cell_type</th>\n",
       "      <th>status</th>\n",
       "      <th>macacaID</th>\n",
       "      <th>batch</th>\n",
       "      <th>gender</th>\n",
       "      <th>tissue</th>\n",
       "    </tr>\n",
       "    <tr>\n",
       "      <th>index</th>\n",
       "      <th></th>\n",
       "      <th></th>\n",
       "      <th></th>\n",
       "      <th></th>\n",
       "      <th></th>\n",
       "      <th></th>\n",
       "      <th></th>\n",
       "      <th></th>\n",
       "      <th></th>\n",
       "    </tr>\n",
       "  </thead>\n",
       "  <tbody>\n",
       "    <tr>\n",
       "      <th>AAACCCAAGCAAGCCA-1-0</th>\n",
       "      <td>healthy_1</td>\n",
       "      <td>Macaca_mulatta_healthy_lung_20200911</td>\n",
       "      <td></td>\n",
       "      <td>AT2</td>\n",
       "      <td>healthy</td>\n",
       "      <td>healthy_1</td>\n",
       "      <td>0</td>\n",
       "      <td>male</td>\n",
       "      <td>lung</td>\n",
       "    </tr>\n",
       "    <tr>\n",
       "      <th>AAACCCAAGTCGAAGC-1-0</th>\n",
       "      <td>healthy_1</td>\n",
       "      <td>Macaca_mulatta_healthy_lung_20200911</td>\n",
       "      <td></td>\n",
       "      <td>AT2</td>\n",
       "      <td>healthy</td>\n",
       "      <td>healthy_1</td>\n",
       "      <td>0</td>\n",
       "      <td>male</td>\n",
       "      <td>lung</td>\n",
       "    </tr>\n",
       "  </tbody>\n",
       "</table>\n",
       "</div>"
      ],
      "text/plain": [
       "                         _batch                              sampleID  \\\n",
       "index                                                                   \n",
       "AAACCCAAGCAAGCCA-1-0  healthy_1  Macaca_mulatta_healthy_lung_20200911   \n",
       "AAACCCAAGTCGAAGC-1-0  healthy_1  Macaca_mulatta_healthy_lung_20200911   \n",
       "\n",
       "                     cell_type pre_fine_cell_type   status   macacaID  batch  \\\n",
       "index                                                                          \n",
       "AAACCCAAGCAAGCCA-1-0                          AT2  healthy  healthy_1      0   \n",
       "AAACCCAAGTCGAAGC-1-0                          AT2  healthy  healthy_1      0   \n",
       "\n",
       "                     gender tissue  \n",
       "index                               \n",
       "AAACCCAAGCAAGCCA-1-0   male   lung  \n",
       "AAACCCAAGTCGAAGC-1-0   male   lung  "
      ]
     },
     "metadata": {},
     "output_type": "display_data"
    },
    {
     "data": {
      "text/plain": [
       "tissue\n",
       "lung    22141\n",
       "Name: count, dtype: int64"
      ]
     },
     "metadata": {},
     "output_type": "display_data"
    },
    {
     "data": {
      "text/plain": [
       "_batch\n",
       "infected_1    9035\n",
       "infected_2    7746\n",
       "healthy_1     5360\n",
       "Name: count, dtype: int64"
      ]
     },
     "metadata": {},
     "output_type": "display_data"
    },
    {
     "data": {
      "text/plain": [
       "pre_fine_cell_type\n",
       "AT1               6402\n",
       "AT2               5642\n",
       "Endothelial       3375\n",
       "Fibroblast        2999\n",
       "Macrophage        1630\n",
       "Pericyte           463\n",
       "Mesothelial        451\n",
       "T Cell             329\n",
       "Smooth_muscle      227\n",
       "Lymphatic_Endo     177\n",
       "Monocyte           144\n",
       "Ciliated           125\n",
       "Mast Cell          107\n",
       "Clara               70\n",
       "Name: count, dtype: int64"
      ]
     },
     "metadata": {},
     "output_type": "display_data"
    }
   ],
   "source": [
    "adata_l = adata[adata.obs['tissue'] == 'lung', :]\n",
    "display(\n",
    "    adata_l,\n",
    "    adata_l.obs.head(2),\n",
    "    adata_l.obs['tissue'].value_counts(),\n",
    "    adata_l.obs['_batch'].value_counts(),\n",
    "    adata_l.obs['pre_fine_cell_type'].value_counts())"
   ]
  },
  {
   "cell_type": "code",
   "execution_count": 8,
   "id": "3ff7c021-f735-4e5f-b40f-b030f09c10cd",
   "metadata": {},
   "outputs": [
    {
     "data": {
      "text/plain": [
       "View of AnnData object with n_obs × n_vars = 1630 × 13131\n",
       "    obs: '_batch', 'sampleID', 'cell_type', 'pre_fine_cell_type', 'status', 'macacaID', 'batch', 'gender', 'tissue'\n",
       "    var: 'gene_ids-0', 'feature_types', 'n_cells-0', 'gene_ids-1', 'n_cells-1'"
      ]
     },
     "metadata": {},
     "output_type": "display_data"
    },
    {
     "data": {
      "text/html": [
       "<div>\n",
       "<style scoped>\n",
       "    .dataframe tbody tr th:only-of-type {\n",
       "        vertical-align: middle;\n",
       "    }\n",
       "\n",
       "    .dataframe tbody tr th {\n",
       "        vertical-align: top;\n",
       "    }\n",
       "\n",
       "    .dataframe thead th {\n",
       "        text-align: right;\n",
       "    }\n",
       "</style>\n",
       "<table border=\"1\" class=\"dataframe\">\n",
       "  <thead>\n",
       "    <tr style=\"text-align: right;\">\n",
       "      <th></th>\n",
       "      <th>_batch</th>\n",
       "      <th>sampleID</th>\n",
       "      <th>cell_type</th>\n",
       "      <th>pre_fine_cell_type</th>\n",
       "      <th>status</th>\n",
       "      <th>macacaID</th>\n",
       "      <th>batch</th>\n",
       "      <th>gender</th>\n",
       "      <th>tissue</th>\n",
       "    </tr>\n",
       "    <tr>\n",
       "      <th>index</th>\n",
       "      <th></th>\n",
       "      <th></th>\n",
       "      <th></th>\n",
       "      <th></th>\n",
       "      <th></th>\n",
       "      <th></th>\n",
       "      <th></th>\n",
       "      <th></th>\n",
       "      <th></th>\n",
       "    </tr>\n",
       "  </thead>\n",
       "  <tbody>\n",
       "    <tr>\n",
       "      <th>AAACCCAGTGGTCTTA-1-0</th>\n",
       "      <td>healthy_1</td>\n",
       "      <td>Macaca_mulatta_healthy_lung_20200911</td>\n",
       "      <td>macrophage</td>\n",
       "      <td>Macrophage</td>\n",
       "      <td>healthy</td>\n",
       "      <td>healthy_1</td>\n",
       "      <td>0</td>\n",
       "      <td>male</td>\n",
       "      <td>lung</td>\n",
       "    </tr>\n",
       "    <tr>\n",
       "      <th>AAAGTGAGTCCTGTCT-1-0</th>\n",
       "      <td>healthy_1</td>\n",
       "      <td>Macaca_mulatta_healthy_lung_20200911</td>\n",
       "      <td>macrophage</td>\n",
       "      <td>Macrophage</td>\n",
       "      <td>healthy</td>\n",
       "      <td>healthy_1</td>\n",
       "      <td>0</td>\n",
       "      <td>male</td>\n",
       "      <td>lung</td>\n",
       "    </tr>\n",
       "  </tbody>\n",
       "</table>\n",
       "</div>"
      ],
      "text/plain": [
       "                         _batch                              sampleID  \\\n",
       "index                                                                   \n",
       "AAACCCAGTGGTCTTA-1-0  healthy_1  Macaca_mulatta_healthy_lung_20200911   \n",
       "AAAGTGAGTCCTGTCT-1-0  healthy_1  Macaca_mulatta_healthy_lung_20200911   \n",
       "\n",
       "                       cell_type pre_fine_cell_type   status   macacaID  \\\n",
       "index                                                                     \n",
       "AAACCCAGTGGTCTTA-1-0  macrophage         Macrophage  healthy  healthy_1   \n",
       "AAAGTGAGTCCTGTCT-1-0  macrophage         Macrophage  healthy  healthy_1   \n",
       "\n",
       "                      batch gender tissue  \n",
       "index                                      \n",
       "AAACCCAGTGGTCTTA-1-0      0   male   lung  \n",
       "AAAGTGAGTCCTGTCT-1-0      0   male   lung  "
      ]
     },
     "metadata": {},
     "output_type": "display_data"
    },
    {
     "data": {
      "text/plain": [
       "cell_type\n",
       "macrophage    1630\n",
       "Name: count, dtype: int64"
      ]
     },
     "metadata": {},
     "output_type": "display_data"
    }
   ],
   "source": [
    "# new\n",
    "adata_l_marc = adata_l[adata_l.obs['cell_type'] == 'macrophage']\n",
    "display(adata_l_marc,adata_l_marc.obs.head(2),adata_l_marc.obs['cell_type'].value_counts())"
   ]
  },
  {
   "cell_type": "code",
   "execution_count": 9,
   "id": "12674c49-b939-490e-a964-dd04f6bb92b2",
   "metadata": {},
   "outputs": [
    {
     "name": "stderr",
     "output_type": "stream",
     "text": [
      "/tmp/ipykernel_88336/42725173.py:1: ImplicitModificationWarning: Trying to modify attribute `.obs` of view, initializing view as actual.\n",
      "  adata_l_marc.obs['macr_cell_type'] =adata_l_marc.obs['cell_type']\n"
     ]
    },
    {
     "data": {
      "text/plain": [
       "AnnData object with n_obs × n_vars = 1630 × 13131\n",
       "    obs: '_batch', 'sampleID', 'cell_type', 'macr_cell_type', 'pre_fine_cell_type', 'status', 'macacaID', 'batch', 'gender', 'tissue'\n",
       "    var: 'gene_ids-0', 'feature_types', 'n_cells-0', 'gene_ids-1', 'n_cells-1'"
      ]
     },
     "metadata": {},
     "output_type": "display_data"
    },
    {
     "data": {
      "text/html": [
       "<div>\n",
       "<style scoped>\n",
       "    .dataframe tbody tr th:only-of-type {\n",
       "        vertical-align: middle;\n",
       "    }\n",
       "\n",
       "    .dataframe tbody tr th {\n",
       "        vertical-align: top;\n",
       "    }\n",
       "\n",
       "    .dataframe thead th {\n",
       "        text-align: right;\n",
       "    }\n",
       "</style>\n",
       "<table border=\"1\" class=\"dataframe\">\n",
       "  <thead>\n",
       "    <tr style=\"text-align: right;\">\n",
       "      <th></th>\n",
       "      <th>_batch</th>\n",
       "      <th>sampleID</th>\n",
       "      <th>cell_type</th>\n",
       "      <th>macr_cell_type</th>\n",
       "      <th>pre_fine_cell_type</th>\n",
       "      <th>status</th>\n",
       "      <th>macacaID</th>\n",
       "      <th>batch</th>\n",
       "      <th>gender</th>\n",
       "      <th>tissue</th>\n",
       "    </tr>\n",
       "    <tr>\n",
       "      <th>index</th>\n",
       "      <th></th>\n",
       "      <th></th>\n",
       "      <th></th>\n",
       "      <th></th>\n",
       "      <th></th>\n",
       "      <th></th>\n",
       "      <th></th>\n",
       "      <th></th>\n",
       "      <th></th>\n",
       "      <th></th>\n",
       "    </tr>\n",
       "  </thead>\n",
       "  <tbody>\n",
       "    <tr>\n",
       "      <th>AAACCCAGTGGTCTTA-1-0</th>\n",
       "      <td>healthy_1</td>\n",
       "      <td>Macaca_mulatta_healthy_lung_20200911</td>\n",
       "      <td>macrophage</td>\n",
       "      <td>macrophage</td>\n",
       "      <td>Macrophage</td>\n",
       "      <td>healthy</td>\n",
       "      <td>healthy_1</td>\n",
       "      <td>0</td>\n",
       "      <td>male</td>\n",
       "      <td>lung</td>\n",
       "    </tr>\n",
       "    <tr>\n",
       "      <th>AAAGTGAGTCCTGTCT-1-0</th>\n",
       "      <td>healthy_1</td>\n",
       "      <td>Macaca_mulatta_healthy_lung_20200911</td>\n",
       "      <td>macrophage</td>\n",
       "      <td>macrophage</td>\n",
       "      <td>Macrophage</td>\n",
       "      <td>healthy</td>\n",
       "      <td>healthy_1</td>\n",
       "      <td>0</td>\n",
       "      <td>male</td>\n",
       "      <td>lung</td>\n",
       "    </tr>\n",
       "  </tbody>\n",
       "</table>\n",
       "</div>"
      ],
      "text/plain": [
       "                         _batch                              sampleID  \\\n",
       "index                                                                   \n",
       "AAACCCAGTGGTCTTA-1-0  healthy_1  Macaca_mulatta_healthy_lung_20200911   \n",
       "AAAGTGAGTCCTGTCT-1-0  healthy_1  Macaca_mulatta_healthy_lung_20200911   \n",
       "\n",
       "                       cell_type macr_cell_type pre_fine_cell_type   status  \\\n",
       "index                                                                         \n",
       "AAACCCAGTGGTCTTA-1-0  macrophage     macrophage         Macrophage  healthy   \n",
       "AAAGTGAGTCCTGTCT-1-0  macrophage     macrophage         Macrophage  healthy   \n",
       "\n",
       "                       macacaID  batch gender tissue  \n",
       "index                                                 \n",
       "AAACCCAGTGGTCTTA-1-0  healthy_1      0   male   lung  \n",
       "AAAGTGAGTCCTGTCT-1-0  healthy_1      0   male   lung  "
      ]
     },
     "metadata": {},
     "output_type": "display_data"
    }
   ],
   "source": [
    "adata_l_marc.obs['macr_cell_type'] =adata_l_marc.obs['cell_type']\n",
    "adata_l_marc.obs = adata_l_marc.obs.loc[:,\n",
    "                          '_batch,sampleID,cell_type,macr_cell_type,pre_fine_cell_type,status,macacaID,batch,gender,tissue'.split(',')]\n",
    "display(adata_l_marc,adata_l_marc.obs.head(2))"
   ]
  },
  {
   "cell_type": "code",
   "execution_count": 10,
   "id": "ff84c3c6-75c0-4fa9-8519-f1a3f9051903",
   "metadata": {},
   "outputs": [
    {
     "name": "stdout",
     "output_type": "stream",
     "text": [
      "frist 10 adata.X nonzero elements:\n",
      " [[8 1 1 1 3 1 1 1 1 1]]\n",
      "[out] /public/workspace/licanchengup/link/res_publish/run/cache/disease/COVID_ma_macrophage_GSE217483\n"
     ]
    }
   ],
   "source": [
    "# display(adata.obs['tissue'].value_counts())\n",
    "# for tissue in adata.obs['tissue'].unique():\n",
    "#     h5ad_to_mtx(adata[adata.obs['tissue'] == tissue, :],\n",
    "#                 'COVID_macaca_GSE217483_{}'.format(tissue))\n",
    "# print(\"\\n[finish]\\n\".center(100, \"-\"))\n",
    "h5ad_to_mtx(adata_l_marc,\n",
    "p_cache.joinpath('disease','COVID_ma_macrophage_GSE217483')\n",
    "           )"
   ]
  },
  {
   "cell_type": "code",
   "execution_count": 11,
   "id": "4a597607-eb19-40a9-8b4f-b6504940f8f2",
   "metadata": {},
   "outputs": [
    {
     "data": {
      "text/html": [
       "<div>\n",
       "<style scoped>\n",
       "    .dataframe tbody tr th:only-of-type {\n",
       "        vertical-align: middle;\n",
       "    }\n",
       "\n",
       "    .dataframe tbody tr th {\n",
       "        vertical-align: top;\n",
       "    }\n",
       "\n",
       "    .dataframe thead th {\n",
       "        text-align: right;\n",
       "    }\n",
       "</style>\n",
       "<table border=\"1\" class=\"dataframe\">\n",
       "  <thead>\n",
       "    <tr style=\"text-align: right;\">\n",
       "      <th></th>\n",
       "      <th>_batch</th>\n",
       "      <th>sampleID</th>\n",
       "      <th>cell_type</th>\n",
       "      <th>macr_cell_type</th>\n",
       "      <th>pre_fine_cell_type</th>\n",
       "      <th>status</th>\n",
       "      <th>macacaID</th>\n",
       "      <th>batch</th>\n",
       "      <th>gender</th>\n",
       "      <th>tissue</th>\n",
       "    </tr>\n",
       "    <tr>\n",
       "      <th>index</th>\n",
       "      <th></th>\n",
       "      <th></th>\n",
       "      <th></th>\n",
       "      <th></th>\n",
       "      <th></th>\n",
       "      <th></th>\n",
       "      <th></th>\n",
       "      <th></th>\n",
       "      <th></th>\n",
       "      <th></th>\n",
       "    </tr>\n",
       "  </thead>\n",
       "  <tbody>\n",
       "    <tr>\n",
       "      <th>AAACCCAGTGGTCTTA-1-0</th>\n",
       "      <td>healthy_1</td>\n",
       "      <td>Macaca_mulatta_healthy_lung_20200911</td>\n",
       "      <td>macrophage</td>\n",
       "      <td>macrophage</td>\n",
       "      <td>Macrophage</td>\n",
       "      <td>healthy</td>\n",
       "      <td>healthy_1</td>\n",
       "      <td>0</td>\n",
       "      <td>male</td>\n",
       "      <td>lung</td>\n",
       "    </tr>\n",
       "    <tr>\n",
       "      <th>AAAGTGAGTCCTGTCT-1-0</th>\n",
       "      <td>healthy_1</td>\n",
       "      <td>Macaca_mulatta_healthy_lung_20200911</td>\n",
       "      <td>macrophage</td>\n",
       "      <td>macrophage</td>\n",
       "      <td>Macrophage</td>\n",
       "      <td>healthy</td>\n",
       "      <td>healthy_1</td>\n",
       "      <td>0</td>\n",
       "      <td>male</td>\n",
       "      <td>lung</td>\n",
       "    </tr>\n",
       "  </tbody>\n",
       "</table>\n",
       "</div>"
      ],
      "text/plain": [
       "                         _batch                              sampleID  \\\n",
       "index                                                                   \n",
       "AAACCCAGTGGTCTTA-1-0  healthy_1  Macaca_mulatta_healthy_lung_20200911   \n",
       "AAAGTGAGTCCTGTCT-1-0  healthy_1  Macaca_mulatta_healthy_lung_20200911   \n",
       "\n",
       "                       cell_type macr_cell_type pre_fine_cell_type   status  \\\n",
       "index                                                                         \n",
       "AAACCCAGTGGTCTTA-1-0  macrophage     macrophage         Macrophage  healthy   \n",
       "AAAGTGAGTCCTGTCT-1-0  macrophage     macrophage         Macrophage  healthy   \n",
       "\n",
       "                       macacaID  batch gender tissue  \n",
       "index                                                 \n",
       "AAACCCAGTGGTCTTA-1-0  healthy_1      0   male   lung  \n",
       "AAAGTGAGTCCTGTCT-1-0  healthy_1      0   male   lung  "
      ]
     },
     "metadata": {},
     "output_type": "display_data"
    },
    {
     "data": {
      "text/plain": [
       "(1630, 10)"
      ]
     },
     "metadata": {},
     "output_type": "display_data"
    },
    {
     "data": {
      "text/plain": [
       "macacaID\n",
       "infected_2    628\n",
       "infected_1    625\n",
       "healthy_1     377\n",
       "Name: count, dtype: int64"
      ]
     },
     "metadata": {},
     "output_type": "display_data"
    }
   ],
   "source": [
    "display(adata_l_marc.obs.head(2),adata_l_marc.obs.shape,\n",
    "    adata_l_marc.obs['macacaID'].value_counts())"
   ]
  },
  {
   "cell_type": "markdown",
   "id": "95e56e5b-a837-47c9-bc23-8ccb9a8c1a62",
   "metadata": {},
   "source": [
    "# 与Mtb ma mac 合并"
   ]
  },
  {
   "cell_type": "code",
   "execution_count": 12,
   "id": "e7ae7871-170b-437c-b879-9c30ca03bfab",
   "metadata": {},
   "outputs": [
    {
     "data": {
      "text/html": [
       "<div>\n",
       "<style scoped>\n",
       "    .dataframe tbody tr th:only-of-type {\n",
       "        vertical-align: middle;\n",
       "    }\n",
       "\n",
       "    .dataframe tbody tr th {\n",
       "        vertical-align: top;\n",
       "    }\n",
       "\n",
       "    .dataframe thead th {\n",
       "        text-align: right;\n",
       "    }\n",
       "</style>\n",
       "<table border=\"1\" class=\"dataframe\">\n",
       "  <thead>\n",
       "    <tr style=\"text-align: right;\">\n",
       "      <th></th>\n",
       "      <th>status</th>\n",
       "      <th>_batch</th>\n",
       "      <th>treatment</th>\n",
       "      <th>cell_type</th>\n",
       "      <th>macr_cell_type</th>\n",
       "      <th>note</th>\n",
       "    </tr>\n",
       "    <tr>\n",
       "      <th>index</th>\n",
       "      <th></th>\n",
       "      <th></th>\n",
       "      <th></th>\n",
       "      <th></th>\n",
       "      <th></th>\n",
       "      <th></th>\n",
       "    </tr>\n",
       "  </thead>\n",
       "  <tbody>\n",
       "    <tr>\n",
       "      <th>AAACCCAGTGGTCTTA-1-0</th>\n",
       "      <td>healthy</td>\n",
       "      <td>healthy_1</td>\n",
       "      <td>healthy</td>\n",
       "      <td>macrophage</td>\n",
       "      <td>macrophage</td>\n",
       "      <td>Macaca_mulatta_healthy_lung_20200911</td>\n",
       "    </tr>\n",
       "    <tr>\n",
       "      <th>AAAGTGAGTCCTGTCT-1-0</th>\n",
       "      <td>healthy</td>\n",
       "      <td>healthy_1</td>\n",
       "      <td>healthy</td>\n",
       "      <td>macrophage</td>\n",
       "      <td>macrophage</td>\n",
       "      <td>Macaca_mulatta_healthy_lung_20200911</td>\n",
       "    </tr>\n",
       "  </tbody>\n",
       "</table>\n",
       "</div>"
      ],
      "text/plain": [
       "                       status     _batch treatment   cell_type macr_cell_type  \\\n",
       "index                                                                           \n",
       "AAACCCAGTGGTCTTA-1-0  healthy  healthy_1   healthy  macrophage     macrophage   \n",
       "AAAGTGAGTCCTGTCT-1-0  healthy  healthy_1   healthy  macrophage     macrophage   \n",
       "\n",
       "                                                      note  \n",
       "index                                                       \n",
       "AAACCCAGTGGTCTTA-1-0  Macaca_mulatta_healthy_lung_20200911  \n",
       "AAAGTGAGTCCTGTCT-1-0  Macaca_mulatta_healthy_lung_20200911  "
      ]
     },
     "metadata": {},
     "output_type": "display_data"
    },
    {
     "data": {
      "text/plain": [
       "(1630, 6)"
      ]
     },
     "metadata": {},
     "output_type": "display_data"
    }
   ],
   "source": [
    "adata_l_marc.obs['note'] = adata_l_marc.obs['sampleID']\n",
    "adata_l_marc.obs['status'] = adata_l_marc.obs['status'].map({\n",
    "    'infected':'COVID19','healthy':'healthy'})\n",
    "adata_l_marc.obs['treatment'] = adata_l_marc.obs['status']\n",
    "adata_l_marc.obs = adata_l_marc.obs.loc[:,\n",
    "    'status,_batch,treatment,cell_type,macr_cell_type,note'.split(',')]\n",
    "display(adata_l_marc.obs.head(2),adata_l_marc.obs.shape)"
   ]
  },
  {
   "cell_type": "code",
   "execution_count": 13,
   "id": "8065d9d5-1dfe-4802-a239-c37f55a3d155",
   "metadata": {},
   "outputs": [],
   "source": [
    "adata_ma_mtb_mac = load_adata(p_cache.joinpath('disease','Mtb_ma_macrophage_delCD8_SCP642'))"
   ]
  },
  {
   "cell_type": "code",
   "execution_count": 14,
   "id": "aae86c52-874f-47e4-86bc-8e9b57aa9841",
   "metadata": {},
   "outputs": [
    {
     "data": {
      "text/html": [
       "<div>\n",
       "<style scoped>\n",
       "    .dataframe tbody tr th:only-of-type {\n",
       "        vertical-align: middle;\n",
       "    }\n",
       "\n",
       "    .dataframe tbody tr th {\n",
       "        vertical-align: top;\n",
       "    }\n",
       "\n",
       "    .dataframe thead th {\n",
       "        text-align: right;\n",
       "    }\n",
       "</style>\n",
       "<table border=\"1\" class=\"dataframe\">\n",
       "  <thead>\n",
       "    <tr style=\"text-align: right;\">\n",
       "      <th></th>\n",
       "      <th>status</th>\n",
       "      <th>_batch</th>\n",
       "      <th>treatment</th>\n",
       "      <th>cell_type</th>\n",
       "      <th>macr_cell_type</th>\n",
       "      <th>note</th>\n",
       "    </tr>\n",
       "  </thead>\n",
       "  <tbody>\n",
       "    <tr>\n",
       "      <th>Array2_28918_CAACGACACATC</th>\n",
       "      <td>Mtb</td>\n",
       "      <td>CD8a_19_0</td>\n",
       "      <td>CD8a</td>\n",
       "      <td>macrophage</td>\n",
       "      <td>macrophage</td>\n",
       "      <td>_batch=treatment;tb_infection_dose;batch</td>\n",
       "    </tr>\n",
       "    <tr>\n",
       "      <th>Array2_28918_CAGTATGAGATC</th>\n",
       "      <td>Mtb</td>\n",
       "      <td>CD8a_19_0</td>\n",
       "      <td>CD8a</td>\n",
       "      <td>macrophage</td>\n",
       "      <td>macrophage</td>\n",
       "      <td>_batch=treatment;tb_infection_dose;batch</td>\n",
       "    </tr>\n",
       "  </tbody>\n",
       "</table>\n",
       "</div>"
      ],
      "text/plain": [
       "                          status     _batch treatment   cell_type  \\\n",
       "Array2_28918_CAACGACACATC    Mtb  CD8a_19_0      CD8a  macrophage   \n",
       "Array2_28918_CAGTATGAGATC    Mtb  CD8a_19_0      CD8a  macrophage   \n",
       "\n",
       "                          macr_cell_type  \\\n",
       "Array2_28918_CAACGACACATC     macrophage   \n",
       "Array2_28918_CAGTATGAGATC     macrophage   \n",
       "\n",
       "                                                               note  \n",
       "Array2_28918_CAACGACACATC  _batch=treatment;tb_infection_dose;batch  \n",
       "Array2_28918_CAGTATGAGATC  _batch=treatment;tb_infection_dose;batch  "
      ]
     },
     "metadata": {},
     "output_type": "display_data"
    },
    {
     "data": {
      "text/plain": [
       "(18217, 6)"
      ]
     },
     "metadata": {},
     "output_type": "display_data"
    }
   ],
   "source": [
    "adata_ma_mtb_mac.obs['status'] = 'Mtb'\n",
    "adata_ma_mtb_mac.obs['note'] = '_batch=treatment;tb_infection_dose;batch'\n",
    "adata_ma_mtb_mac.obs = adata_ma_mtb_mac.obs.loc[:,\n",
    "    'status,_batch,treatment,cell_type,macr_cell_type,note'.split(',')]\n",
    "display(adata_ma_mtb_mac.obs.head(2),adata_ma_mtb_mac.obs.shape)"
   ]
  },
  {
   "cell_type": "code",
   "execution_count": 15,
   "id": "e2ee8293-7c44-41f1-b7c8-bc173276f5cd",
   "metadata": {},
   "outputs": [
    {
     "data": {
      "text/html": [
       "<div>\n",
       "<style scoped>\n",
       "    .dataframe tbody tr th:only-of-type {\n",
       "        vertical-align: middle;\n",
       "    }\n",
       "\n",
       "    .dataframe tbody tr th {\n",
       "        vertical-align: top;\n",
       "    }\n",
       "\n",
       "    .dataframe thead th {\n",
       "        text-align: right;\n",
       "    }\n",
       "</style>\n",
       "<table border=\"1\" class=\"dataframe\">\n",
       "  <thead>\n",
       "    <tr style=\"text-align: right;\">\n",
       "      <th></th>\n",
       "      <th>status</th>\n",
       "      <th>_batch</th>\n",
       "      <th>treatment</th>\n",
       "      <th>cell_type</th>\n",
       "      <th>macr_cell_type</th>\n",
       "      <th>note</th>\n",
       "    </tr>\n",
       "  </thead>\n",
       "  <tbody>\n",
       "    <tr>\n",
       "      <th>Array2_28918_CAACGACACATC;Mtb</th>\n",
       "      <td>Mtb</td>\n",
       "      <td>CD8a_19_0</td>\n",
       "      <td>CD8a</td>\n",
       "      <td>macrophage</td>\n",
       "      <td>macrophage</td>\n",
       "      <td>_batch=treatment;tb_infection_dose;batch</td>\n",
       "    </tr>\n",
       "    <tr>\n",
       "      <th>Array2_28918_CAGTATGAGATC;Mtb</th>\n",
       "      <td>Mtb</td>\n",
       "      <td>CD8a_19_0</td>\n",
       "      <td>CD8a</td>\n",
       "      <td>macrophage</td>\n",
       "      <td>macrophage</td>\n",
       "      <td>_batch=treatment;tb_infection_dose;batch</td>\n",
       "    </tr>\n",
       "  </tbody>\n",
       "</table>\n",
       "</div>"
      ],
      "text/plain": [
       "                              status     _batch treatment   cell_type  \\\n",
       "Array2_28918_CAACGACACATC;Mtb    Mtb  CD8a_19_0      CD8a  macrophage   \n",
       "Array2_28918_CAGTATGAGATC;Mtb    Mtb  CD8a_19_0      CD8a  macrophage   \n",
       "\n",
       "                              macr_cell_type  \\\n",
       "Array2_28918_CAACGACACATC;Mtb     macrophage   \n",
       "Array2_28918_CAGTATGAGATC;Mtb     macrophage   \n",
       "\n",
       "                                                                   note  \n",
       "Array2_28918_CAACGACACATC;Mtb  _batch=treatment;tb_infection_dose;batch  \n",
       "Array2_28918_CAGTATGAGATC;Mtb  _batch=treatment;tb_infection_dose;batch  "
      ]
     },
     "metadata": {},
     "output_type": "display_data"
    },
    {
     "data": {
      "text/plain": [
       "(19847, 6)"
      ]
     },
     "metadata": {},
     "output_type": "display_data"
    }
   ],
   "source": [
    "adata_merge_mac = sc.concat(\n",
    "    {\n",
    "        'Mtb':adata_ma_mtb_mac,\n",
    "        'COVID19':adata_l_marc\n",
    "    },index_unique=';'\n",
    ")\n",
    "display(adata_merge_mac.obs.head(2),adata_merge_mac.obs.shape)"
   ]
  },
  {
   "cell_type": "code",
   "execution_count": 16,
   "id": "84738b37-3a1e-47a2-9fef-ca67d6f16369",
   "metadata": {},
   "outputs": [
    {
     "name": "stdout",
     "output_type": "stream",
     "text": [
      "frist 10 adata.X nonzero elements:\n",
      " [[3 2 2 7 2 1 4 1 3 4]]\n",
      "[out] /public/workspace/licanchengup/link/res_publish/run/cache/disease/Mtb_COVID_merge_ma_macrophage\n"
     ]
    }
   ],
   "source": [
    "h5ad_to_mtx(adata_merge_mac,p_cache.joinpath('disease','Mtb_COVID_merge_ma_macrophage'))"
   ]
  },
  {
   "cell_type": "code",
   "execution_count": 17,
   "id": "67cb1f17-60cb-4d8d-97a1-b4107fbdb5e1",
   "metadata": {},
   "outputs": [
    {
     "name": "stdout",
     "output_type": "stream",
     "text": [
      "---------------------------------------------\n",
      "[finish]\n",
      "---------------------------------------------\n"
     ]
    }
   ],
   "source": [
    "print(\"\\n[finish]\\n\".center(100,\"-\"))"
   ]
  }
 ],
 "metadata": {
  "kernelspec": {
   "display_name": "publish",
   "language": "python",
   "name": "publish"
  },
  "language_info": {
   "codemirror_mode": {
    "name": "ipython",
    "version": 3
   },
   "file_extension": ".py",
   "mimetype": "text/x-python",
   "name": "python",
   "nbconvert_exporter": "python",
   "pygments_lexer": "ipython3",
   "version": "3.9.18"
  }
 },
 "nbformat": 4,
 "nbformat_minor": 5
}
