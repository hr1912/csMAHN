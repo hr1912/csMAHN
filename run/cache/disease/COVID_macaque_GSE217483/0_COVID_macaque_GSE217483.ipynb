{
 "cells": [
  {
   "cell_type": "markdown",
   "id": "c3ce6456-e59d-4174-b0bf-9fce21c8aff7",
   "metadata": {},
   "source": [
    "[GSE217483](https://www.ncbi.nlm.nih.gov/geo/query/acc.cgi?acc=GSE217483)\n",
    "\n",
    "在这里，我们分析了感染严重急性呼吸系统综合征冠状病毒2型的恒河猴的肺、肝、肾和大脑皮层的约77000个单核转录组。\n",
    "\n",
    "\n",
    "| tissue | status | batch | gender | macacaID | macacaID_count |\n",
    "| :--: | :--: | :--: | :--: | :--: | :--: |\n",
    "| cortex | healthy | 0 | male | Ctrl1 | 1996 |\n",
    "| cortex | healthy | 1 | male | Ctrl2 | 8349 |\n",
    "| cortex | infected | 0 | female | Case1 | 5827 |\n",
    "| cortex | infected | 0 | male | Case2 | 7434 |\n",
    "| kidney | healthy | 0 | male | Ctrl1 | 5307 |\n",
    "| kidney | infected | 0 | female | Case1 | 4733 |\n",
    "| kidney | infected | 0 | male | Case2 | 3510 |\n",
    "| liver | healthy | 0 | male | Ctrl1 | 4152 |\n",
    "| liver | infected | 0 | female | Case1 | 7510 |\n",
    "| liver | infected | 0 | male | Case2 | 6070 |\n",
    "| lung | healthy | 0 | male | Ctrl1 | 5360 |\n",
    "| lung | infected | 0 | female | Case1 | 9035 |\n",
    "| lung | infected | 0 | male | Case2 | 7746 |"
   ]
  },
  {
   "cell_type": "code",
   "execution_count": null,
   "id": "32757931-c12a-4f30-9787-44d0a91c6a6d",
   "metadata": {},
   "outputs": [],
   "source": [
    "import sys\n",
    "from pathlib import Path\n",
    "p_root = Path('link','res_publish')\n",
    "None if str(p_root) in sys.path else sys.path.append(str(p_root))\n"
   ]
  },
  {
   "cell_type": "code",
   "execution_count": null,
   "id": "a52cce6a-c073-4e9c-8666-b6e1f363b124",
   "metadata": {},
   "outputs": [],
   "source": [
    "from func import *"
   ]
  },
  {
   "cell_type": "code",
   "execution_count": null,
   "id": "87939c57-aa02-443d-acc4-1a423b4a6efd",
   "metadata": {},
   "outputs": [],
   "source": [
    "adata = sc.read_h5ad('GSE217483_Macaca_global_integration.h5ad')\n",
    "display(type(adata.X))\n",
    "adata.X = csr_matrix(adata.X)\n",
    "display(type(adata.X), adata)"
   ]
  },
  {
   "cell_type": "code",
   "execution_count": null,
   "id": "b1324ab5-80e5-43f6-98ec-d836a3a7a8dc",
   "metadata": {},
   "outputs": [],
   "source": [
    "temp = adata.X[:100, :100]\n",
    "display(np.ravel(temp[temp > 0])[:10])\n",
    "del temp"
   ]
  },
  {
   "cell_type": "code",
   "execution_count": null,
   "id": "74392839-2769-4627-8953-bf64db3ad204",
   "metadata": {},
   "outputs": [],
   "source": [
    "print(*adata.obs.columns, sep='\\n')"
   ]
  },
  {
   "cell_type": "code",
   "execution_count": null,
   "id": "e0d5553f-16e7-4a5f-ad56-331e3906e942",
   "metadata": {
    "scrolled": true
   },
   "outputs": [],
   "source": [
    "display(adata.obs.head(2))\n",
    "# for i in 'sampleID,status,macacaID,batch,gender,organ'.split(','):\n",
    "#     print(i.ljust(50,'-'),end='\\n\\n')\n",
    "#     display(adata.obs[i].value_counts())\n",
    "adata.obs = adata.obs.loc[:,\n",
    "                          'sampleID,fine_cell_type,status,macacaID,batch,gender,organ'.split(',')]\n",
    "adata.obs = adata.obs.rename(columns={'organ': 'tissue','fine_cell_type':'pre_fine_cell_type'})\n",
    "adata.obs['macacaID'] = adata.obs['macacaID'].str.replace(\n",
    "    'Ctrl', 'healthy_').str.replace('Case', 'infected_')\n",
    "adata.obs['_batch'] = adata.obs['macacaID']\n",
    "# new\n",
    "adata.obs['cell_type'] = adata.obs['pre_fine_cell_type'].map(\n",
    "    lambda k:{'Macrophage':'macrophage'}.setdefault(k,'')\n",
    ")\n",
    "adata.obs = adata.obs.loc[:,\n",
    "                          '_batch,sampleID,cell_type,pre_fine_cell_type,status,macacaID,batch,gender,tissue'.split(',')]\n",
    "display(adata.obs.head(2), adata.obs['pre_fine_cell_type'].value_counts())"
   ]
  },
  {
   "cell_type": "markdown",
   "id": "06eccba4-4107-40c5-a4b8-3e5c1bc5eae3",
   "metadata": {},
   "source": [
    "# lung"
   ]
  },
  {
   "cell_type": "code",
   "execution_count": null,
   "id": "725eadc4-23c2-4e55-ac61-9b564f6801fe",
   "metadata": {
    "scrolled": true
   },
   "outputs": [],
   "source": [
    "adata_l = adata[adata.obs['tissue'] == 'lung', :]\n",
    "display(\n",
    "    adata_l,\n",
    "    adata_l.obs.head(2),\n",
    "    adata_l.obs['tissue'].value_counts(),\n",
    "    adata_l.obs['_batch'].value_counts(),\n",
    "    adata_l.obs['pre_fine_cell_type'].value_counts())"
   ]
  },
  {
   "cell_type": "code",
   "execution_count": null,
   "id": "3ff7c021-f735-4e5f-b40f-b030f09c10cd",
   "metadata": {},
   "outputs": [],
   "source": [
    "# new\n",
    "adata_l_marc = adata_l[adata_l.obs['cell_type'] == 'macrophage']\n",
    "display(adata_l_marc,adata_l_marc.obs.head(2),adata_l_marc.obs['cell_type'].value_counts())"
   ]
  },
  {
   "cell_type": "code",
   "execution_count": null,
   "id": "12674c49-b939-490e-a964-dd04f6bb92b2",
   "metadata": {},
   "outputs": [],
   "source": [
    "adata_l_marc.obs['macr_cell_type'] =adata_l_marc.obs['cell_type']\n",
    "adata_l_marc.obs = adata_l_marc.obs.loc[:,\n",
    "                          '_batch,sampleID,cell_type,macr_cell_type,pre_fine_cell_type,status,macacaID,batch,gender,tissue'.split(',')]\n",
    "display(adata_l_marc,adata_l_marc.obs.head(2))"
   ]
  },
  {
   "cell_type": "code",
   "execution_count": null,
   "id": "ff84c3c6-75c0-4fa9-8519-f1a3f9051903",
   "metadata": {},
   "outputs": [],
   "source": [
    "# display(adata.obs['tissue'].value_counts())\n",
    "# for tissue in adata.obs['tissue'].unique():\n",
    "#     h5ad_to_mtx(adata[adata.obs['tissue'] == tissue, :],\n",
    "#                 'COVID_macaca_GSE217483_{}'.format(tissue))\n",
    "# print(\"\\n[finish]\\n\".center(100, \"-\"))\n",
    "h5ad_to_mtx(adata_l_marc,\n",
    "p_cache.joinpath('disease','COVID_ma_macrophage_GSE217483')\n",
    "           )"
   ]
  },
  {
   "cell_type": "code",
   "execution_count": null,
   "id": "67cb1f17-60cb-4d8d-97a1-b4107fbdb5e1",
   "metadata": {},
   "outputs": [],
   "source": [
    "print(\"\\n[finish]\\n\".center(100,\"-\"))"
   ]
  }
 ],
 "metadata": {
  "kernelspec": {
   "display_name": "csMAHN",
   "language": "python",
   "name": "csmahn"
  },
  "language_info": {
   "codemirror_mode": {
    "name": "ipython",
    "version": 3
   },
   "file_extension": ".py",
   "mimetype": "text/x-python",
   "name": "python",
   "nbconvert_exporter": "python",
   "pygments_lexer": "ipython3",
   "version": "3.9.18"
  }
 },
 "nbformat": 4,
 "nbformat_minor": 5
}
