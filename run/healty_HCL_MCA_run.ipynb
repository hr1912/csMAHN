{
 "cells": [
  {
   "cell_type": "markdown",
   "id": "fd2db94f-a10b-4da7-9f70-1dc623630579",
   "metadata": {},
   "source": [
    "```shell\n",
    "conda activate\n",
    "cd ~/link/res_publish/run\n",
    "jupyter nbconvert healty_HCL_MCA_run.ipynb --to python\n",
    "\n",
    "conda activate publish\n",
    "nohup python healty_HCL_MCA_run.py > nohup_healty_HCL_MCA_run.txt &\n",
    "jobs\n",
    "\n",
    "conda activate\n",
    "echo 'finish'\n",
    "```"
   ]
  },
  {
   "cell_type": "code",
   "execution_count": null,
   "id": "c0918bcc-5294-4135-b678-cf4535f66165",
   "metadata": {},
   "outputs": [],
   "source": [
    "import sys\n",
    "from pathlib import Path\n",
    "\n",
    "p_link = Path(\"/public/workspace/licanchengup/link\")\n",
    "p_publish = p_link.joinpath(\"res_publish\")\n",
    "p_run = p_publish.joinpath(\"run\")\n",
    "None if str(p_publish) in sys.path else sys.path.append(str(p_publish))"
   ]
  },
  {
   "cell_type": "code",
   "execution_count": null,
   "id": "4988b915-bdf0-4ff9-9be5-e800196a876e",
   "metadata": {
    "scrolled": true
   },
   "outputs": [],
   "source": [
    "from func import *"
   ]
  },
  {
   "cell_type": "code",
   "execution_count": null,
   "id": "b6ade923-508c-4785-8608-f41e217b6f8d",
   "metadata": {
    "scrolled": true
   },
   "outputs": [],
   "source": [
    "df_para = pd.read_csv(p_cache.joinpath(\n",
    "    'parameter_healty_HCL_MCA.csv'\n",
    "))\n",
    "for _i, _row in df_para.iterrows():\n",
    "    pass\n",
    "_row"
   ]
  },
  {
   "cell_type": "code",
   "execution_count": null,
   "id": "c525e00d-52c7-4a18-a6a7-9d2a0fcf63a1",
   "metadata": {
    "scrolled": true
   },
   "outputs": [],
   "source": [
    "n_epochs = [100, 200, 200]\n",
    "for is_1v1 in [\n",
    "    False,True\n",
    "]:\n",
    "    for _i, _row in df_para.iterrows():\n",
    "        run_cross_species_models(\n",
    "            path_adata1=_row['path_ref'],\n",
    "            path_adata2=_row['path_que'],\n",
    "            key_class1=_row['key_cell_type'],\n",
    "            key_class2=_row['key_cell_type'],\n",
    "            sp1=_row['sp_simple_ref'],\n",
    "            sp2=_row['sp_simple_que'],\n",
    "            tissue_name=_row['tissue'],\n",
    "            aligned=True,\n",
    "            resdir_tag='{}-map-{};epochs={};is_1v1={}'.format(\n",
    "                _row['name_ref'],\n",
    "                _row['name_que'],\n",
    "                sum(n_epochs),\n",
    "                is_1v1),\n",
    "            resdir=p_res,\n",
    "            models='csMAHN,came'.split(','), \n",
    "            **{'n_epochs': n_epochs, \n",
    "               'is_1v1': is_1v1})"
   ]
  },
  {
   "cell_type": "code",
   "execution_count": null,
   "id": "33681261-3222-44e6-9be1-d85e390bd3a7",
   "metadata": {},
   "outputs": [],
   "source": [
    "# SAMap is_1v1 = False\n",
    "for is_1v1 in [\n",
    "    False,\n",
    "    # True\n",
    "]:\n",
    "    for _i, _row in df_para.iterrows():\n",
    "        run_cross_species_models(\n",
    "            path_adata1=_row['path_ref'],\n",
    "            path_adata2=_row['path_que'],\n",
    "            key_class1=_row['key_cell_type'],\n",
    "            key_class2=_row['key_cell_type'],\n",
    "            sp1=_row['sp_simple_ref'],\n",
    "            sp2=_row['sp_simple_que'],\n",
    "            tissue_name=_row['tissue'],\n",
    "            aligned=True,\n",
    "            resdir_tag='{}-map-{};epochs={};is_1v1={}'.format(\n",
    "                _row['name_ref'],\n",
    "                _row['name_que'],\n",
    "                sum(n_epochs),\n",
    "                is_1v1),\n",
    "            resdir=p_res,\n",
    "            models='SAMap'.split(','), \n",
    "            **{'n_epochs': n_epochs, \n",
    "               'is_1v1': is_1v1})"
   ]
  },
  {
   "cell_type": "code",
   "execution_count": null,
   "id": "cb5a8d07-a5cd-441a-834a-908162bcecb0",
   "metadata": {},
   "outputs": [],
   "source": [
    "print(\"\\n[finish]\\n\".center(100,\"-\"))"
   ]
  }
 ],
 "metadata": {
  "kernelspec": {
   "display_name": "publish",
   "language": "python",
   "name": "publish"
  },
  "language_info": {
   "codemirror_mode": {
    "name": "ipython",
    "version": 3
   },
   "file_extension": ".py",
   "mimetype": "text/x-python",
   "name": "python",
   "nbconvert_exporter": "python",
   "pygments_lexer": "ipython3",
   "version": "3.9.18"
  }
 },
 "nbformat": 4,
 "nbformat_minor": 5
}
